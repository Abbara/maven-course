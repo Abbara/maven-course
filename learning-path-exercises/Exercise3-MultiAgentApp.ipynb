{
  "nbformat": 4,
  "nbformat_minor": 0,
  "metadata": {
    "colab": {
      "provenance": []
    },
    "kernelspec": {
      "name": "python3",
      "display_name": "Python 3"
    },
    "language_info": {
      "name": "python"
    }
  },
  "cells": [
    {
      "cell_type": "markdown",
      "source": [
        "# Introduction\n",
        "## **WELCOME!!👋👋**\n",
        "\n",
        "This notebook is the final exercise in the Learning Path for the Maven Course: [Build Multi-Agent Applications - A Bootcamp](https://maven.com/aggregate-intellect/llm-systems). Before proceeding, ensure you have reviewed and understood the concepts covered in the previous two notebooks. These earlier lessons explored building:\n",
        "\n",
        "- A Retrieval-Augmented Generation (RAG) Application using LangChain\n",
        "- A Single-Agent Application using LangGraph.\n",
        "\n",
        "By completing those, you'll be better prepared to tackle the challenges in this final notebook. Let’s put everything together and build a multi-agent application!\n"
      ],
      "metadata": {
        "id": "xRLG_7IAluP0"
      }
    },
    {
      "cell_type": "markdown",
      "source": [
        "## Objective 🎯:\n",
        "\n",
        "The goal is to create an multi-agent system that:\n",
        "- Create a comprehensive proposal for pitching a new weight loss drug to a pharma company (e.g. Bausch Health)\n",
        "- Incorporates a critique process, to provide feedback on the proposal\n",
        "- Generate code to visualize financial projections based on the proposal\n",
        "\n",
        "This builds on the example we looked at in the second exercise."
      ],
      "metadata": {
        "id": "FshB98gbtfaf"
      }
    },
    {
      "cell_type": "markdown",
      "source": [
        "# Libraries Required for the Excercise"
      ],
      "metadata": {
        "id": "NNWI7QO2nl31"
      }
    },
    {
      "cell_type": "code",
      "execution_count": 1,
      "metadata": {
        "id": "W8bRu0s2VZ2m"
      },
      "outputs": [],
      "source": [
        "%%capture --no-stderr\n",
        "!pip install -U --quiet langchain-community langchain_openai tavily-python langgraph"
      ]
    },
    {
      "cell_type": "markdown",
      "source": [
        "## Setup Required - APIs\n",
        "\n",
        "In this notebook you'll be using OpenAI models for reasoning and generation, Tavily for searching facts online, langsmith for tracing and langgraph for agent orchestration."
      ],
      "metadata": {
        "id": "sU1Djw3WntGb"
      }
    },
    {
      "cell_type": "code",
      "source": [
        "import getpass\n",
        "import os\n",
        "from langsmith import utils\n",
        "\n",
        "os.environ[\"LANGCHAIN_TRACING_V2\"] = \"true\"\n",
        "# define your langchain project name here\n",
        "os.environ[\"LANGCHAIN_PROJECT\"] = \"maven-course-learning-path\""
      ],
      "metadata": {
        "id": "xmk9ZXZqVoUZ"
      },
      "execution_count": 2,
      "outputs": []
    },
    {
      "cell_type": "code",
      "source": [
        "def _set_env(key: str):\n",
        "    if key not in os.environ:\n",
        "        os.environ[key] = getpass.getpass(f\"Enter your {key}:\")\n",
        "\n",
        "_set_env(\"OPENAI_API_KEY\")\n",
        "_set_env(\"LANGCHAIN_API_KEY\")\n",
        "_set_env(\"TAVILY_API_KEY\")"
      ],
      "metadata": {
        "colab": {
          "base_uri": "https://localhost:8080/"
        },
        "id": "UK5FIwIvVp8d",
        "outputId": "f5570cef-4f18-49b7-c7c6-73d6ba7d8f02"
      },
      "execution_count": 3,
      "outputs": [
        {
          "name": "stdout",
          "output_type": "stream",
          "text": [
            "Enter your OPENAI_API_KEY:··········\n",
            "Enter your LANGCHAIN_API_KEY:··········\n",
            "Enter your TAVILY_API_KEY:··········\n"
          ]
        }
      ]
    },
    {
      "cell_type": "code",
      "source": [
        "print('Is Tracing is enabled:', utils.tracing_is_enabled())"
      ],
      "metadata": {
        "colab": {
          "base_uri": "https://localhost:8080/"
        },
        "id": "NFt1fX7GVreT",
        "outputId": "e5765061-da92-4120-8343-96ab59fe6b1f"
      },
      "execution_count": 4,
      "outputs": [
        {
          "output_type": "stream",
          "name": "stdout",
          "text": [
            "Is Tracing is enabled: True\n"
          ]
        }
      ]
    },
    {
      "cell_type": "markdown",
      "source": [
        "## Imports"
      ],
      "metadata": {
        "id": "YnSaq3uIpOmZ"
      }
    },
    {
      "cell_type": "code",
      "source": [
        "from typing import Literal\n",
        "from pydantic import BaseModel, Field\n",
        "from langchain_openai import ChatOpenAI\n",
        "\n",
        "from langgraph.checkpoint.memory import MemorySaver\n",
        "from langgraph.graph import END, START, StateGraph, MessagesState\n",
        "from langgraph.prebuilt import ToolNode\n",
        "\n",
        "from langchain_core.messages import HumanMessage, SystemMessage\n",
        "from langchain_core.runnables import RunnableConfig\n",
        "\n",
        "from langchain_community.tools.tavily_search import TavilySearchResults"
      ],
      "metadata": {
        "id": "wP7us37mVt3f"
      },
      "execution_count": 5,
      "outputs": []
    },
    {
      "cell_type": "code",
      "source": [
        "tavily_tool = TavilySearchResults(max_results=2)"
      ],
      "metadata": {
        "id": "n2mM-FutWhni"
      },
      "execution_count": 7,
      "outputs": []
    },
    {
      "cell_type": "markdown",
      "source": [
        "## Define Nodes and Routing Logic"
      ],
      "metadata": {
        "id": "nwiZBLndpTlb"
      }
    },
    {
      "cell_type": "code",
      "source": [
        "# Define the structured output for the Researcher node\n",
        "class ResearcherResponse(BaseModel):\n",
        "    \"\"\"Respond to the user with this\"\"\"\n",
        "    Net_Profit_year_1: float = Field(description=\"Forecasted net profit to bauch health after sales of wieght loss drug in year 1\")\n",
        "    Net_Profit_year_2: float = Field(description=\"Forecasted net profit to bauch health after sales of wieght loss drug in year 2\")\n",
        "    Net_Profit_year_3: float = Field(description=\"Forecasted net profit to bauch health after sales of wieght loss drug in year 3\")\n",
        "    Cost_of_Investment_year_1: float = Field(description=\"Forecasted cost of investment to bauch health for the wieght loss drug in year 1\")\n",
        "    Cost_of_Investment_year_2: float = Field(description=\"Forecasted cost of investment to bauch health for the wieght loss drug in year 2\")\n",
        "    Cost_of_Investment_year_3: float = Field(description=\"Forecasted cost of investment to bauch health for the wieght loss drug in year 3\")\n",
        ""
      ],
      "metadata": {
        "id": "nONx96FThCBA"
      },
      "execution_count": 8,
      "outputs": []
    },
    {
      "cell_type": "code",
      "source": [
        "# Define the structured output for the Researcher node\n",
        "class CritiqueResponse(BaseModel):\n",
        "    \"\"\"Respond to the user with this\"\"\"\n",
        "    proposal_feedback: str = Field(description=\"Feedback of the critique agent on the sales proposal generated for the weight loss drug by the proposal agent\")\n",
        "    accept: bool = Field(description=\"Whether to accept the proposal or not\")"
      ],
      "metadata": {
        "id": "9OAYCRImhEcC"
      },
      "execution_count": 9,
      "outputs": []
    },
    {
      "cell_type": "code",
      "source": [
        "# Define the state with a messages key and a step counter\n",
        "class AgentState(MessagesState):\n",
        "    step_count: int\n",
        "    researcher_response: ResearcherResponse\n",
        "    proposal: str\n",
        "    proposal_accepted: bool\n",
        "    graph_code: str"
      ],
      "metadata": {
        "id": "rYE-EkWUhGXp"
      },
      "execution_count": 10,
      "outputs": []
    },
    {
      "cell_type": "code",
      "source": [
        "# Define the node that calls the model\n",
        "def call_research_model(\n",
        "    state: AgentState,\n",
        "    config: RunnableConfig,\n",
        "):\n",
        "    # this is similar to customizing the create_react_agent with state_modifier, but is a lot more flexible\n",
        "    system_prompt = SystemMessage(\"You are a helpful AI assistant, please respond to the users query to the best of your ability!\")\n",
        "    model = ChatOpenAI(model=\"gpt-4o-mini\")\n",
        "    tools = [tavily_tool]\n",
        "    model = model.bind_tools(tools)\n",
        "    response = model.invoke([system_prompt] + state['messages'], config)\n",
        "    # We return a list, because this will get added to the existing list\n",
        "    current_count = state.setdefault('step_count', 0)\n",
        "    return {\"messages\": [response], 'step_count': current_count + 1}"
      ],
      "metadata": {
        "id": "_MJ7prfhhJul"
      },
      "execution_count": 11,
      "outputs": []
    },
    {
      "cell_type": "code",
      "source": [
        "# Define the function that responds to the user\n",
        "def respond(state: AgentState):\n",
        "    # We call the model with structured output in order to return the same format to the user every time\n",
        "    # state['messages'][-2] is the last ToolMessage in the convo, which we convert to a HumanMessage for the model to use\n",
        "    # We could also pass the entire chat history, but this saves tokens since all we care to structure is the output of the tool\n",
        "    model = ChatOpenAI(model=\"gpt-4o-mini\")\n",
        "    response = model.with_structured_output(ResearcherResponse).invoke([HumanMessage(content=state['messages'][-1].content)])\n",
        "    # We return the final answer\n",
        "    return {'proposal':state['messages'][-1].content,\"researcher_response\": response}"
      ],
      "metadata": {
        "id": "wfMKKfWnhMOa"
      },
      "execution_count": 12,
      "outputs": []
    },
    {
      "cell_type": "code",
      "source": [
        "# Define the node that calls the model\n",
        "def call_critique_model(\n",
        "    state: AgentState,\n",
        "    config: RunnableConfig,\n",
        "):\n",
        "    critique_prompt = \"\"\"You are tasked with reviewing a sales proposal generated by a LLM. Review the proposal and provide\n",
        "    clear feedback and actionable feedback on any spelling mistakes, don't comment on any other aspect.\n",
        "    If it seems like the proposal is fine, then in proposal feedback mention that the proposal is good and accept the proposal.\n",
        "    Otherwise provide concise proposal feedback and reject the proposal.\n",
        "    \"\"\"\n",
        "    model = ChatOpenAI(model=\"gpt-4o-mini\")\n",
        "    messages = [\n",
        "                   {\"role\": \"user\", \"content\": critique_prompt},\n",
        "                    {\"role\": \"assistant\", \"content\": state['proposal']},\n",
        "               ]\n",
        "    response = model.with_structured_output(CritiqueResponse).invoke(messages)\n",
        "    # We return a list, because this will get added to the existing list\n",
        "    accepted = response.accept\n",
        "    if accepted:\n",
        "        return {\n",
        "            \"messages\": [\n",
        "                {\"role\": \"user\", \"content\": response.proposal_feedback},\n",
        "                {\"role\": \"assistant\", \"content\": \"okay, sending to this to coder agent\"}],\n",
        "            \"proposal_accepted\": True\n",
        "        }\n",
        "    else:\n",
        "        return {\n",
        "            \"messages\": [\n",
        "                {\"role\": \"user\", \"content\": response.proposal_feedback},\n",
        "            ],\n",
        "            \"proposal_accepted\": False\n",
        "        }"
      ],
      "metadata": {
        "id": "o0staHoshPjS"
      },
      "execution_count": 13,
      "outputs": []
    },
    {
      "cell_type": "code",
      "source": [
        "def route_critique(state: AgentState) -> Literal[\"research_agent\", 'coder']:\n",
        "    if state['proposal_accepted'] or state['step_count'] > 3:\n",
        "        return 'coder'\n",
        "    else:\n",
        "        return \"research_agent\""
      ],
      "metadata": {
        "id": "KL8Z6o9BhRrU"
      },
      "execution_count": 14,
      "outputs": []
    },
    {
      "cell_type": "code",
      "source": [
        "# Define the node that calls the model\n",
        "def call_coder_model(\n",
        "    state: AgentState,\n",
        "    config: RunnableConfig,\n",
        "):\n",
        "    coder_prompt = \"\"\"You are tasked with generating clear and executable Python code to create a graph based on sales proposal data produced by an LLM.\n",
        "    The graph should represent the forecasted ROI (Return on Investment) for the next 3 years, using the provided data for Net_Profits and Cost_of_Investments for different years.\n",
        "    Use the formula: ROI = (Net_Profits / Cost_of_Investments) * 100.\n",
        "    Ensure the graph is well-labeled and visually clear:\n",
        "    The X-axis should represent the years.\n",
        "    The Y-axis should represent the ROI percentage.\n",
        "    Add appropriate axis labels, a title, and a legend.\n",
        "    Scale the axes appropriately to fit the data.\n",
        "    Use a visually distinct line or bar plot to represent the ROI values over the years.\n",
        "    The output should be Python code only, with no additional commentary or explanation.\n",
        "    Ensure the code is executable without requiring additional modifications.\n",
        "    \"\"\"\n",
        "    coder_agent_context = f\"\"\"\n",
        "    Net_Profit_year_1: {state['researcher_response'].Net_Profit_year_1},\n",
        "    Net_Profit_year_2: {state['researcher_response'].Net_Profit_year_2},\n",
        "    Net_Profit_year_3: {state['researcher_response'].Net_Profit_year_3},\n",
        "    Cost_of_Investment_year_1: {state['researcher_response'].Cost_of_Investment_year_1},\n",
        "    Cost_of_Investment_year_2: {state['researcher_response'].Cost_of_Investment_year_2},\n",
        "    Cost_of_Investment_year_3: {state['researcher_response'].Cost_of_Investment_year_3},\n",
        "    \"\"\"\n",
        "\n",
        "    messages = [\n",
        "                   {\"role\": \"user\", \"content\": coder_prompt},\n",
        "                    {\"role\": \"assistant\", \"content\": coder_agent_context},\n",
        "               ]\n",
        "    model = ChatOpenAI(model=\"gpt-4o-mini\")\n",
        "    response = model.invoke(messages, config)\n",
        "\n",
        "    return {\"graph_code\": response.content}"
      ],
      "metadata": {
        "id": "zyhSQXAdhUII"
      },
      "execution_count": 15,
      "outputs": []
    },
    {
      "cell_type": "code",
      "source": [
        "# Define the function that determines whether to continue or not\n",
        "def should_continue(state: AgentState):\n",
        "    messages = state[\"messages\"]\n",
        "    last_message = messages[-1]\n",
        "    # If there is no function call, then we respond to the user\n",
        "    if not last_message.tool_calls:\n",
        "        return \"respond\"\n",
        "    # Otherwise if there is, we continue\n",
        "    else:\n",
        "        return \"continue\""
      ],
      "metadata": {
        "id": "hdEJ5vbAhWFl"
      },
      "execution_count": 16,
      "outputs": []
    },
    {
      "cell_type": "markdown",
      "source": [
        "## Agent Workflow"
      ],
      "metadata": {
        "id": "sl95zV0Jp5Q6"
      }
    },
    {
      "cell_type": "code",
      "source": [
        "search_tool_node = ToolNode([tavily_tool])\n",
        "\n",
        "# Define a new graph\n",
        "workflow = StateGraph(AgentState)\n",
        "\n",
        "# Define the two nodes we will cycle between\n",
        "workflow.add_node(\"research_agent\", call_research_model)\n",
        "workflow.add_node(\"respond\", respond)\n",
        "workflow.add_node(\"search_tool\", search_tool_node)\n",
        "workflow.add_node('critique', call_critique_model)\n",
        "workflow.add_node('coder', call_coder_model)\n",
        "\n",
        "# Set the entrypoint as `agent`\n",
        "# This means that this node is the first one called\n",
        "workflow.add_edge(START, \"research_agent\")\n",
        "\n",
        "# We now add a conditional edge\n",
        "# We now add a conditional edge\n",
        "workflow.add_conditional_edges(\n",
        "    \"research_agent\",\n",
        "    should_continue,\n",
        "    {\n",
        "        \"continue\": \"search_tool\",\n",
        "        \"respond\": \"respond\",\n",
        "    },\n",
        ")\n",
        "\n",
        "# We now add a normal edge from `tools` to `agent`.\n",
        "# This means that after `tools` is called, `agent` node is called next.\n",
        "workflow.add_edge(\"search_tool\", 'research_agent')\n",
        "workflow.add_edge(\"respond\", 'critique')\n",
        "workflow.add_conditional_edges(\"critique\", route_critique)\n",
        "workflow.add_edge(\"coder\", END)\n",
        "\n",
        "# Initialize memory to persist state between graph runs\n",
        "checkpointer = MemorySaver()\n",
        "\n",
        "# This compiles it into a LangChain Runnable,\n",
        "# meaning you can use it as you would any other runnable.\n",
        "# Note that we're (optionally) passing the memory when compiling the graph\n",
        "# This is so that the memory is initialized with the graph\n",
        "# This is useful if you want to persist state between runs\n",
        "graph = workflow.compile(checkpointer=checkpointer, interrupt_before=[\"coder\"])"
      ],
      "metadata": {
        "id": "z4aWGqSchaCG"
      },
      "execution_count": 17,
      "outputs": []
    },
    {
      "cell_type": "markdown",
      "source": [
        "## Visualize Agent Workflow"
      ],
      "metadata": {
        "id": "5zs8r71Xp-35"
      }
    },
    {
      "cell_type": "code",
      "source": [
        "def display_graph():\n",
        "  from IPython.display import Image, display\n",
        "\n",
        "  try:\n",
        "      display(Image(graph.get_graph(xray=True).draw_mermaid_png()))\n",
        "  except Exception:\n",
        "      # This requires some extra dependencies and is optional\n",
        "      pass"
      ],
      "metadata": {
        "id": "vnKsPlsdhc_k"
      },
      "execution_count": 18,
      "outputs": []
    },
    {
      "cell_type": "code",
      "source": [
        "display_graph()"
      ],
      "metadata": {
        "colab": {
          "base_uri": "https://localhost:8080/",
          "height": 614
        },
        "id": "2sV7EkpVjuGR",
        "outputId": "91f9bf16-5940-40d0-a3c9-dfe66f0c1d43"
      },
      "execution_count": 19,
      "outputs": [
        {
          "output_type": "display_data",
          "data": {
            "image/png": "[encoded data removed]",
            "text/plain": [
              "<IPython.core.display.Image object>"
            ]
          },
          "metadata": {}
        }
      ]
    },
    {
      "cell_type": "markdown",
      "source": [
        "## Invoke Agent"
      ],
      "metadata": {
        "id": "awbYNAEyqHeI"
      }
    },
    {
      "cell_type": "code",
      "source": [
        "def get_response(input_prompt, thread):\n",
        "\n",
        "\n",
        "  return graph.invoke(\n",
        "      {\"messages\": [HumanMessage(content=input_prompt)]},\n",
        "      config=thread\n",
        "  )"
      ],
      "metadata": {
        "id": "QddU3kdAhiIA"
      },
      "execution_count": 20,
      "outputs": []
    },
    {
      "cell_type": "code",
      "source": [
        "input_prompt = \"\"\"You are an AI assistant tasked with creating a proposal for a new weight loss drug to pitch to Bausch Health.\n",
        "Use the Tavily search tool to gather information about Bausch Health and the pharmaceutical industry.\n",
        "\n",
        "Your proposal should include:\n",
        "1. Executive Summary\n",
        "2. Company Overview (Bausch Health)\n",
        "3. Product Description\n",
        "4. Market Analysis\n",
        "5. Marketing Strategy\n",
        "6. Financial Projections\n",
        "   - Include estimated production costs\n",
        "   - Projected sales and revenue\n",
        "7. Projections for Net_Profit for next 3 years\n",
        "8. Projections for Cost_of_Investment for next 3 years\n",
        "\n",
        "Ensure your proposal is well-structured, informative, and persuasive.\n",
        "\"\"\""
      ],
      "metadata": {
        "id": "Luu4yq4IhftT"
      },
      "execution_count": 21,
      "outputs": []
    },
    {
      "cell_type": "code",
      "source": [
        "# Run the graph\n",
        "thread = {\"configurable\": {\"thread_id\": 101}}\n",
        "state = get_response(input_prompt, thread)\n",
        "state"
      ],
      "metadata": {
        "colab": {
          "base_uri": "https://localhost:8080/"
        },
        "id": "fJnUcQpfht5i",
        "outputId": "d28d8aab-bf68-47a4-d3cc-bca0b8151635"
      },
      "execution_count": 22,
      "outputs": [
        {
          "output_type": "execute_result",
          "data": {
            "text/plain": [
              "{'messages': [HumanMessage(content='You are an AI assistant tasked with creating a proposal for a new weight loss drug to pitch to Bausch Health.\\nUse the Tavily search tool to gather information about Bausch Health and the pharmaceutical industry.\\n\\nYour proposal should include:\\n1. Executive Summary\\n2. Company Overview (Bausch Health)\\n3. Product Description\\n4. Market Analysis\\n5. Marketing Strategy\\n6. Financial Projections\\n   - Include estimated production costs\\n   - Projected sales and revenue\\n7. Projections for Net_Profit for next 3 years\\n8. Projections for Cost_of_Investment for next 3 years\\n\\nEnsure your proposal is well-structured, informative, and persuasive.\\n', additional_kwargs={}, response_metadata={}, id='a4644918-a0f8-4f8b-b23d-a2a4ae2510d8'),\n",
              "  AIMessage(content='', additional_kwargs={'tool_calls': [{'id': 'call_MzIPbjHuwcAVXOm0DVoqQnM3', 'function': {'arguments': '{\"query\": \"Bausch Health overview\"}', 'name': 'tavily_search_results_json'}, 'type': 'function'}, {'id': 'call_2rKFtLPyJtcg6rNvr1NVYLK3', 'function': {'arguments': '{\"query\": \"pharmaceutical industry trends 2023\"}', 'name': 'tavily_search_results_json'}, 'type': 'function'}, {'id': 'call_ms2M3ZpgRhIxomIi2JnYkjym', 'function': {'arguments': '{\"query\": \"weight loss drugs market analysis 2023\"}', 'name': 'tavily_search_results_json'}, 'type': 'function'}], 'refusal': None}, response_metadata={'token_usage': {'completion_tokens': 86, 'prompt_tokens': 237, 'total_tokens': 323, 'completion_tokens_details': {'accepted_prediction_tokens': 0, 'audio_tokens': 0, 'reasoning_tokens': 0, 'rejected_prediction_tokens': 0}, 'prompt_tokens_details': {'audio_tokens': 0, 'cached_tokens': 0}}, 'model_name': 'gpt-4o-mini-2024-07-18', 'system_fingerprint': 'fp_3de1288069', 'finish_reason': 'tool_calls', 'logprobs': None}, id='run-7ad93574-713c-41f4-aaa1-9a33c441014e-0', tool_calls=[{'name': 'tavily_search_results_json', 'args': {'query': 'Bausch Health overview'}, 'id': 'call_MzIPbjHuwcAVXOm0DVoqQnM3', 'type': 'tool_call'}, {'name': 'tavily_search_results_json', 'args': {'query': 'pharmaceutical industry trends 2023'}, 'id': 'call_2rKFtLPyJtcg6rNvr1NVYLK3', 'type': 'tool_call'}, {'name': 'tavily_search_results_json', 'args': {'query': 'weight loss drugs market analysis 2023'}, 'id': 'call_ms2M3ZpgRhIxomIi2JnYkjym', 'type': 'tool_call'}], usage_metadata={'input_tokens': 237, 'output_tokens': 86, 'total_tokens': 323, 'input_token_details': {'audio': 0, 'cache_read': 0}, 'output_token_details': {'audio': 0, 'reasoning': 0}}),\n",
              "  ToolMessage(content='[{\"url\": \"https://stockanalysis.com/stocks/bhc/company/\", \"content\": \"(BHC) Company Profile & Overview - Stock Analysis Stocks Top Stocks IPOs IPO News Bausch Health Companies Inc. operates as a diversified specialty pharmaceutical and medical device company in the United States and internationally. It develops, manufactures, and markets a range of products primarily in gastroenterology, hepatology, neurology, dermatology, international pharmaceuticals, over-the-counter (OTC) products, aesthetic medical devices, and eye health. The company operates through five segments: Salix, International, Solta Medical, Diversified, and Bausch + Lomb. Bausch Health Companies Inc. is headquartered in Laval, Canada. Thomas Appio Executive Vice President and Chief Operating Officer Executive Vice President and Chief Human Resources and Communications Officer Executive Vice President of Market Access, Commercial Operations, Neurology, Generics and Government Affairs Stocks IPOs\"}, {\"url\": \"https://finance.yahoo.com/quote/BHC/\", \"content\": \"Bausch Health Companies Inc. (BHC) Stock Price, News, Quote & History - Yahoo Finance Health news Stock Market Stock Market Bausch Health Companies Inc. Bausch Health Companies Inc. Overview Drug Manufacturers - Specialty & Generic / Healthcare Bausch Health Companies Inc. operates as a diversified specialty pharmaceutical and medical device company in the United States and internationally. It develops, manufactures, and markets a range of products primarily in gastroenterology, hepatology, neurology, dermatology, international pharmaceuticals, over-the-counter (OTC) products, aesthetic medical devices, and eye health. The company was formerly known as Valeant Pharmaceuticals International, Inc. and changed its name to Bausch Health Companies Inc. in July 2018. More about Bausch Health Companies Inc. Recent News: BHC BHC Bausch Health Companies Inc. 6.32\"}]', name='tavily_search_results_json', id='d3a80b3f-c35d-440a-8b51-e6ad8c594065', tool_call_id='call_MzIPbjHuwcAVXOm0DVoqQnM3', artifact={'query': 'Bausch Health overview', 'follow_up_questions': None, 'answer': None, 'images': [], 'results': [{'title': 'Bausch Health Companies Inc. (BHC) Company Profile & Overview - Stock ...', 'url': 'https://stockanalysis.com/stocks/bhc/company/', 'content': '(BHC) Company Profile & Overview - Stock Analysis Stocks Top Stocks IPOs IPO News Bausch Health Companies Inc. operates as a diversified specialty pharmaceutical and medical device company in the United States and internationally. It develops, manufactures, and markets a range of products primarily in gastroenterology, hepatology, neurology, dermatology, international pharmaceuticals, over-the-counter (OTC) products, aesthetic medical devices, and eye health. The company operates through five segments: Salix, International, Solta Medical, Diversified, and Bausch + Lomb. Bausch Health Companies Inc. is headquartered in Laval, Canada. Thomas Appio Executive Vice President and Chief Operating Officer Executive Vice President and Chief Human Resources and Communications Officer Executive Vice President of Market Access, Commercial Operations, Neurology, Generics and Government Affairs Stocks IPOs', 'score': 0.9994319, 'raw_content': None}, {'title': 'Bausch Health Companies Inc. (BHC) - Yahoo Finance', 'url': 'https://finance.yahoo.com/quote/BHC/', 'content': 'Bausch Health Companies Inc. (BHC) Stock Price, News, Quote & History - Yahoo Finance Health news Stock Market Stock Market Bausch Health Companies Inc. Bausch Health Companies Inc. Overview Drug Manufacturers - Specialty & Generic / Healthcare Bausch Health Companies Inc. operates as a diversified specialty pharmaceutical and medical device company in the United States and internationally. It develops, manufactures, and markets a range of products primarily in gastroenterology, hepatology, neurology, dermatology, international pharmaceuticals, over-the-counter (OTC) products, aesthetic medical devices, and eye health. The company was formerly known as Valeant Pharmaceuticals International, Inc. and changed its name to Bausch Health Companies Inc. in July 2018. More about Bausch Health Companies Inc. Recent News: BHC BHC Bausch Health Companies Inc. 6.32', 'score': 0.9991474, 'raw_content': None}], 'response_time': 2.6}),\n",
              "  ToolMessage(content='[{\"url\": \"https://www.iqvia.com/locations/united-states/blogs/2023/07/insights-into-the-2023-us-pharmaceutical-market\", \"content\": \"Figure 2: Share of spending at estimated net manufacturer prices\\\\nImmunology and antithrombotics currently lead short- and long-term sales growth, as illustrated in Figure 3.\\\\nFigure 3: Sales growth in top 10 therapy areas, February 20\\\\nAlmost 700 pharmacies have closed in the U.S. retail sector over the last two years, with numbers of stores forecast to continue to decrease, including closures at CVS, Walgreens, and Rite Aid. \\\\\"Top Issues for Pharma to Watch in 2022 and 2023\\\\nShare PAGE\\\\nTo date, key factors in the 2023 U.S. pharmaceutical market include the fact that biologics continue to grow at a higher pace than non-biologics (with specialty drugs1 accounting for more than half of the total market) while revenues from unbranded generics continue to decrease despite rising prescription rates. 1 IQVIA defines specialty drugs as ones that meet these criteria:\\\\nTop Trends to Watch in 2023\\\\n2023 is poised to be an important inflection point for much of healthcare in the United States: New strategies and technologies for educating and engaging healthcare providers, rising expectations, but stagnating engagement from patients, and a shifting legislative and regulatory landscape. Figure 6: Pharmaceutical product launches by therapeutic category in 2021-23\\\\nTo date in 2023, trends in the U.S. pharmaceutical market include:\\\\nAn understanding of these trends and how they will likely play out in future can support sponsors in successfully developing and modifying strategies for their commercial operations.\\\\n Top Issues for Pharma to Watch in 2022 and 2023\\\\nBringing together unparalleled healthcare data, advanced analytics, innovative technologies, and healthcare expertise to create intelligent connections that speed the development and commercialization of innovative medicines to improve patient lives.\\\\n\"}, {\"url\": \"https://www.pharmamanufacturing.com/home/article/33002742/key-pharma-trends-in-2023\", \"content\": \"Beginning of\\\\nthe end of traditional commercial roles\\\\nWhen a leader in pharma is planning\\\\nto launch a specialty drug, there is a common realization that the way they\\\\nhave structured and scaled in the past is the exact opposite of what is\\\\nrequired to successfully launch these new drugs.\\\\n This, in turn, puts a lot of\\\\npressure on other functional areas like commercial, which is already playing\\\\ncatch-up with the speed of drug development.\\\\nHEOR/RWE: The\\\\ngiant that is just getting started\\\\nIt’s no news that real-world evidence\\\\n(RWE) and health economics and outcomes research (HEOR) continues to gain\\\\nimportance with spending increasing every year. Jaswinder Chadha | Co-founder & CEO, Axtria Inc.\\\\nLatest from Home\\\\nPharma Manufacturing highlights the top threes of 2023\\\\nShedding stigmas\\\\nPharma\\'s weight loss challenge: The incretin effect\\\\nOSD soars: Advancements leading the way in drug delivery\\\\neBook: Pharma predictions & trends 2023\\\\n Our customers have started to realize that their commercial teams cannot\\\\nsuccessfully market products if they:\\\\nThe need of the hour is that\\\\ncommercial function must inform itself of the end-to-end life cycle and get\\\\nready to inform the upstream development of products. A future\\\\npowered not only for patients but by patients\\\\nPharma companies (finally) are\\\\nlearning to speak the language of patients, who at the end of the day are\\\\nconsumers of health care products and services.\"}]', name='tavily_search_results_json', id='e8770d8d-9e08-46d6-89fc-117fc3ba3f3a', tool_call_id='call_2rKFtLPyJtcg6rNvr1NVYLK3', artifact={'query': 'pharmaceutical industry trends 2023', 'follow_up_questions': None, 'answer': None, 'images': [], 'results': [{'title': 'Insights Into the 2023 U.S. Pharmaceutical Market - IQVIA', 'url': 'https://www.iqvia.com/locations/united-states/blogs/2023/07/insights-into-the-2023-us-pharmaceutical-market', 'content': 'Figure 2: Share of spending at estimated net manufacturer prices\\nImmunology and antithrombotics currently lead short- and long-term sales growth, as illustrated in Figure 3.\\nFigure 3: Sales growth in top 10 therapy areas, February 20\\nAlmost 700 pharmacies have closed in the U.S. retail sector over the last two years, with numbers of stores forecast to continue to decrease, including closures at CVS, Walgreens, and Rite Aid. \"Top Issues for Pharma to Watch in 2022 and 2023\\nShare PAGE\\nTo date, key factors in the 2023 U.S. pharmaceutical market include the fact that biologics continue to grow at a higher pace than non-biologics (with specialty drugs1 accounting for more than half of the total market) while revenues from unbranded generics continue to decrease despite rising prescription rates. 1 IQVIA defines specialty drugs as ones that meet these criteria:\\nTop Trends to Watch in 2023\\n2023 is poised to be an important inflection point for much of healthcare in the United States: New strategies and technologies for educating and engaging healthcare providers, rising expectations, but stagnating engagement from patients, and a shifting legislative and regulatory landscape. Figure 6: Pharmaceutical product launches by therapeutic category in 2021-23\\nTo date in 2023, trends in the U.S. pharmaceutical market include:\\nAn understanding of these trends and how they will likely play out in future can support sponsors in successfully developing and modifying strategies for their commercial operations.\\n Top Issues for Pharma to Watch in 2022 and 2023\\nBringing together unparalleled healthcare data, advanced analytics, innovative technologies, and healthcare expertise to create intelligent connections that speed the development and commercialization of innovative medicines to improve patient lives.\\n', 'score': 0.9889705, 'raw_content': None}, {'title': 'Key pharma trends in 2023', 'url': 'https://www.pharmamanufacturing.com/home/article/33002742/key-pharma-trends-in-2023', 'content': \"Beginning of\\nthe end of traditional commercial roles\\nWhen a leader in pharma is planning\\nto launch a specialty drug, there is a common realization that the way they\\nhave structured and scaled in the past is the exact opposite of what is\\nrequired to successfully launch these new drugs.\\n This, in turn, puts a lot of\\npressure on other functional areas like commercial, which is already playing\\ncatch-up with the speed of drug development.\\nHEOR/RWE: The\\ngiant that is just getting started\\nIt’s no news that real-world evidence\\n(RWE) and health economics and outcomes research (HEOR) continues to gain\\nimportance with spending increasing every year. Jaswinder Chadha | Co-founder & CEO, Axtria Inc.\\nLatest from Home\\nPharma Manufacturing highlights the top threes of 2023\\nShedding stigmas\\nPharma's weight loss challenge: The incretin effect\\nOSD soars: Advancements leading the way in drug delivery\\neBook: Pharma predictions & trends 2023\\n Our customers have started to realize that their commercial teams cannot\\nsuccessfully market products if they:\\nThe need of the hour is that\\ncommercial function must inform itself of the end-to-end life cycle and get\\nready to inform the upstream development of products. A future\\npowered not only for patients but by patients\\nPharma companies (finally) are\\nlearning to speak the language of patients, who at the end of the day are\\nconsumers of health care products and services.\", 'score': 0.98672616, 'raw_content': None}], 'response_time': 2.64}),\n",
              "  ToolMessage(content='[{\"url\": \"https://blog.marketresearch.com/u.s.-weight-loss-industry-grows-to-90-billion-fueled-by-obesity-drugs-demand\", \"content\": \"The total U.S. weight loss market is estimated to have grown to a historic peak of $90 billion in 2023, boosted by soaring sales of the popular prescription GLP-1 weight loss drugs. This is a major paradigm shift toward medical programs, and a major challenge for competing commercial diet companies, which lost $1+ billion in revenues since 2022.\"}, {\"url\": \"https://www.morganstanley.com/ideas/obesity-drugs-market-expanded-opportunity\", \"content\": \"In light of this surging demand, Morgan Stanley Research has re-evaluated the global market for obesity drugs and is now expecting it to reach $105 billion in 2030, up from an earlier forecast of $77 billion —and as high as $144 billion. Sales of branded obesity drugs were $6 billion in 2023. \\\\\"The obesity drug market is being driven by two\"}]', name='tavily_search_results_json', id='56bae4d9-47d4-4d78-bdf7-a03d0e68cc85', tool_call_id='call_ms2M3ZpgRhIxomIi2JnYkjym', artifact={'query': 'weight loss drugs market analysis 2023', 'follow_up_questions': None, 'answer': None, 'images': [], 'results': [{'title': 'U.S. Weight Loss Industry Grows to $90 Billion, Fueled by Obesity Drugs ...', 'url': 'https://blog.marketresearch.com/u.s.-weight-loss-industry-grows-to-90-billion-fueled-by-obesity-drugs-demand', 'content': 'The total U.S. weight loss market is estimated to have grown to a historic peak of $90 billion in 2023, boosted by soaring sales of the popular prescription GLP-1 weight loss drugs. This is a major paradigm shift toward medical programs, and a major challenge for competing commercial diet companies, which lost $1+ billion in revenues since 2022.', 'score': 0.99729556, 'raw_content': None}, {'title': 'Weight Loss Drug Market: $105 Billion Adjusted Outlook - Morgan Stanley', 'url': 'https://www.morganstanley.com/ideas/obesity-drugs-market-expanded-opportunity', 'content': 'In light of this surging demand, Morgan Stanley Research has re-evaluated the global market for obesity drugs and is now expecting it to reach $105 billion in 2030, up from an earlier forecast of $77 billion —and as high as $144 billion. Sales of branded obesity drugs were $6 billion in 2023. \"The obesity drug market is being driven by two', 'score': 0.96995664, 'raw_content': None}], 'response_time': 3.0}),\n",
              "  AIMessage(content='# Proposal for a New Weight Loss Drug: Pitch to Bausch Health\\n\\n## 1. Executive Summary\\nThe obesity epidemic is a pressing global health challenge, prompting a significant shift towards pharmaceutical solutions for weight management. This proposal outlines the development and marketing strategy for a new weight loss drug targeting the growing demand in the obesity drug market. Bausch Health, with its established presence in the specialty pharmaceutical sector, is uniquely positioned to leverage its expertise in drug development and marketing to capitalize on this opportunity. Our innovative drug aims to provide effective weight loss solutions, contributing to the company’s growth in a lucrative and expanding market.\\n\\n## 2. Company Overview (Bausch Health)\\nBausch Health Companies Inc. operates as a diversified specialty pharmaceutical and medical device company with a focus on developing, manufacturing, and marketing a wide range of products. The company has a strong foothold in gastroenterology, hepatology, neurology, dermatology, over-the-counter (OTC) products, aesthetic medical devices, and eye health. With its headquarters in Laval, Canada, Bausch Health has evolved from its previous identity as Valeant Pharmaceuticals and is now dedicated to addressing unmet medical needs through innovative therapies. \\n\\n### Key Segments:\\n- Salix\\n- International\\n- Solta Medical\\n- Diversified\\n- Bausch + Lomb\\n\\n## 3. Product Description\\nThe proposed weight loss drug utilizes a novel mechanism of action targeting the incretin pathway, similar to existing GLP-1 receptor agonists. This product aims to enhance satiety, reduce appetite, and promote metabolic health. Clinical trials will be conducted to establish efficacy and safety, with an emphasis on long-term weight management.\\n\\n## 4. Market Analysis\\nThe U.S. weight loss market has reached a historic peak of $90 billion in 2023, driven by the rising prevalence of obesity and the demand for effective pharmaceutical treatments. The market for obesity drugs is expected to expand significantly, with projections suggesting it could reach $105 billion by 2030. The increasing acceptance of medical weight loss solutions presents a substantial opportunity for Bausch Health to enter and lead in this market space.\\n\\n### Key Trends:\\n- Growing demand for prescription weight loss medications.\\n- Shift from commercial diet programs to medical solutions.\\n- Rising awareness and acceptance of obesity as a chronic disease.\\n\\n## 5. Marketing Strategy\\nThe marketing strategy will focus on a multi-channel approach targeting healthcare providers and patients. This includes:\\n- Direct engagement with healthcare professionals through educational seminars.\\n- Digital marketing campaigns aimed at educating potential patients about the benefits of the new drug.\\n- Collaborations with obesity specialists and nutritionists to promote the product as part of comprehensive weight management programs.\\n\\n## 6. Financial Projections\\n### Estimated Production Costs\\n- **Research and Development**: $20 million\\n- **Manufacturing**: $10 million annually\\n- **Marketing and Distribution**: $5 million annually\\n\\n### Projected Sales and Revenue\\n- **Year 1**: $15 million\\n- **Year 2**: $50 million\\n- **Year 3**: $100 million\\n\\n## 7. Projections for Net Profit for Next 3 Years\\n- **Year 1**: -$20 million (initial investment and R&D costs)\\n- **Year 2**: $10 million\\n- **Year 3**: $40 million\\n\\n## 8. Projections for Cost of Investment for Next 3 Years\\n- **Year 1**: $35 million (including R&D and manufacturing setup)\\n- **Year 2**: $15 million (marketing and continued production)\\n- **Year 3**: $10 million (sustaining production and marketing)\\n\\n## Conclusion\\nWith the obesity drug market poised for significant growth, Bausch Health has a unique opportunity to introduce an innovative weight loss drug. The strategic focus on leveraging existing expertise, combined with a robust marketing strategy, positions the company to achieve substantial financial success while addressing a critical healthcare need. We invite Bausch Health to consider this proposal to capitalize on this promising market opportunity.', additional_kwargs={'refusal': None}, response_metadata={'token_usage': {'completion_tokens': 826, 'prompt_tokens': 1699, 'total_tokens': 2525, 'completion_tokens_details': {'accepted_prediction_tokens': 0, 'audio_tokens': 0, 'reasoning_tokens': 0, 'rejected_prediction_tokens': 0}, 'prompt_tokens_details': {'audio_tokens': 0, 'cached_tokens': 0}}, 'model_name': 'gpt-4o-mini-2024-07-18', 'system_fingerprint': 'fp_3de1288069', 'finish_reason': 'stop', 'logprobs': None}, id='run-fa27f349-bf76-4321-96d0-aefd6bd5642a-0', usage_metadata={'input_tokens': 1699, 'output_tokens': 826, 'total_tokens': 2525, 'input_token_details': {'audio': 0, 'cache_read': 0}, 'output_token_details': {'audio': 0, 'reasoning': 0}}),\n",
              "  HumanMessage(content=\"The proposal contains several spelling mistakes, including 'pharmaceuitcal' should be 'pharmaceutical', 'metobolic' should be 'metabolic', and 'colaboration' should be 'collaboration'. Additionally, 'hepatology' should be 'Hepatology' for consistency. The financial projections section lacks clarity in the presentation of costs and revenues. Overall, due to these errors and lack of clarity, the proposal will be rejected.\", additional_kwargs={}, response_metadata={}, id='f11aaf42-d6c1-4cf4-af88-a16c01603258'),\n",
              "  AIMessage(content='Thank you for your feedback! I appreciate your attention to detail and the opportunity to improve the proposal. Here’s a revised version that addresses the spelling errors and enhances the clarity of the financial projections:\\n\\n---\\n\\n# Proposal for a New Weight Loss Drug: Pitch to Bausch Health\\n\\n## 1. Executive Summary\\nThe obesity epidemic is a pressing global health challenge, prompting a significant shift towards pharmaceutical solutions for weight management. This proposal outlines the development and marketing strategy for a new weight loss drug targeting the growing demand in the obesity drug market. Bausch Health, with its established presence in the specialty pharmaceutical sector, is uniquely positioned to leverage its expertise in drug development and marketing to capitalize on this opportunity. Our innovative drug aims to provide effective weight loss solutions, contributing to the company’s growth in a lucrative and expanding market.\\n\\n## 2. Company Overview (Bausch Health)\\nBausch Health Companies Inc. operates as a diversified specialty pharmaceutical and medical device company with a focus on developing, manufacturing, and marketing a wide range of products. The company has a strong foothold in gastroenterology, Hepatology, neurology, dermatology, over-the-counter (OTC) products, aesthetic medical devices, and eye health. With its headquarters in Laval, Canada, Bausch Health has evolved from its previous identity as Valeant Pharmaceuticals and is now dedicated to addressing unmet medical needs through innovative therapies.\\n\\n### Key Segments:\\n- Salix\\n- International\\n- Solta Medical\\n- Diversified\\n- Bausch + Lomb\\n\\n## 3. Product Description\\nThe proposed weight loss drug utilizes a novel mechanism of action targeting the incretin pathway, similar to existing GLP-1 receptor agonists. This product aims to enhance satiety, reduce appetite, and promote metabolic health. Clinical trials will be conducted to establish efficacy and safety, with an emphasis on long-term weight management.\\n\\n## 4. Market Analysis\\nThe U.S. weight loss market has reached a historic peak of $90 billion in 2023, driven by the rising prevalence of obesity and the demand for effective pharmaceutical treatments. The market for obesity drugs is expected to expand significantly, with projections suggesting it could reach $105 billion by 2030. The increasing acceptance of medical weight loss solutions presents a substantial opportunity for Bausch Health to enter and lead in this market space.\\n\\n### Key Trends:\\n- Growing demand for prescription weight loss medications.\\n- Shift from commercial diet programs to medical solutions.\\n- Rising awareness and acceptance of obesity as a chronic disease.\\n\\n## 5. Marketing Strategy\\nThe marketing strategy will focus on a multi-channel approach targeting healthcare providers and patients. This includes:\\n- Direct engagement with healthcare professionals through educational seminars.\\n- Digital marketing campaigns aimed at educating potential patients about the benefits of the new drug.\\n- Collaborations with obesity specialists and nutritionists to promote the product as part of comprehensive weight management programs.\\n\\n## 6. Financial Projections\\n### Estimated Production Costs (per year)\\n- **Research and Development**: $20 million\\n- **Manufacturing**: $10 million\\n- **Marketing and Distribution**: $5 million\\n\\n### Projected Sales and Revenue\\n- **Year 1**: \\n  - *Sales Revenue*: $15 million\\n  - *Net Profit*: -$20 million (initial investment and R&D costs)\\n  \\n- **Year 2**: \\n  - *Sales Revenue*: $50 million\\n  - *Net Profit*: $10 million\\n  \\n- **Year 3**: \\n  - *Sales Revenue*: $100 million\\n  - *Net Profit*: $40 million\\n\\n### Projections for Cost of Investment (over 3 years)\\n- **Year 1**: $35 million (including R&D and manufacturing setup)\\n- **Year 2**: $15 million (marketing and continued production)\\n- **Year 3**: $10 million (sustaining production and marketing)\\n\\n## Conclusion\\nWith the obesity drug market poised for significant growth, Bausch Health has a unique opportunity to introduce an innovative weight loss drug. The strategic focus on leveraging existing expertise, combined with a robust marketing strategy, positions the company to achieve substantial financial success while addressing a critical healthcare need. We invite Bausch Health to consider this proposal to capitalize on this promising market opportunity.\\n\\n---\\n\\nPlease let me know if there are any other specific areas you would like me to improve or modify further!', additional_kwargs={'refusal': None}, response_metadata={'token_usage': {'completion_tokens': 890, 'prompt_tokens': 2624, 'total_tokens': 3514, 'completion_tokens_details': {'accepted_prediction_tokens': 0, 'audio_tokens': 0, 'reasoning_tokens': 0, 'rejected_prediction_tokens': 0}, 'prompt_tokens_details': {'audio_tokens': 0, 'cached_tokens': 2432}}, 'model_name': 'gpt-4o-mini-2024-07-18', 'system_fingerprint': 'fp_3de1288069', 'finish_reason': 'stop', 'logprobs': None}, id='run-ef6ba752-0066-4618-a325-c402439d25b3-0', usage_metadata={'input_tokens': 2624, 'output_tokens': 890, 'total_tokens': 3514, 'input_token_details': {'audio': 0, 'cache_read': 2432}, 'output_token_details': {'audio': 0, 'reasoning': 0}}),\n",
              "  HumanMessage(content='The proposal is good and contains no spelling mistakes. It is clear and actionable, making it suitable for acceptance.', additional_kwargs={}, response_metadata={}, id='bbaed188-ac7d-4d9f-bbbc-3367fbbfbd4d'),\n",
              "  AIMessage(content='okay, sending to this to coder agent', additional_kwargs={}, response_metadata={}, id='6967ab70-c22d-4bb1-8b71-0ed68831dceb')],\n",
              " 'step_count': 3,\n",
              " 'researcher_response': ResearcherResponse(Net_Profit_year_1=-20000000.0, Net_Profit_year_2=10000000.0, Net_Profit_year_3=40000000.0, Cost_of_Investment_year_1=35000000.0, Cost_of_Investment_year_2=15000000.0, Cost_of_Investment_year_3=10000000.0),\n",
              " 'proposal': 'Thank you for your feedback! I appreciate your attention to detail and the opportunity to improve the proposal. Here’s a revised version that addresses the spelling errors and enhances the clarity of the financial projections:\\n\\n---\\n\\n# Proposal for a New Weight Loss Drug: Pitch to Bausch Health\\n\\n## 1. Executive Summary\\nThe obesity epidemic is a pressing global health challenge, prompting a significant shift towards pharmaceutical solutions for weight management. This proposal outlines the development and marketing strategy for a new weight loss drug targeting the growing demand in the obesity drug market. Bausch Health, with its established presence in the specialty pharmaceutical sector, is uniquely positioned to leverage its expertise in drug development and marketing to capitalize on this opportunity. Our innovative drug aims to provide effective weight loss solutions, contributing to the company’s growth in a lucrative and expanding market.\\n\\n## 2. Company Overview (Bausch Health)\\nBausch Health Companies Inc. operates as a diversified specialty pharmaceutical and medical device company with a focus on developing, manufacturing, and marketing a wide range of products. The company has a strong foothold in gastroenterology, Hepatology, neurology, dermatology, over-the-counter (OTC) products, aesthetic medical devices, and eye health. With its headquarters in Laval, Canada, Bausch Health has evolved from its previous identity as Valeant Pharmaceuticals and is now dedicated to addressing unmet medical needs through innovative therapies.\\n\\n### Key Segments:\\n- Salix\\n- International\\n- Solta Medical\\n- Diversified\\n- Bausch + Lomb\\n\\n## 3. Product Description\\nThe proposed weight loss drug utilizes a novel mechanism of action targeting the incretin pathway, similar to existing GLP-1 receptor agonists. This product aims to enhance satiety, reduce appetite, and promote metabolic health. Clinical trials will be conducted to establish efficacy and safety, with an emphasis on long-term weight management.\\n\\n## 4. Market Analysis\\nThe U.S. weight loss market has reached a historic peak of $90 billion in 2023, driven by the rising prevalence of obesity and the demand for effective pharmaceutical treatments. The market for obesity drugs is expected to expand significantly, with projections suggesting it could reach $105 billion by 2030. The increasing acceptance of medical weight loss solutions presents a substantial opportunity for Bausch Health to enter and lead in this market space.\\n\\n### Key Trends:\\n- Growing demand for prescription weight loss medications.\\n- Shift from commercial diet programs to medical solutions.\\n- Rising awareness and acceptance of obesity as a chronic disease.\\n\\n## 5. Marketing Strategy\\nThe marketing strategy will focus on a multi-channel approach targeting healthcare providers and patients. This includes:\\n- Direct engagement with healthcare professionals through educational seminars.\\n- Digital marketing campaigns aimed at educating potential patients about the benefits of the new drug.\\n- Collaborations with obesity specialists and nutritionists to promote the product as part of comprehensive weight management programs.\\n\\n## 6. Financial Projections\\n### Estimated Production Costs (per year)\\n- **Research and Development**: $20 million\\n- **Manufacturing**: $10 million\\n- **Marketing and Distribution**: $5 million\\n\\n### Projected Sales and Revenue\\n- **Year 1**: \\n  - *Sales Revenue*: $15 million\\n  - *Net Profit*: -$20 million (initial investment and R&D costs)\\n  \\n- **Year 2**: \\n  - *Sales Revenue*: $50 million\\n  - *Net Profit*: $10 million\\n  \\n- **Year 3**: \\n  - *Sales Revenue*: $100 million\\n  - *Net Profit*: $40 million\\n\\n### Projections for Cost of Investment (over 3 years)\\n- **Year 1**: $35 million (including R&D and manufacturing setup)\\n- **Year 2**: $15 million (marketing and continued production)\\n- **Year 3**: $10 million (sustaining production and marketing)\\n\\n## Conclusion\\nWith the obesity drug market poised for significant growth, Bausch Health has a unique opportunity to introduce an innovative weight loss drug. The strategic focus on leveraging existing expertise, combined with a robust marketing strategy, positions the company to achieve substantial financial success while addressing a critical healthcare need. We invite Bausch Health to consider this proposal to capitalize on this promising market opportunity.\\n\\n---\\n\\nPlease let me know if there are any other specific areas you would like me to improve or modify further!',\n",
              " 'proposal_accepted': True}"
            ]
          },
          "metadata": {},
          "execution_count": 22
        }
      ]
    },
    {
      "cell_type": "markdown",
      "source": [
        "## Inspect State"
      ],
      "metadata": {
        "id": "zXquEdadqfbC"
      }
    },
    {
      "cell_type": "markdown",
      "source": [
        "### Q. What is the Final proposal from the Agent"
      ],
      "metadata": {
        "id": "cfzBO1f8qi7m"
      }
    },
    {
      "cell_type": "code",
      "source": [
        "state['proposal']"
      ],
      "metadata": {
        "colab": {
          "base_uri": "https://localhost:8080/",
          "height": 109
        },
        "id": "S5Qa0N6Oh7Bj",
        "outputId": "60543906-dea5-47d3-bc44-22745bbb997b"
      },
      "execution_count": 23,
      "outputs": [
        {
          "output_type": "execute_result",
          "data": {
            "text/plain": [
              "'Thank you for your feedback! I appreciate your attention to detail and the opportunity to improve the proposal. Here’s a revised version that addresses the spelling errors and enhances the clarity of the financial projections:\\n\\n---\\n\\n# Proposal for a New Weight Loss Drug: Pitch to Bausch Health\\n\\n## 1. Executive Summary\\nThe obesity epidemic is a pressing global health challenge, prompting a significant shift towards pharmaceutical solutions for weight management. This proposal outlines the development and marketing strategy for a new weight loss drug targeting the growing demand in the obesity drug market. Bausch Health, with its established presence in the specialty pharmaceutical sector, is uniquely positioned to leverage its expertise in drug development and marketing to capitalize on this opportunity. Our innovative drug aims to provide effective weight loss solutions, contributing to the company’s growth in a lucrative and expanding market.\\n\\n## 2. Company Overview (Bausch Health)\\nBausch Health Companies Inc. operates as a diversified specialty pharmaceutical and medical device company with a focus on developing, manufacturing, and marketing a wide range of products. The company has a strong foothold in gastroenterology, Hepatology, neurology, dermatology, over-the-counter (OTC) products, aesthetic medical devices, and eye health. With its headquarters in Laval, Canada, Bausch Health has evolved from its previous identity as Valeant Pharmaceuticals and is now dedicated to addressing unmet medical needs through innovative therapies.\\n\\n### Key Segments:\\n- Salix\\n- International\\n- Solta Medical\\n- Diversified\\n- Bausch + Lomb\\n\\n## 3. Product Description\\nThe proposed weight loss drug utilizes a novel mechanism of action targeting the incretin pathway, similar to existing GLP-1 receptor agonists. This product aims to enhance satiety, reduce appetite, and promote metabolic health. Clinical trials will be conducted to establish efficacy and safety, with an emphasis on long-term weight management.\\n\\n## 4. Market Analysis\\nThe U.S. weight loss market has reached a historic peak of $90 billion in 2023, driven by the rising prevalence of obesity and the demand for effective pharmaceutical treatments. The market for obesity drugs is expected to expand significantly, with projections suggesting it could reach $105 billion by 2030. The increasing acceptance of medical weight loss solutions presents a substantial opportunity for Bausch Health to enter and lead in this market space.\\n\\n### Key Trends:\\n- Growing demand for prescription weight loss medications.\\n- Shift from commercial diet programs to medical solutions.\\n- Rising awareness and acceptance of obesity as a chronic disease.\\n\\n## 5. Marketing Strategy\\nThe marketing strategy will focus on a multi-channel approach targeting healthcare providers and patients. This includes:\\n- Direct engagement with healthcare professionals through educational seminars.\\n- Digital marketing campaigns aimed at educating potential patients about the benefits of the new drug.\\n- Collaborations with obesity specialists and nutritionists to promote the product as part of comprehensive weight management programs.\\n\\n## 6. Financial Projections\\n### Estimated Production Costs (per year)\\n- **Research and Development**: $20 million\\n- **Manufacturing**: $10 million\\n- **Marketing and Distribution**: $5 million\\n\\n### Projected Sales and Revenue\\n- **Year 1**: \\n  - *Sales Revenue*: $15 million\\n  - *Net Profit*: -$20 million (initial investment and R&D costs)\\n  \\n- **Year 2**: \\n  - *Sales Revenue*: $50 million\\n  - *Net Profit*: $10 million\\n  \\n- **Year 3**: \\n  - *Sales Revenue*: $100 million\\n  - *Net Profit*: $40 million\\n\\n### Projections for Cost of Investment (over 3 years)\\n- **Year 1**: $35 million (including R&D and manufacturing setup)\\n- **Year 2**: $15 million (marketing and continued production)\\n- **Year 3**: $10 million (sustaining production and marketing)\\n\\n## Conclusion\\nWith the obesity drug market poised for significant growth, Bausch Health has a unique opportunity to introduce an innovative weight loss drug. The strategic focus on leveraging existing expertise, combined with a robust marketing strategy, positions the company to achieve substantial financial success while addressing a critical healthcare need. We invite Bausch Health to consider this proposal to capitalize on this promising market opportunity.\\n\\n---\\n\\nPlease let me know if there are any other specific areas you would like me to improve or modify further!'"
            ],
            "application/vnd.google.colaboratory.intrinsic+json": {
              "type": "string"
            }
          },
          "metadata": {},
          "execution_count": 23
        }
      ]
    },
    {
      "cell_type": "markdown",
      "source": [
        "### Q. Was Proposal Accepted by the Crtique Model"
      ],
      "metadata": {
        "id": "cpDh0Jrjqq1i"
      }
    },
    {
      "cell_type": "code",
      "source": [
        "state['proposal_accepted']"
      ],
      "metadata": {
        "colab": {
          "base_uri": "https://localhost:8080/"
        },
        "id": "vuqQKglLh9C_",
        "outputId": "76bcc2e7-0447-4982-ad0b-8bf78ec9eea1"
      },
      "execution_count": 24,
      "outputs": [
        {
          "output_type": "execute_result",
          "data": {
            "text/plain": [
              "True"
            ]
          },
          "metadata": {},
          "execution_count": 24
        }
      ]
    },
    {
      "cell_type": "markdown",
      "source": [
        "## If proposal look good go to next step for generating the code for building ROI graph using the coder Agent"
      ],
      "metadata": {
        "id": "gQ5V6OhHqvzP"
      }
    },
    {
      "cell_type": "code",
      "source": [
        "graph_code = None\n",
        "thread ={\"configurable\": {\"thread_id\": 101}}\n",
        "for event in graph.stream(None, thread, stream_mode=\"values\"):\n",
        "    if 'graph_code' in event.keys():\n",
        "        graph_code = event['graph_code']\n",
        "        break"
      ],
      "metadata": {
        "id": "qprgMC8GiFju"
      },
      "execution_count": 25,
      "outputs": []
    },
    {
      "cell_type": "markdown",
      "source": [
        "### Inspect the code generated by the Coder Agent"
      ],
      "metadata": {
        "id": "ak3I5T4eq_3P"
      }
    },
    {
      "cell_type": "code",
      "source": [
        "def check_formatting(code):\n",
        "        # Check if the code contains markdown formatting with triple backticks\n",
        "        if \"```\" in code:\n",
        "            # Split the code by newlines\n",
        "            lines = code.split('\\n')\n",
        "            # Filter out lines that start or end with triple backticks\n",
        "            executable_lines = [line for line in lines if not line.strip().startswith('```')]\n",
        "            # Join the remaining lines back into a single string\n",
        "            return '\\n'.join(executable_lines)\n",
        "        else:\n",
        "            # If no markdown formatting is detected, return the input as is\n",
        "            return code\n",
        "executable_code = check_formatting(graph_code)\n",
        "print(executable_code)"
      ],
      "metadata": {
        "colab": {
          "base_uri": "https://localhost:8080/"
        },
        "id": "iI-dG7NriKZf",
        "outputId": "5f195708-3fdb-42e3-adde-af60f9a0e3bb"
      },
      "execution_count": 26,
      "outputs": [
        {
          "output_type": "stream",
          "name": "stdout",
          "text": [
            "import matplotlib.pyplot as plt\n",
            "\n",
            "# Sales proposal data\n",
            "years = [1, 2, 3]\n",
            "net_profits = [-20000000.0, 10000000.0, 40000000.0]\n",
            "cost_of_investments = [35000000.0, 15000000.0, 10000000.0]\n",
            "\n",
            "# Calculate ROI\n",
            "roi = [(net_profit / cost) * 100 for net_profit, cost in zip(net_profits, cost_of_investments)]\n",
            "\n",
            "# Plotting\n",
            "plt.figure(figsize=(10, 6))\n",
            "plt.plot(years, roi, marker='o', linestyle='-', color='b', label='ROI (%)')\n",
            "plt.xticks(years, ['Year 1', 'Year 2', 'Year 3'])\n",
            "plt.yticks(range(-100, 201, 50))\n",
            "\n",
            "# Labels and Title\n",
            "plt.xlabel('Years')\n",
            "plt.ylabel('ROI (%)')\n",
            "plt.title('Forecasted ROI Over the Next 3 Years')\n",
            "plt.axhline(0, color='black', linewidth=0.8, linestyle='--')  # Line at y=0 for reference\n",
            "plt.grid()\n",
            "plt.legend()\n",
            "plt.tight_layout()\n",
            "\n",
            "# Show plot\n",
            "plt.show()\n"
          ]
        }
      ]
    },
    {
      "cell_type": "code",
      "source": [
        "exec(executable_code)"
      ],
      "metadata": {
        "colab": {
          "base_uri": "https://localhost:8080/",
          "height": 607
        },
        "id": "PLVB5wzHkous",
        "outputId": "e832a722-b89c-40d0-cd57-0f600d462e6f"
      },
      "execution_count": 27,
      "outputs": [
        {
          "output_type": "display_data",
          "data": {
            "text/plain": [
              "<Figure size 1000x600 with 1 Axes>"
            ],
            "image/png": "[encoded data removed]"
          },
          "metadata": {}
        }
      ]
    },
    {
      "cell_type": "markdown",
      "source": [
        "## Human in the Loop\n",
        "\n",
        "### We can change the state of the Agent at any time, for example the following changes year 3 net profit field of the researcher_response state,"
      ],
      "metadata": {
        "id": "r--3mUXsrMH3"
      }
    },
    {
      "cell_type": "code",
      "source": [
        "state['researcher_response'].Net_Profit_year_3"
      ],
      "metadata": {
        "colab": {
          "base_uri": "https://localhost:8080/"
        },
        "id": "NzKgtcVnh_2Y",
        "outputId": "a3d28168-00da-467f-8b82-c46ff7b4e1ce"
      },
      "execution_count": 28,
      "outputs": [
        {
          "output_type": "execute_result",
          "data": {
            "text/plain": [
              "40000000.0"
            ]
          },
          "metadata": {},
          "execution_count": 28
        }
      ]
    },
    {
      "cell_type": "code",
      "source": [
        "state['researcher_response'].Net_Profit_year_3 += 777"
      ],
      "metadata": {
        "id": "kU3T8pOgkUML"
      },
      "execution_count": 29,
      "outputs": []
    },
    {
      "cell_type": "code",
      "source": [
        "state['researcher_response'].Net_Profit_year_3"
      ],
      "metadata": {
        "colab": {
          "base_uri": "https://localhost:8080/"
        },
        "id": "dB0R8njAiCZz",
        "outputId": "5e9ce451-8afd-491d-edb8-6b3f450bb450"
      },
      "execution_count": 30,
      "outputs": [
        {
          "output_type": "execute_result",
          "data": {
            "text/plain": [
              "40000777.0"
            ]
          },
          "metadata": {},
          "execution_count": 30
        }
      ]
    }
  ]
}