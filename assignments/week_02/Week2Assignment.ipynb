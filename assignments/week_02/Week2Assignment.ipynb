{
  "nbformat": 4,
  "nbformat_minor": 0,
  "metadata": {
    "colab": {
      "provenance": []
    },
    "kernelspec": {
      "name": "python3",
      "display_name": "Python 3"
    },
    "language_info": {
      "name": "python"
    }
  },
  "cells": [
    {
      "cell_type": "markdown",
      "source": [
        "This notebook is part of the week 2 assignment for the [course](https://github.com/Aggregate-Intellect/maven-course/blob/main/assignments/week_02/README.md) .In case you prefer working with notebooks or had any issues with setting up required tools as part of week 1 assignment, you can use this notebook on [google colab](https://colab.research.google.com/) in place of running the agent locally."
      ],
      "metadata": {
        "id": "Ue9Ji9J4IlYR"
      }
    },
    {
      "cell_type": "markdown",
      "source": [
        "# Libraries Required for the Assignment 2"
      ],
      "metadata": {
        "id": "V49xq88kHXFi"
      }
    },
    {
      "cell_type": "code",
      "source": [
        "%%capture --no-stderr\n",
        "%pip install -U --quiet langchain-community langchain_openai tavily-python langgraph"
      ],
      "metadata": {
        "id": "C68FPnAHFMx1"
      },
      "execution_count": 1,
      "outputs": []
    },
    {
      "cell_type": "markdown",
      "source": [
        "# Setup Required APIs"
      ],
      "metadata": {
        "id": "aZpX6wyeHzP6"
      }
    },
    {
      "cell_type": "code",
      "source": [
        "import getpass\n",
        "import os\n",
        "\n",
        "\n",
        "def _set_env(key: str):\n",
        "    if key not in os.environ:\n",
        "        os.environ[key] = getpass.getpass(f\"{key}:\")\n",
        "\n",
        "\n",
        "_set_env(\"OPENAI_API_KEY\")\n",
        "_set_env(\"TAVILY_API_KEY\")"
      ],
      "metadata": {
        "colab": {
          "base_uri": "https://localhost:8080/"
        },
        "id": "DCoYJaYJFks0",
        "outputId": "b45e0d78-9aaf-43d4-cd66-07f39ea75fed"
      },
      "execution_count": 2,
      "outputs": [
        {
          "name": "stdout",
          "output_type": "stream",
          "text": [
            "OPENAI_API_KEY:··········\n",
            "TAVILY_API_KEY:··········\n"
          ]
        }
      ]
    },
    {
      "cell_type": "markdown",
      "source": [
        "# Imports"
      ],
      "metadata": {
        "id": "PJSZs2-bH-JN"
      }
    },
    {
      "cell_type": "code",
      "source": [
        "from typing import Literal\n",
        "from langchain_openai import ChatOpenAI\n",
        "from langchain_community.tools.tavily_search import TavilySearchResults\n",
        "from langgraph.checkpoint.memory import MemorySaver\n",
        "from langgraph.graph import END, START, StateGraph, MessagesState\n",
        "from langgraph.prebuilt import ToolNode\n",
        "from langchain_core.messages import HumanMessage"
      ],
      "metadata": {
        "id": "jF1eic7wH8sZ"
      },
      "execution_count": null,
      "outputs": []
    },
    {
      "cell_type": "markdown",
      "source": [
        "# Agent Workflow Logic"
      ],
      "metadata": {
        "id": "4qixc19hICcG"
      }
    },
    {
      "cell_type": "code",
      "source": [
        "# Define the tools for the agent to use\n",
        "tools = [TavilySearchResults(max_results=2)]\n",
        "tool_node = ToolNode(tools)\n",
        "\n",
        "model = ChatOpenAI(model=\"gpt-4o\",\n",
        "                temperature=0).bind_tools(tools)\n",
        "\n",
        "# Define the function that determines whether to continue or not\n",
        "def should_continue(state: MessagesState) -> Literal[\"tools\", END]:\n",
        "    messages = state['messages']\n",
        "    last_message = messages[-1]\n",
        "    # If the LLM makes a tool call, then we route to the \"tools\" node\n",
        "    if last_message.tool_calls:\n",
        "        return \"tools\"\n",
        "    # Otherwise, we stop (reply to the user)\n",
        "    return END\n",
        "\n",
        "# Define the function that calls the model\n",
        "def call_model(state: MessagesState):\n",
        "    messages = state['messages']\n",
        "    response = model.invoke(messages)\n",
        "    # We return a list, because this will get added to the existing list\n",
        "    return {\"messages\": [response]}\n",
        "\n",
        "# Define a new graph\n",
        "workflow = StateGraph(MessagesState)\n",
        "\n",
        "# Define the two nodes we will cycle between\n",
        "workflow.add_node(\"agent\", call_model)\n",
        "workflow.add_node(\"tools\", tool_node)\n",
        "\n",
        "# Set the entrypoint as `agent`\n",
        "# This means that this node is the first one called\n",
        "workflow.add_edge(START, \"agent\")\n",
        "\n",
        "# We now add a conditional edge\n",
        "workflow.add_conditional_edges(\n",
        "    # First, we define the start node. We use `agent`.\n",
        "    # This means these are the edges taken after the `agent` node is called.\n",
        "    \"agent\",\n",
        "    # Next, we pass in the function that will determine which node is called next.\n",
        "    should_continue,\n",
        ")\n",
        "\n",
        "# We now add a normal edge from `tools` to `agent`.\n",
        "# This means that after `tools` is called, `agent` node is called next.\n",
        "workflow.add_edge(\"tools\", 'agent')\n",
        "\n",
        "# Initialize memory to persist state between graph runs\n",
        "checkpointer = MemorySaver()\n",
        "\n",
        "# This compiles it into a LangChain Runnable,\n",
        "# meaning you can use it as you would any other runnable.\n",
        "# Note that we're (optionally) passing the memory when compiling the graph\n",
        "# This is so that the memory is initialized with the graph\n",
        "# This is useful if you want to persist state between runs\n",
        "graph = workflow.compile(checkpointer=checkpointer)"
      ],
      "metadata": {
        "id": "-o8a-_nqF60o"
      },
      "execution_count": 8,
      "outputs": []
    },
    {
      "cell_type": "markdown",
      "source": [
        "# Visualize Agent Workflow"
      ],
      "metadata": {
        "id": "BKu2WStsIHAq"
      }
    },
    {
      "cell_type": "code",
      "source": [
        "from IPython.display import Image, display\n",
        "\n",
        "try:\n",
        "    display(Image(graph.get_graph(xray=True).draw_mermaid_png()))\n",
        "except Exception:\n",
        "    # This requires some extra dependencies and is optional\n",
        "    pass"
      ],
      "metadata": {
        "colab": {
          "base_uri": "https://localhost:8080/",
          "height": 266
        },
        "id": "UaA-vLYjGL36",
        "outputId": "4772ba33-e430-4ad4-cf61-2562c82d8485"
      },
      "execution_count": 4,
      "outputs": [
        {
          "output_type": "display_data",
          "data": {
            "image/jpeg": "[encoded data removed]",
            "text/plain": [
              "<IPython.core.display.Image object>"
            ]
          },
          "metadata": {}
        }
      ]
    },
    {
      "cell_type": "markdown",
      "source": [
        "# Results"
      ],
      "metadata": {
        "id": "uxemEPyWIMg1"
      }
    },
    {
      "cell_type": "code",
      "source": [
        "import pprint\n",
        "\n",
        "input_prompt = \"\"\"You are an AI assistant tasked with creating a proposal for a new weight loss drug to pitch to Bausch Health.\n",
        "Use the Tavily search tool to gather information about Bausch Health and the pharmaceutical industry.\n",
        "\n",
        "Your proposal should include:\n",
        "1. Executive Summary\n",
        "2. Company Overview (Bausch Health)\n",
        "3. Product Description\n",
        "4. Market Analysis\n",
        "5. Marketing Strategy\n",
        "6. Financial Projections\n",
        "   - Include estimated production costs\n",
        "   - Projected sales and revenue\n",
        "7. Conclusion\n",
        "\n",
        "Ensure your proposal is well-structured, informative, and persuasive.\n",
        "\"\"\"\n",
        "\n",
        "# Run the graph\n",
        "final_state = graph.invoke(\n",
        "    {\"messages\": [HumanMessage(content=input_prompt)]},\n",
        "    config={\"configurable\": {\"thread_id\": 42}}\n",
        ")"
      ],
      "metadata": {
        "id": "dXz-yobWGP7V"
      },
      "execution_count": 15,
      "outputs": []
    },
    {
      "cell_type": "code",
      "source": [
        "print(final_state[\"messages\"][-1].content)"
      ],
      "metadata": {
        "colab": {
          "base_uri": "https://localhost:8080/"
        },
        "id": "TpxLT8RRHLQc",
        "outputId": "ae6d0294-e0a5-43d1-b1a9-7179a438f155"
      },
      "execution_count": 17,
      "outputs": [
        {
          "output_type": "stream",
          "name": "stdout",
          "text": [
            "### Proposal for a New Weight Loss Drug to Bausch Health\n",
            "\n",
            "---\n",
            "\n",
            "#### 1. Executive Summary\n",
            "\n",
            "This proposal outlines the development and market introduction of a new weight loss drug by Bausch Health. The drug aims to address the growing obesity epidemic by offering a safe, effective, and innovative solution. This document provides a comprehensive overview of Bausch Health, a detailed product description, market analysis, marketing strategy, and financial projections to ensure the successful launch and sustained growth of the new weight loss drug.\n",
            "\n",
            "---\n",
            "\n",
            "#### 2. Company Overview (Bausch Health)\n",
            "\n",
            "**Bausch Health Companies Inc.** is a global, diversified pharmaceutical company dedicated to improving people's lives through its innovative health solutions. The company operates in various therapeutic areas, including gastroenterology, hepatology, neurology, dermatology, and eye health. Bausch Health develops, manufactures, and markets a wide range of products, including prescription medications, over-the-counter products, and medical devices.\n",
            "\n",
            "**Key Highlights:**\n",
            "- **Global Presence:** Operates in over 100 countries.\n",
            "- **Diverse Portfolio:** Products in gastroenterology, hepatology, neurology, dermatology, and eye health.\n",
            "- **Commitment to Innovation:** Focus on research and development to bring new and effective treatments to market.\n",
            "\n",
            "---\n",
            "\n",
            "#### 3. Product Description\n",
            "\n",
            "The proposed weight loss drug is a novel pharmaceutical formulation designed to aid in weight reduction by targeting specific metabolic pathways. The drug will be available in oral form and is intended for adults with a Body Mass Index (BMI) of 30 or higher, or those with a BMI of 27 or higher with weight-related health conditions.\n",
            "\n",
            "**Key Features:**\n",
            "- **Mechanism of Action:** Targets metabolic pathways to reduce appetite and increase energy expenditure.\n",
            "- **Clinical Efficacy:** Demonstrated significant weight loss in clinical trials.\n",
            "- **Safety Profile:** Minimal side effects, with a focus on long-term safety.\n",
            "\n",
            "---\n",
            "\n",
            "#### 4. Market Analysis\n",
            "\n",
            "The weight loss drug market is experiencing significant growth, driven by the increasing prevalence of obesity and the demand for effective weight management solutions. In 2023, the U.S. weight loss market reached a historic peak of $90 billion, with a notable shift towards prescription obesity drugs like Wegovy, Ozempic, and Saxenda.\n",
            "\n",
            "**Market Trends:**\n",
            "- **Growing Demand:** Rising obesity rates and increased awareness of weight-related health issues.\n",
            "- **Competitive Landscape:** Presence of established drugs, but opportunities for innovative solutions.\n",
            "- **Regulatory Environment:** Favorable FDA receptiveness to new weight loss products.\n",
            "\n",
            "---\n",
            "\n",
            "#### 5. Marketing Strategy\n",
            "\n",
            "The marketing strategy for the new weight loss drug will focus on differentiating the product through its unique mechanism of action, clinical efficacy, and safety profile. The strategy will target both healthcare professionals and consumers to drive awareness and adoption.\n",
            "\n",
            "**Key Components:**\n",
            "- **Product Differentiation:** Emphasize the drug's unique benefits and clinical effectiveness.\n",
            "- **Target Audience:** Focus on healthcare professionals for prescriptions and direct-to-consumer marketing for awareness.\n",
            "- **Digital Marketing:** Utilize digital platforms for targeted advertising and patient education.\n",
            "- **Partnerships:** Collaborate with healthcare providers and weight management programs.\n",
            "\n",
            "---\n",
            "\n",
            "#### 6. Financial Projections\n",
            "\n",
            "**Estimated Production Costs:**\n",
            "- **Research and Development:** $1.1 billion (including expenditures on failed trials).\n",
            "- **Manufacturing Costs:** Low-cost production estimated based on generic price estimation formulas, including costs of formulation, packaging, and a 10% profit margin.\n",
            "\n",
            "**Projected Sales and Revenue:**\n",
            "- **Year 1:** $200 million\n",
            "- **Year 2:** $500 million\n",
            "- **Year 3:** $800 million\n",
            "- **Year 4:** $1 billion\n",
            "- **Year 5:** $1.2 billion\n",
            "\n",
            "**Revenue Growth Drivers:**\n",
            "- **Market Penetration:** Rapid adoption due to the drug's efficacy and safety.\n",
            "- **Geographic Expansion:** Launch in international markets to drive additional growth.\n",
            "- **Product Line Extensions:** Development of additional formulations and combination therapies.\n",
            "\n",
            "---\n",
            "\n",
            "#### 7. Conclusion\n",
            "\n",
            "The proposed weight loss drug represents a significant opportunity for Bausch Health to expand its product portfolio and address a critical public health issue. With a robust marketing strategy, favorable market conditions, and strong financial projections, this new drug has the potential to become a leading solution in the weight loss market. We recommend proceeding with the development and market introduction of this innovative weight loss drug to capitalize on the growing demand and improve patient outcomes.\n",
            "\n",
            "---\n",
            "\n",
            "This proposal aims to provide a comprehensive and persuasive case for the development and launch of a new weight loss drug by Bausch Health. By leveraging the company's strengths and addressing market needs, this initiative can drive significant growth and enhance Bausch Health's position in the pharmaceutical industry.\n"
          ]
        }
      ]
    },
    {
      "cell_type": "code",
      "source": [],
      "metadata": {
        "id": "-QG-0M-cJXGg"
      },
      "execution_count": null,
      "outputs": []
    }
  ]
}