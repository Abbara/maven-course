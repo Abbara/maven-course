{
  "nbformat": 4,
  "nbformat_minor": 0,
  "metadata": {
    "colab": {
      "provenance": []
    },
    "kernelspec": {
      "name": "python3",
      "display_name": "Python 3"
    },
    "language_info": {
      "name": "python"
    }
  },
  "cells": [
    {
      "cell_type": "markdown",
      "source": [
        "This notebook is part of the week 4 assignment for the [course](https://github.com/Aggregate-Intellect/maven-course/blob/main/) .In case you prefer working with notebooks or had any issues with setting up required tools as part of week 1 assignment, you can use this notebook on [google colab](https://colab.research.google.com/) in place of running the agent locally."
      ],
      "metadata": {
        "id": "Ue9Ji9J4IlYR"
      }
    },
    {
      "cell_type": "markdown",
      "source": [
        "# Libraries Required for the Assignment 4"
      ],
      "metadata": {
        "id": "V49xq88kHXFi"
      }
    },
    {
      "cell_type": "code",
      "source": [
        "%%capture --no-stderr\n",
        "%pip install -U --quiet langchain-community langchain_openai tavily-python langgraph langchain_experimental"
      ],
      "metadata": {
        "id": "C68FPnAHFMx1"
      },
      "execution_count": 1,
      "outputs": []
    },
    {
      "cell_type": "markdown",
      "source": [
        "# Setup Required APIs"
      ],
      "metadata": {
        "id": "aZpX6wyeHzP6"
      }
    },
    {
      "cell_type": "code",
      "source": [
        "import getpass\n",
        "import os\n",
        "\n",
        "\n",
        "def _set_env(key: str):\n",
        "    if key not in os.environ:\n",
        "        os.environ[key] = getpass.getpass(f\"{key}:\")\n",
        "\n",
        "\n",
        "_set_env(\"OPENAI_API_KEY\")\n",
        "_set_env(\"TAVILY_API_KEY\")"
      ],
      "metadata": {
        "colab": {
          "base_uri": "https://localhost:8080/"
        },
        "id": "DCoYJaYJFks0",
        "outputId": "25529ed9-4dee-4b4d-998e-b272049dfecd"
      },
      "execution_count": 2,
      "outputs": [
        {
          "name": "stdout",
          "output_type": "stream",
          "text": [
            "OPENAI_API_KEY:··········\n",
            "TAVILY_API_KEY:··········\n"
          ]
        }
      ]
    },
    {
      "cell_type": "markdown",
      "source": [
        "# Imports"
      ],
      "metadata": {
        "id": "PJSZs2-bH-JN"
      }
    },
    {
      "cell_type": "code",
      "source": [
        "from typing import Literal, Annotated, TypedDict\n",
        "from pydantic import BaseModel, Field\n",
        "from langchain_openai import ChatOpenAI\n",
        "\n",
        "from langgraph.checkpoint.memory import MemorySaver\n",
        "from langgraph.graph import END, START, StateGraph, MessagesState\n",
        "from langgraph.prebuilt import ToolNode\n",
        "\n",
        "from langchain_core.messages import HumanMessage, SystemMessage\n",
        "from langchain_core.runnables import RunnableConfig\n",
        "from langchain_core.tools import Tool\n",
        "from langchain_core.output_parsers import StrOutputParser\n",
        "\n",
        "\n",
        "from langchain_community.tools.tavily_search import TavilySearchResults\n",
        "from langchain_experimental.tools import PythonREPLTool"
      ],
      "metadata": {
        "id": "jF1eic7wH8sZ"
      },
      "execution_count": 115,
      "outputs": []
    },
    {
      "cell_type": "markdown",
      "source": [
        "# Agent Workflow Logic"
      ],
      "metadata": {
        "id": "4qixc19hICcG"
      }
    },
    {
      "cell_type": "code",
      "source": [
        "from langchain_openai import ChatOpenAI\n",
        "from langchain_core.tools import tool\n",
        "\n",
        "\n",
        "tavily_tool = TavilySearchResults(max_results=2)\n",
        "\n",
        "# This executes code locally, which can be unsafe\n",
        "python_repl_tool = PythonREPLTool()"
      ],
      "metadata": {
        "id": "SH4d8Kx05mmR"
      },
      "execution_count": 144,
      "outputs": []
    },
    {
      "cell_type": "code",
      "source": [
        "# Define the structured output for the Researcher node\n",
        "class ResearcherResponse(BaseModel):\n",
        "    \"\"\"Respond to the user with this\"\"\"\n",
        "    Net_Profit_year_1: float = Field(description=\"Forecasted net profit to bauch health after sales of wieght loss drug in year 1\")\n",
        "    Net_Profit_year_2: float = Field(description=\"Forecasted net profit to bauch health after sales of wieght loss drug in year 2\")\n",
        "    Net_Profit_year_3: float = Field(description=\"Forecasted net profit to bauch health after sales of wieght loss drug in year 3\")\n",
        "    Cost_of_Investment_year_1: float = Field(description=\"Forecasted cost of investment to bauch health for the wieght loss drug in year 1\")\n",
        "    Cost_of_Investment_year_2: float = Field(description=\"Forecasted cost of investment to bauch health for the wieght loss drug in year 2\")\n",
        "    Cost_of_Investment_year_3: float = Field(description=\"Forecasted cost of investment to bauch health for the wieght loss drug in year 3\")"
      ],
      "metadata": {
        "id": "GaIamKWb6ywJ"
      },
      "execution_count": 145,
      "outputs": []
    },
    {
      "cell_type": "code",
      "source": [
        "# Define the structured output for the Researcher node\n",
        "class CritiqueResponse(BaseModel):\n",
        "    \"\"\"Respond to the user with this\"\"\"\n",
        "    proposal_feedback: str = Field(description=\"Feedback of the critique agent on the sales proposal generated for the weight loss drug by the proposal agent\")\n",
        "    accept: bool = Field(description=\"Whether to accept the proposal or not\")"
      ],
      "metadata": {
        "id": "rAb6DOkuZbQT"
      },
      "execution_count": 146,
      "outputs": []
    },
    {
      "cell_type": "code",
      "source": [
        "# Define the state with a messages key and a step counter\n",
        "class AgentState(MessagesState):\n",
        "    step_count: int\n",
        "    researcher_response: ResearcherResponse\n",
        "    proposal: str\n",
        "    proposal_accepted: bool\n",
        "    graph_code: str"
      ],
      "metadata": {
        "id": "u3OsCzzSaMfl"
      },
      "execution_count": 147,
      "outputs": []
    },
    {
      "cell_type": "code",
      "source": [
        "# Define the node that calls the model\n",
        "def call_research_model(\n",
        "    state: AgentState,\n",
        "    config: RunnableConfig,\n",
        "):\n",
        "    # this is similar to customizing the create_react_agent with state_modifier, but is a lot more flexible\n",
        "    system_prompt = SystemMessage(\"You are a helpful AI assistant, please respond to the users query to the best of your ability!\")\n",
        "    model = ChatOpenAI(model=\"gpt-4o-mini\")\n",
        "    tools = [tavily_tool]\n",
        "    model = model.bind_tools(tools)\n",
        "    response = model.invoke([system_prompt] + state['messages'], config)\n",
        "    # We return a list, because this will get added to the existing list\n",
        "    current_count = state.setdefault('step_count', 0)\n",
        "    return {\"messages\": [response], 'step_count': current_count + 1}"
      ],
      "metadata": {
        "id": "vCBCi9Jr6res"
      },
      "execution_count": 148,
      "outputs": []
    },
    {
      "cell_type": "code",
      "source": [
        "# Define the function that responds to the user\n",
        "def respond(state: AgentState):\n",
        "    # We call the model with structured output in order to return the same format to the user every time\n",
        "    # state['messages'][-2] is the last ToolMessage in the convo, which we convert to a HumanMessage for the model to use\n",
        "    # We could also pass the entire chat history, but this saves tokens since all we care to structure is the output of the tool\n",
        "    model = ChatOpenAI(model=\"gpt-4o-mini\")\n",
        "    response = model.with_structured_output(ResearcherResponse).invoke([HumanMessage(content=state['messages'][-1].content)])\n",
        "    # We return the final answer\n",
        "    return {'proposal':state['messages'][-1].content,\"researcher_response\": response}"
      ],
      "metadata": {
        "id": "tXfIrJ0CIyr_"
      },
      "execution_count": 149,
      "outputs": []
    },
    {
      "cell_type": "code",
      "source": [
        "# Define the node that calls the model\n",
        "def call_critique_model(\n",
        "    state: AgentState,\n",
        "    config: RunnableConfig,\n",
        "):\n",
        "    critique_prompt = \"\"\"You are tasked with reviewing a sales proposal generated by a LLM. Review the proposal and provide\n",
        "    clear feedback and actionable feedback on any spelling mistakes, don't comment on any other aspect.\n",
        "    If it seems like the proposal is fine, then in proposal feedback mention that the proposal is good and accept the proposal.\n",
        "    Otherwise provide concise proposal feedback and reject the proposal.\n",
        "    \"\"\"\n",
        "    model = ChatOpenAI(model=\"gpt-4o-mini\")\n",
        "    messages = [\n",
        "                   {\"role\": \"user\", \"content\": critique_prompt},\n",
        "                    {\"role\": \"assistant\", \"content\": state['proposal']},\n",
        "               ]\n",
        "    response = model.with_structured_output(CritiqueResponse).invoke(messages)\n",
        "    # We return a list, because this will get added to the existing list\n",
        "    accepted = response.accept\n",
        "    if accepted:\n",
        "        return {\n",
        "            \"messages\": [\n",
        "                {\"role\": \"user\", \"content\": response.proposal_feedback},\n",
        "                {\"role\": \"assistant\", \"content\": \"okay, sending to this to coder agent\"}],\n",
        "            \"proposal_accepted\": True\n",
        "        }\n",
        "    else:\n",
        "        return {\n",
        "            \"messages\": [\n",
        "                {\"role\": \"user\", \"content\": response.proposal_feedback},\n",
        "            ],\n",
        "            \"proposal_accepted\": False\n",
        "        }"
      ],
      "metadata": {
        "id": "0qJhUs5IW1jn"
      },
      "execution_count": 157,
      "outputs": []
    },
    {
      "cell_type": "code",
      "source": [
        "def route_critique(state: AgentState) -> Literal[\"research_agent\", 'coder']:\n",
        "    if state['proposal_accepted'] or state['step_count'] > 3:\n",
        "        return 'coder'\n",
        "    else:\n",
        "        return \"research_agent\""
      ],
      "metadata": {
        "id": "3Z-GAKBXb5o6"
      },
      "execution_count": 158,
      "outputs": []
    },
    {
      "cell_type": "code",
      "source": [
        "# Define the node that calls the model\n",
        "def call_coder_model(\n",
        "    state: AgentState,\n",
        "    config: RunnableConfig,\n",
        "):\n",
        "    coder_prompt = \"\"\"You are tasked creating a graph from a sales proposal generated by a LLM.\n",
        "    Using the proposal write a clear, executable python code for creating a graph representing the forecasted ROI for next 3 years.\n",
        "    The output should be executable python code only.\n",
        "    \"\"\"\n",
        "    coder_agent_context = f\"\"\"\n",
        "    proposal: {state['proposal']},\n",
        "    Net_Profit_year_1: {state['researcher_response'].Net_Profit_year_1},\n",
        "    Net_Profit_year_2: {state['researcher_response'].Net_Profit_year_2},\n",
        "    Net_Profit_year_3: {state['researcher_response'].Net_Profit_year_3},\n",
        "    Cost_of_Investment_year_1: {state['researcher_response'].Cost_of_Investment_year_1},\n",
        "    Cost_of_Investment_year_2: {state['researcher_response'].Cost_of_Investment_year_2},\n",
        "    Cost_of_Investment_year_3: {state['researcher_response'].Cost_of_Investment_year_3},\n",
        "    \"\"\"\n",
        "\n",
        "    messages = [\n",
        "                   {\"role\": \"user\", \"content\": coder_prompt},\n",
        "                    {\"role\": \"assistant\", \"content\": coder_agent_context},\n",
        "               ]\n",
        "    model = ChatOpenAI(model=\"gpt-4o-mini\")\n",
        "    response = model.invoke(messages, config)\n",
        "\n",
        "    return {\"graph_code\": response.content}"
      ],
      "metadata": {
        "id": "eaJnXWeFgGEC"
      },
      "execution_count": 159,
      "outputs": []
    },
    {
      "cell_type": "code",
      "source": [
        "# Define the function that determines whether to continue or not\n",
        "def should_continue(state: AgentState):\n",
        "    messages = state[\"messages\"]\n",
        "    last_message = messages[-1]\n",
        "    # If there is no function call, then we respond to the user\n",
        "    if not last_message.tool_calls:\n",
        "        return \"respond\"\n",
        "    # Otherwise if there is, we continue\n",
        "    else:\n",
        "        return \"continue\""
      ],
      "metadata": {
        "id": "7gMpNupIBf6g"
      },
      "execution_count": 160,
      "outputs": []
    },
    {
      "cell_type": "code",
      "source": [
        "search_tool_node = ToolNode([tavily_tool])\n",
        "\n",
        "# Define a new graph\n",
        "workflow = StateGraph(AgentState)\n",
        "\n",
        "# Define the two nodes we will cycle between\n",
        "workflow.add_node(\"research_agent\", call_research_model)\n",
        "workflow.add_node(\"respond\", respond)\n",
        "workflow.add_node(\"search_tool\", search_tool_node)\n",
        "workflow.add_node('critique', call_critique_model)\n",
        "workflow.add_node('coder', call_coder_model)\n",
        "\n",
        "# Set the entrypoint as `agent`\n",
        "# This means that this node is the first one called\n",
        "workflow.add_edge(START, \"research_agent\")\n",
        "\n",
        "# We now add a conditional edge\n",
        "# We now add a conditional edge\n",
        "workflow.add_conditional_edges(\n",
        "    \"research_agent\",\n",
        "    should_continue,\n",
        "    {\n",
        "        \"continue\": \"search_tool\",\n",
        "        \"respond\": \"respond\",\n",
        "    },\n",
        ")\n",
        "\n",
        "# We now add a normal edge from `tools` to `agent`.\n",
        "# This means that after `tools` is called, `agent` node is called next.\n",
        "workflow.add_edge(\"search_tool\", 'research_agent')\n",
        "workflow.add_edge(\"respond\", 'critique')\n",
        "workflow.add_conditional_edges(\"critique\", route_critique)\n",
        "workflow.add_edge(\"coder\", END)\n",
        "\n",
        "# Initialize memory to persist state between graph runs\n",
        "checkpointer = MemorySaver()\n",
        "\n",
        "# This compiles it into a LangChain Runnable,\n",
        "# meaning you can use it as you would any other runnable.\n",
        "# Note that we're (optionally) passing the memory when compiling the graph\n",
        "# This is so that the memory is initialized with the graph\n",
        "# This is useful if you want to persist state between runs\n",
        "graph = workflow.compile(checkpointer=checkpointer, interrupt_before=[\"coder\"])"
      ],
      "metadata": {
        "id": "54t32qvoC1_4"
      },
      "execution_count": 181,
      "outputs": []
    },
    {
      "cell_type": "markdown",
      "source": [
        "# Visualize Agent Workflow"
      ],
      "metadata": {
        "id": "BKu2WStsIHAq"
      }
    },
    {
      "cell_type": "code",
      "source": [
        "from IPython.display import Image, display\n",
        "\n",
        "try:\n",
        "    display(Image(graph.get_graph(xray=True).draw_mermaid_png()))\n",
        "except Exception:\n",
        "    # This requires some extra dependencies and is optional\n",
        "    pass"
      ],
      "metadata": {
        "colab": {
          "base_uri": "https://localhost:8080/",
          "height": 614
        },
        "id": "UaA-vLYjGL36",
        "outputId": "a22f120f-7b15-407d-c2d3-b30931fdca83"
      },
      "execution_count": 232,
      "outputs": [
        {
          "output_type": "display_data",
          "data": {
            "image/jpeg": "[encoded data removed]",
            "text/plain": [
              "<IPython.core.display.Image object>"
            ]
          },
          "metadata": {}
        }
      ]
    },
    {
      "cell_type": "markdown",
      "source": [
        "# Results"
      ],
      "metadata": {
        "id": "uxemEPyWIMg1"
      }
    },
    {
      "cell_type": "code",
      "source": [
        "import pprint\n",
        "\n",
        "input_prompt = \"\"\"You are an AI assistant tasked with creating a proposal for a new weight loss drug to pitch to Bausch Health.\n",
        "Use the Tavily search tool to gather information about Bausch Health and the pharmaceutical industry.\n",
        "\n",
        "Your proposal should include:\n",
        "1. Executive Summary\n",
        "2. Company Overview (Bausch Health)\n",
        "3. Product Description\n",
        "4. Market Analysis\n",
        "5. Marketing Strategy\n",
        "6. Financial Projections\n",
        "   - Include estimated production costs\n",
        "   - Projected sales and revenue\n",
        "7. Projections for Net_Profit for next 3 years\n",
        "8. Projections for Cost_of_Investment for next 3 years\n",
        "\n",
        "Ensure your proposal is well-structured, informative, and persuasive.\n",
        "\"\"\"\n",
        "\n",
        "# Run the graph\n",
        "thread ={\"configurable\": {\"thread_id\": 1001}}\n",
        "state = graph.invoke(\n",
        "    {\"messages\": [HumanMessage(content=input_prompt)]},\n",
        "    config=thread\n",
        ")"
      ],
      "metadata": {
        "id": "dXz-yobWGP7V"
      },
      "execution_count": 233,
      "outputs": []
    },
    {
      "cell_type": "code",
      "source": [
        "state"
      ],
      "metadata": {
        "colab": {
          "base_uri": "https://localhost:8080/"
        },
        "id": "0P9XcxZZrQSL",
        "outputId": "e9a5f23b-76c6-47d4-f34b-9ca583d37ab4"
      },
      "execution_count": 234,
      "outputs": [
        {
          "output_type": "execute_result",
          "data": {
            "text/plain": [
              "{'messages': [HumanMessage(content='You are an AI assistant tasked with creating a proposal for a new weight loss drug to pitch to Bausch Health.\\nUse the Tavily search tool to gather information about Bausch Health and the pharmaceutical industry.\\n\\nYour proposal should include:\\n1. Executive Summary\\n2. Company Overview (Bausch Health)\\n3. Product Description\\n4. Market Analysis\\n5. Marketing Strategy\\n6. Financial Projections\\n   - Include estimated production costs\\n   - Projected sales and revenue\\n7. Projections for Net_Profit for next 3 years\\n8. Projections for Cost_of_Investment for next 3 years\\n\\nEnsure your proposal is well-structured, informative, and persuasive.\\n', additional_kwargs={}, response_metadata={}, id='e7fac508-d07d-4657-a4ac-e3694f8700ca'),\n",
              "  AIMessage(content='', additional_kwargs={'tool_calls': [{'id': 'call_9itMkKKDcPkENrxZx2yUx07P', 'function': {'arguments': '{\"query\": \"Bausch Health overview\"}', 'name': 'tavily_search_results_json'}, 'type': 'function'}, {'id': 'call_z0xOcGtuy6CNOUWEzRPt9IGX', 'function': {'arguments': '{\"query\": \"pharmaceutical industry trends 2023\"}', 'name': 'tavily_search_results_json'}, 'type': 'function'}], 'refusal': None}, response_metadata={'token_usage': {'completion_tokens': 61, 'prompt_tokens': 237, 'total_tokens': 298, 'completion_tokens_details': {'reasoning_tokens': 0}}, 'model_name': 'gpt-4o-mini-2024-07-18', 'system_fingerprint': 'fp_1bb46167f9', 'finish_reason': 'tool_calls', 'logprobs': None}, id='run-ed7f18ce-be6f-4449-960a-05d3dccc3264-0', tool_calls=[{'name': 'tavily_search_results_json', 'args': {'query': 'Bausch Health overview'}, 'id': 'call_9itMkKKDcPkENrxZx2yUx07P', 'type': 'tool_call'}, {'name': 'tavily_search_results_json', 'args': {'query': 'pharmaceutical industry trends 2023'}, 'id': 'call_z0xOcGtuy6CNOUWEzRPt9IGX', 'type': 'tool_call'}], usage_metadata={'input_tokens': 237, 'output_tokens': 61, 'total_tokens': 298}),\n",
              "  ToolMessage(content='[{\"url\": \"https://www.bauschhealth.com/about-us/who-we-are/\", \"content\": \"Bausch Health Companies Inc. is a global, diversified pharmaceutical company enriching lives through our relentless drive to deliver better health outcomes. We develop, manufacture and market a range of products, primarily in gastroenterology, hepatology, neurology, dermatology, medical aesthetic devices, international pharmaceuticals, and eye ...\"}, {\"url\": \"https://www.bauschhealth.com/about-us\", \"content\": \"About Us | Bausch Health U.S. Product List U.S. Health Care Compliance Policy Payments to U.S. Health Care Professionals Working at Bausch Health Bausch Health Companies Inc. is a global, diversified pharmaceutical company whose mission is to improve people’s lives with our pharmaceutical products. We develop, manufacture and market a range of products primarily in gastroenterology, neurology, dermatology and international pharmaceuticals. U.S. Product List *   U.S. Health Care Compliance Policy *   Payments to U.S. Health Care Professionals Use of this site signifies your agreement to the Legal Notice and Privacy Policy. Bausch Health does not have editorial control over the content of the information provided in such website(s) and therefore does not warrant or otherwise attest to their accuracy and completeness.\"}]', name='tavily_search_results_json', id='3cb8ae66-ed23-4421-9162-5b0fd9b2d863', tool_call_id='call_9itMkKKDcPkENrxZx2yUx07P', artifact={'query': 'Bausch Health overview', 'follow_up_questions': None, 'answer': None, 'images': [], 'results': [{'title': 'Who We Are - Bausch Health', 'url': 'https://www.bauschhealth.com/about-us/who-we-are/', 'content': 'Bausch Health Companies Inc. is a global, diversified pharmaceutical company enriching lives through our relentless drive to deliver better health outcomes. We develop, manufacture and market a range of products, primarily in gastroenterology, hepatology, neurology, dermatology, medical aesthetic devices, international pharmaceuticals, and eye ...', 'score': 0.99876, 'raw_content': None}, {'title': 'About Us - Bausch Health', 'url': 'https://www.bauschhealth.com/about-us', 'content': 'About Us | Bausch Health U.S. Product List U.S. Health Care Compliance Policy Payments to U.S. Health Care Professionals Working at Bausch Health Bausch Health Companies Inc. is a global, diversified pharmaceutical company whose mission is to improve people’s lives with our pharmaceutical products. We develop, manufacture and market a range of products primarily in gastroenterology, neurology, dermatology and international pharmaceuticals. U.S. Product List *   U.S. Health Care Compliance Policy *   Payments to U.S. Health Care Professionals Use of this site signifies your agreement to the Legal Notice and Privacy Policy. Bausch Health does not have editorial control over the content of the information provided in such website(s) and therefore does not warrant or otherwise attest to their accuracy and completeness.', 'score': 0.998377, 'raw_content': None}], 'response_time': 1.99}),\n",
              "  ToolMessage(content='[{\"url\": \"https://www.iqvia.com/locations/united-states/blogs/2023/07/insights-into-the-2023-us-pharmaceutical-market\", \"content\": \"Figure 2: Share of spending at estimated net manufacturer prices\\\\nImmunology and antithrombotics currently lead short- and long-term sales growth, as illustrated in Figure 3.\\\\nFigure 3: Sales growth in top 10 therapy areas, February 20\\\\nAlmost 700 pharmacies have closed in the U.S. retail sector over the last two years, with numbers of stores forecast to continue to decrease, including closures at CVS, Walgreens, and Rite Aid. \\\\\"Top Issues for Pharma to Watch in 2022 and 2023\\\\nShare PAGE\\\\nTo date, key factors in the 2023 U.S. pharmaceutical market include the fact that biologics continue to grow at a higher pace than non-biologics (with specialty drugs1 accounting for more than half of the total market) while revenues from unbranded generics continue to decrease despite rising prescription rates. 1 IQVIA defines specialty drugs as ones that meet these criteria:\\\\nTop Trends to Watch in 2023\\\\n2023 is poised to be an important inflection point for much of healthcare in the United States: New strategies and technologies for educating and engaging healthcare providers, rising expectations, but stagnating engagement from patients, and a shifting legislative and regulatory landscape. Figure 6: Pharmaceutical product launches by therapeutic category in 2021-23\\\\nTo date in 2023, trends in the U.S. pharmaceutical market include:\\\\nAn understanding of these trends and how they will likely play out in future can support sponsors in successfully developing and modifying strategies for their commercial operations.\\\\n Top Issues for Pharma to Watch in 2022 and 2023\\\\nBringing together unparalleled healthcare data, advanced analytics, innovative technologies, and healthcare expertise to create intelligent connections that speed the development and commercialization of innovative medicines to improve patient lives.\\\\n\"}, {\"url\": \"https://www.pharmavoice.com/news/2023-pharma-trend-predictions-crystal-ball/639463/\", \"content\": \"Subscribe to the PharmaVoice free daily newsletter\\\\nGet the free newsletter\\\\nSubscribe to PharmaVoice for important stories, insights & perspectives\\\\nMost Popular\\\\nLibrary resources\\\\nCompany Announcements\\\\nEvents\\\\nPharmaVoice stories and insights delivered to your inbox\\\\nGet the free daily newsletter read by industry leaders\\\\nCompany Announcements\\\\nClinical trial diversity\\\\nAs pharma wises up to the fact that the current playbook for improving clinical trial diversity has yet to make a meaningful impact, the quest is on to refine that approach.\\\\n Some of these can cause discomfort speaking about, but with this education and understanding implemented, this would bring about major changes to how diversity training programs are presented through pharma and other companies.”\\\\nBarry Holmes Jr., vice president, strategy and business development, Genesis Medical Research Group\\\\nRecommended Reading\\\\nPharmaVoice stories and insights delivered to your inbox\\\\nGet the free daily newsletter read by industry leaders\\\\nEditors\\' picks\\\\nClinical trial diversity\\\\nAs pharma wises up to the fact that the current playbook for improving clinical trial diversity has yet to make a meaningful impact, the quest is on to refine that approach.\\\\n I fully believe that 2023 will be the moment that we see both societal obligation and business opportunity in this space converge — with more research, more deals and more partnership — because when women’s health is a priority, we create a stronger and healthier society.”\\\\nKevin Ali, CEO, Organon\\\\n“As the gig economy expands and massive layoffs continue in the technology sector in 2023, we can expect to see a shift away from insurance-based high-deductible and high-copay options toward low-cost, cash-based models for basic primary care, prescription medication coverage and overall healthcare plans. Early-stage biotechs will need to navigate the ‘goldilocks phenomenon’ of generating enough data around a lead series toward candidate nomination and phase 1 trials and expanding out the pipeline or platform to mitigate risk if clinical data is not as robust as expected.”\\\\nDr. Ranjit Bindra, co-founder, Modifi Biosciences\\\\n“We’re watching the FDA’s receptiveness to new products and the sector’s ability to bring innovation to market. For a biotech company such as Novadip Biosciences, with a goal of pursuing an IPO in 2024, we will be carefully monitoring the capital markets and engaging with investors in the U.S., to determine the right time and strategy to pursue additional private and public financing.”\\\\nDr. Denis Dufrane, CEO, co-founder, Novadip Biosciences\\\\n“There will be a lot of scrutiny on AI models.\"}]', name='tavily_search_results_json', id='47109faa-ca0d-4336-b4c8-4b877c69445c', tool_call_id='call_z0xOcGtuy6CNOUWEzRPt9IGX', artifact={'query': 'pharmaceutical industry trends 2023', 'follow_up_questions': None, 'answer': None, 'images': [], 'results': [{'title': 'Insights Into the 2023 U.S. Pharmaceutical Market - IQVIA', 'url': 'https://www.iqvia.com/locations/united-states/blogs/2023/07/insights-into-the-2023-us-pharmaceutical-market', 'content': 'Figure 2: Share of spending at estimated net manufacturer prices\\nImmunology and antithrombotics currently lead short- and long-term sales growth, as illustrated in Figure 3.\\nFigure 3: Sales growth in top 10 therapy areas, February 20\\nAlmost 700 pharmacies have closed in the U.S. retail sector over the last two years, with numbers of stores forecast to continue to decrease, including closures at CVS, Walgreens, and Rite Aid. \"Top Issues for Pharma to Watch in 2022 and 2023\\nShare PAGE\\nTo date, key factors in the 2023 U.S. pharmaceutical market include the fact that biologics continue to grow at a higher pace than non-biologics (with specialty drugs1 accounting for more than half of the total market) while revenues from unbranded generics continue to decrease despite rising prescription rates. 1 IQVIA defines specialty drugs as ones that meet these criteria:\\nTop Trends to Watch in 2023\\n2023 is poised to be an important inflection point for much of healthcare in the United States: New strategies and technologies for educating and engaging healthcare providers, rising expectations, but stagnating engagement from patients, and a shifting legislative and regulatory landscape. Figure 6: Pharmaceutical product launches by therapeutic category in 2021-23\\nTo date in 2023, trends in the U.S. pharmaceutical market include:\\nAn understanding of these trends and how they will likely play out in future can support sponsors in successfully developing and modifying strategies for their commercial operations.\\n Top Issues for Pharma to Watch in 2022 and 2023\\nBringing together unparalleled healthcare data, advanced analytics, innovative technologies, and healthcare expertise to create intelligent connections that speed the development and commercialization of innovative medicines to improve patient lives.\\n', 'score': 0.9889705, 'raw_content': None}, {'title': 'The 2023 PharmaVoice Crystal Ball: Peering into the future of life ...', 'url': 'https://www.pharmavoice.com/news/2023-pharma-trend-predictions-crystal-ball/639463/', 'content': \"Subscribe to the PharmaVoice free daily newsletter\\nGet the free newsletter\\nSubscribe to PharmaVoice for important stories, insights & perspectives\\nMost Popular\\nLibrary resources\\nCompany Announcements\\nEvents\\nPharmaVoice stories and insights delivered to your inbox\\nGet the free daily newsletter read by industry leaders\\nCompany Announcements\\nClinical trial diversity\\nAs pharma wises up to the fact that the current playbook for improving clinical trial diversity has yet to make a meaningful impact, the quest is on to refine that approach.\\n Some of these can cause discomfort speaking about, but with this education and understanding implemented, this would bring about major changes to how diversity training programs are presented through pharma and other companies.”\\nBarry Holmes Jr., vice president, strategy and business development, Genesis Medical Research Group\\nRecommended Reading\\nPharmaVoice stories and insights delivered to your inbox\\nGet the free daily newsletter read by industry leaders\\nEditors' picks\\nClinical trial diversity\\nAs pharma wises up to the fact that the current playbook for improving clinical trial diversity has yet to make a meaningful impact, the quest is on to refine that approach.\\n I fully believe that 2023 will be the moment that we see both societal obligation and business opportunity in this space converge — with more research, more deals and more partnership — because when women’s health is a priority, we create a stronger and healthier society.”\\nKevin Ali, CEO, Organon\\n“As the gig economy expands and massive layoffs continue in the technology sector in 2023, we can expect to see a shift away from insurance-based high-deductible and high-copay options toward low-cost, cash-based models for basic primary care, prescription medication coverage and overall healthcare plans. Early-stage biotechs will need to navigate the ‘goldilocks phenomenon’ of generating enough data around a lead series toward candidate nomination and phase 1 trials and expanding out the pipeline or platform to mitigate risk if clinical data is not as robust as expected.”\\nDr. Ranjit Bindra, co-founder, Modifi Biosciences\\n“We’re watching the FDA’s receptiveness to new products and the sector’s ability to bring innovation to market. For a biotech company such as Novadip Biosciences, with a goal of pursuing an IPO in 2024, we will be carefully monitoring the capital markets and engaging with investors in the U.S., to determine the right time and strategy to pursue additional private and public financing.”\\nDr. Denis Dufrane, CEO, co-founder, Novadip Biosciences\\n“There will be a lot of scrutiny on AI models.\", 'score': 0.9847524, 'raw_content': None}], 'response_time': 2.31}),\n",
              "  AIMessage(content=\"### Proposal for a New Weight Loss Drug to Pitch to Bausch Health\\n\\n#### 1. Executive Summary\\nThe obesity epidemic presents a significant public health challenge and a lucrative opportunity in the pharmaceutical market. This proposal outlines the development of a new weight loss drug aimed at providing safe and effective solutions for patients struggling with obesity. With Bausch Health's commitment to improving health outcomes, this drug aligns perfectly with their mission and business strategy.\\n\\n#### 2. Company Overview (Bausch Health)\\nBausch Health Companies Inc. is a global, diversified pharmaceutical company dedicated to enhancing lives through innovative health products. The company develops, manufactures, and markets a range of products primarily in gastroenterology, neurology, dermatology, and international pharmaceuticals. Bausch Health emphasizes delivering better health outcomes and improving people's lives through its pharmaceutical products ([Bausch Health](https://www.bauschhealth.com/about-us)).\\n\\n#### 3. Product Description\\nThe proposed weight loss drug will utilize a novel mechanism of action that targets metabolic pathways to enhance fat oxidation and reduce appetite. Clinical trials will be designed to demonstrate the drug's efficacy, safety, and tolerability, with a focus on diverse patient populations to ensure broad applicability.\\n\\n#### 4. Market Analysis\\nThe U.S. pharmaceutical market has shown a robust demand for weight loss drugs, especially as obesity rates continue to rise. In 2023, biologics are expected to grow at a higher pace than non-biologics, highlighting the trend towards innovative therapies ([IQVIA](https://www.iqvia.com/locations/united-states/blogs/2023/07/insights-into-the-2023-us-pharmaceutical-market)). The weight loss drug market is projected to grow significantly, driven by increasing patient awareness and demand for effective treatment options.\\n\\n#### 5. Marketing Strategy\\nThe marketing strategy will focus on:\\n- **Target Audience:** Health care providers, endocrinologists, and patients seeking weight management solutions.\\n- **Channels:** Digital marketing, direct-to-consumer advertising, and partnerships with healthcare professionals.\\n- **Education:** Initiatives to educate patients about the health risks of obesity and the benefits of our drug.\\n\\n#### 6. Financial Projections\\n- **Estimated Production Costs:** $10 million for initial production and clinical trials.\\n- **Projected Sales and Revenue:** \\n  - Year 1: $20 million\\n  - Year 2: $50 million\\n  - Year 3: $100 million\\n\\n#### 7. Projections for Net Profit for Next 3 Years\\n- Year 1: -$5 million (initial investment and development costs)\\n- Year 2: $10 million\\n- Year 3: $30 million\\n\\n#### 8. Projections for Cost of Investment for Next 3 Years\\n- Year 1: $15 million (research, development, and marketing)\\n- Year 2: $10 million (continued marketing and operational costs)\\n- Year 3: $5 million (sustaining production and marketing)\\n\\n### Conclusion\\nThis proposal outlines a strategic approach to introduce a new weight loss drug that aligns with Bausch Health's mission and market goals. By leveraging innovative research and a robust marketing strategy, we aim to capture a significant share of the growing weight loss market. Together, we can contribute to improving health outcomes while achieving substantial profitability.\", additional_kwargs={'refusal': None}, response_metadata={'token_usage': {'completion_tokens': 676, 'prompt_tokens': 1588, 'total_tokens': 2264, 'completion_tokens_details': {'reasoning_tokens': 0}}, 'model_name': 'gpt-4o-mini-2024-07-18', 'system_fingerprint': 'fp_1bb46167f9', 'finish_reason': 'stop', 'logprobs': None}, id='run-e0b64aa2-e013-47ae-81a9-cd4654789cb1-0', usage_metadata={'input_tokens': 1588, 'output_tokens': 676, 'total_tokens': 2264}),\n",
              "  HumanMessage(content=\"The proposal contains several spelling and grammatical mistakes, including incorrect use of punctuation and capitalization. For example, in the second paragraph of the Company Overview, 'Bausch Health Companies Inc.' should be 'Bausch Health Companies, Inc.' Additionally, the phrase 'health outcomes' should be consistently capitalized throughout as 'Health Outcomes' for professionalism. The projections section lacks clarity and should be formatted for better readability. Overall, the proposal needs thorough proofreading to correct these issues and enhance its professionalism.\", additional_kwargs={}, response_metadata={}, id='b0a3716a-82c3-4f8b-9241-b656df34c2ff'),\n",
              "  AIMessage(content=\"### Proposal for a New Weight Loss Drug to Pitch to Bausch Health\\n\\n#### 1. Executive Summary\\nThe obesity epidemic presents a significant public health challenge and a lucrative opportunity in the pharmaceutical market. This proposal outlines the development of a new weight loss drug aimed at providing safe and effective solutions for patients struggling with obesity. With Bausch Health's commitment to improving Health Outcomes, this drug aligns perfectly with their mission and business strategy.\\n\\n#### 2. Company Overview (Bausch Health)\\nBausch Health Companies, Inc. is a global, diversified pharmaceutical company dedicated to enhancing lives through innovative health products. The company develops, manufactures, and markets a range of products primarily in gastroenterology, neurology, dermatology, and international pharmaceuticals. Bausch Health emphasizes delivering better Health Outcomes and improving people's lives through its pharmaceutical products ([Bausch Health](https://www.bauschhealth.com/about-us)).\\n\\n#### 3. Product Description\\nThe proposed weight loss drug will utilize a novel mechanism of action that targets metabolic pathways to enhance fat oxidation and reduce appetite. Clinical trials will be designed to demonstrate the drug's efficacy, safety, and tolerability, with a focus on diverse patient populations to ensure broad applicability.\\n\\n#### 4. Market Analysis\\nThe U.S. pharmaceutical market has shown a robust demand for weight loss drugs, especially as obesity rates continue to rise. In 2023, biologics are expected to grow at a higher pace than non-biologics, highlighting the trend toward innovative therapies ([IQVIA](https://www.iqvia.com/locations/united-states/blogs/2023/07/insights-into-the-2023-us-pharmaceutical-market)). The weight loss drug market is projected to grow significantly, driven by increasing patient awareness and demand for effective treatment options.\\n\\n#### 5. Marketing Strategy\\nThe marketing strategy will focus on:\\n- **Target Audience:** Health care providers, endocrinologists, and patients seeking weight management solutions.\\n- **Channels:** Digital marketing, direct-to-consumer advertising, and partnerships with healthcare professionals.\\n- **Education:** Initiatives to educate patients about the health risks of obesity and the benefits of our drug.\\n\\n#### 6. Financial Projections\\n- **Estimated Production Costs:** $10 million for initial production and clinical trials.\\n- **Projected Sales and Revenue:** \\n  - Year 1: $20 million\\n  - Year 2: $50 million\\n  - Year 3: $100 million\\n\\n#### 7. Projections for Net Profit for the Next 3 Years\\n| Year | Net Profit |\\n|------|------------|\\n| 1    | -$5 million (initial investment and development costs) |\\n| 2    | $10 million |\\n| 3    | $30 million |\\n\\n#### 8. Projections for Cost of Investment for the Next 3 Years\\n| Year | Cost of Investment |\\n|------|--------------------|\\n| 1    | $15 million (research, development, and marketing) |\\n| 2    | $10 million (continued marketing and operational costs) |\\n| 3    | $5 million (sustaining production and marketing) |\\n\\n### Conclusion\\nThis proposal outlines a strategic approach to introduce a new weight loss drug that aligns with Bausch Health's mission and market goals. By leveraging innovative research and a robust marketing strategy, we aim to capture a significant share of the growing weight loss market. Together, we can contribute to improving Health Outcomes while achieving substantial profitability.\", additional_kwargs={'refusal': None}, response_metadata={'token_usage': {'completion_tokens': 707, 'prompt_tokens': 2368, 'total_tokens': 3075, 'completion_tokens_details': {'reasoning_tokens': 0}}, 'model_name': 'gpt-4o-mini-2024-07-18', 'system_fingerprint': 'fp_1bb46167f9', 'finish_reason': 'stop', 'logprobs': None}, id='run-c957e1c2-f437-4e30-9248-e548a7b815af-0', usage_metadata={'input_tokens': 2368, 'output_tokens': 707, 'total_tokens': 3075}),\n",
              "  HumanMessage(content='The proposal is well-written and does not contain any spelling mistakes. The structure is clear and provides comprehensive details about the proposed weight loss drug.', additional_kwargs={}, response_metadata={}, id='85804679-f963-4155-b1c0-ed2deb89f19a'),\n",
              "  AIMessage(content='okay, sending to this to coder agent', additional_kwargs={}, response_metadata={}, id='d5638876-0a65-4e1f-a750-19e3d38d31d3')],\n",
              " 'step_count': 3,\n",
              " 'researcher_response': ResearcherResponse(Net_Profit_year_1=-5000000.0, Net_Profit_year_2=10000000.0, Net_Profit_year_3=30000000.0, Cost_of_Investment_year_1=15000000.0, Cost_of_Investment_year_2=10000000.0, Cost_of_Investment_year_3=5000000.0),\n",
              " 'proposal': \"### Proposal for a New Weight Loss Drug to Pitch to Bausch Health\\n\\n#### 1. Executive Summary\\nThe obesity epidemic presents a significant public health challenge and a lucrative opportunity in the pharmaceutical market. This proposal outlines the development of a new weight loss drug aimed at providing safe and effective solutions for patients struggling with obesity. With Bausch Health's commitment to improving Health Outcomes, this drug aligns perfectly with their mission and business strategy.\\n\\n#### 2. Company Overview (Bausch Health)\\nBausch Health Companies, Inc. is a global, diversified pharmaceutical company dedicated to enhancing lives through innovative health products. The company develops, manufactures, and markets a range of products primarily in gastroenterology, neurology, dermatology, and international pharmaceuticals. Bausch Health emphasizes delivering better Health Outcomes and improving people's lives through its pharmaceutical products ([Bausch Health](https://www.bauschhealth.com/about-us)).\\n\\n#### 3. Product Description\\nThe proposed weight loss drug will utilize a novel mechanism of action that targets metabolic pathways to enhance fat oxidation and reduce appetite. Clinical trials will be designed to demonstrate the drug's efficacy, safety, and tolerability, with a focus on diverse patient populations to ensure broad applicability.\\n\\n#### 4. Market Analysis\\nThe U.S. pharmaceutical market has shown a robust demand for weight loss drugs, especially as obesity rates continue to rise. In 2023, biologics are expected to grow at a higher pace than non-biologics, highlighting the trend toward innovative therapies ([IQVIA](https://www.iqvia.com/locations/united-states/blogs/2023/07/insights-into-the-2023-us-pharmaceutical-market)). The weight loss drug market is projected to grow significantly, driven by increasing patient awareness and demand for effective treatment options.\\n\\n#### 5. Marketing Strategy\\nThe marketing strategy will focus on:\\n- **Target Audience:** Health care providers, endocrinologists, and patients seeking weight management solutions.\\n- **Channels:** Digital marketing, direct-to-consumer advertising, and partnerships with healthcare professionals.\\n- **Education:** Initiatives to educate patients about the health risks of obesity and the benefits of our drug.\\n\\n#### 6. Financial Projections\\n- **Estimated Production Costs:** $10 million for initial production and clinical trials.\\n- **Projected Sales and Revenue:** \\n  - Year 1: $20 million\\n  - Year 2: $50 million\\n  - Year 3: $100 million\\n\\n#### 7. Projections for Net Profit for the Next 3 Years\\n| Year | Net Profit |\\n|------|------------|\\n| 1    | -$5 million (initial investment and development costs) |\\n| 2    | $10 million |\\n| 3    | $30 million |\\n\\n#### 8. Projections for Cost of Investment for the Next 3 Years\\n| Year | Cost of Investment |\\n|------|--------------------|\\n| 1    | $15 million (research, development, and marketing) |\\n| 2    | $10 million (continued marketing and operational costs) |\\n| 3    | $5 million (sustaining production and marketing) |\\n\\n### Conclusion\\nThis proposal outlines a strategic approach to introduce a new weight loss drug that aligns with Bausch Health's mission and market goals. By leveraging innovative research and a robust marketing strategy, we aim to capture a significant share of the growing weight loss market. Together, we can contribute to improving Health Outcomes while achieving substantial profitability.\",\n",
              " 'proposal_accepted': True}"
            ]
          },
          "metadata": {},
          "execution_count": 234
        }
      ]
    },
    {
      "cell_type": "markdown",
      "source": [
        "Q. Final proposal"
      ],
      "metadata": {
        "id": "bty1VaiouMzO"
      }
    },
    {
      "cell_type": "code",
      "source": [
        "state['proposal']"
      ],
      "metadata": {
        "colab": {
          "base_uri": "https://localhost:8080/",
          "height": 109
        },
        "id": "mYxwS93Ct_Np",
        "outputId": "260a935f-b3ef-4f42-85c0-bd3873d2b2ef"
      },
      "execution_count": 235,
      "outputs": [
        {
          "output_type": "execute_result",
          "data": {
            "text/plain": [
              "\"### Proposal for a New Weight Loss Drug to Pitch to Bausch Health\\n\\n#### 1. Executive Summary\\nThe obesity epidemic presents a significant public health challenge and a lucrative opportunity in the pharmaceutical market. This proposal outlines the development of a new weight loss drug aimed at providing safe and effective solutions for patients struggling with obesity. With Bausch Health's commitment to improving Health Outcomes, this drug aligns perfectly with their mission and business strategy.\\n\\n#### 2. Company Overview (Bausch Health)\\nBausch Health Companies, Inc. is a global, diversified pharmaceutical company dedicated to enhancing lives through innovative health products. The company develops, manufactures, and markets a range of products primarily in gastroenterology, neurology, dermatology, and international pharmaceuticals. Bausch Health emphasizes delivering better Health Outcomes and improving people's lives through its pharmaceutical products ([Bausch Health](https://www.bauschhealth.com/about-us)).\\n\\n#### 3. Product Description\\nThe proposed weight loss drug will utilize a novel mechanism of action that targets metabolic pathways to enhance fat oxidation and reduce appetite. Clinical trials will be designed to demonstrate the drug's efficacy, safety, and tolerability, with a focus on diverse patient populations to ensure broad applicability.\\n\\n#### 4. Market Analysis\\nThe U.S. pharmaceutical market has shown a robust demand for weight loss drugs, especially as obesity rates continue to rise. In 2023, biologics are expected to grow at a higher pace than non-biologics, highlighting the trend toward innovative therapies ([IQVIA](https://www.iqvia.com/locations/united-states/blogs/2023/07/insights-into-the-2023-us-pharmaceutical-market)). The weight loss drug market is projected to grow significantly, driven by increasing patient awareness and demand for effective treatment options.\\n\\n#### 5. Marketing Strategy\\nThe marketing strategy will focus on:\\n- **Target Audience:** Health care providers, endocrinologists, and patients seeking weight management solutions.\\n- **Channels:** Digital marketing, direct-to-consumer advertising, and partnerships with healthcare professionals.\\n- **Education:** Initiatives to educate patients about the health risks of obesity and the benefits of our drug.\\n\\n#### 6. Financial Projections\\n- **Estimated Production Costs:** $10 million for initial production and clinical trials.\\n- **Projected Sales and Revenue:** \\n  - Year 1: $20 million\\n  - Year 2: $50 million\\n  - Year 3: $100 million\\n\\n#### 7. Projections for Net Profit for the Next 3 Years\\n| Year | Net Profit |\\n|------|------------|\\n| 1    | -$5 million (initial investment and development costs) |\\n| 2    | $10 million |\\n| 3    | $30 million |\\n\\n#### 8. Projections for Cost of Investment for the Next 3 Years\\n| Year | Cost of Investment |\\n|------|--------------------|\\n| 1    | $15 million (research, development, and marketing) |\\n| 2    | $10 million (continued marketing and operational costs) |\\n| 3    | $5 million (sustaining production and marketing) |\\n\\n### Conclusion\\nThis proposal outlines a strategic approach to introduce a new weight loss drug that aligns with Bausch Health's mission and market goals. By leveraging innovative research and a robust marketing strategy, we aim to capture a significant share of the growing weight loss market. Together, we can contribute to improving Health Outcomes while achieving substantial profitability.\""
            ],
            "application/vnd.google.colaboratory.intrinsic+json": {
              "type": "string"
            }
          },
          "metadata": {},
          "execution_count": 235
        }
      ]
    },
    {
      "cell_type": "markdown",
      "source": [
        "Q. Was Proposal Accepted by the Crtique Model\n",
        "\n",
        "\n"
      ],
      "metadata": {
        "id": "mMq95bsrqDXL"
      }
    },
    {
      "cell_type": "code",
      "source": [
        "state['proposal_accepted']"
      ],
      "metadata": {
        "colab": {
          "base_uri": "https://localhost:8080/"
        },
        "id": "4OCxqx9sWLV1",
        "outputId": "bae38848-0b85-4908-8f9a-0a3c96b9616c"
      },
      "execution_count": 236,
      "outputs": [
        {
          "output_type": "execute_result",
          "data": {
            "text/plain": [
              "True"
            ]
          },
          "metadata": {},
          "execution_count": 236
        }
      ]
    },
    {
      "cell_type": "markdown",
      "source": [
        "Human input changing state, changing year 3 net profit to 29 M, this is how we can proivde human input to change state of the workflow"
      ],
      "metadata": {
        "id": "bkkOun3pz1SZ"
      }
    },
    {
      "cell_type": "code",
      "source": [
        "state['researcher_response'].Net_Profit_year_3"
      ],
      "metadata": {
        "colab": {
          "base_uri": "https://localhost:8080/"
        },
        "id": "YwfZ4RWJyCt-",
        "outputId": "1b9d852c-990e-4ea2-a367-ba9a82bc192f"
      },
      "execution_count": 237,
      "outputs": [
        {
          "output_type": "execute_result",
          "data": {
            "text/plain": [
              "30000000.0"
            ]
          },
          "metadata": {},
          "execution_count": 237
        }
      ]
    },
    {
      "cell_type": "code",
      "source": [
        "state['researcher_response'].Net_Profit_year_3 = 29000000.0"
      ],
      "metadata": {
        "id": "K1cfYOM5yq6Q"
      },
      "execution_count": 238,
      "outputs": []
    },
    {
      "cell_type": "code",
      "source": [
        "state['researcher_response'].Net_Profit_year_3"
      ],
      "metadata": {
        "colab": {
          "base_uri": "https://localhost:8080/"
        },
        "id": "40v3Y4Yty4E9",
        "outputId": "96c2f0c1-46d0-4108-cff4-0992cb3a4626"
      },
      "execution_count": 239,
      "outputs": [
        {
          "output_type": "execute_result",
          "data": {
            "text/plain": [
              "29000000.0"
            ]
          },
          "metadata": {},
          "execution_count": 239
        }
      ]
    },
    {
      "cell_type": "markdown",
      "source": [
        "If proposal look good go to next step for getting the code using LLM for building graph"
      ],
      "metadata": {
        "id": "jWQ84Gg-uWct"
      }
    },
    {
      "cell_type": "code",
      "source": [
        "graph_code = None"
      ],
      "metadata": {
        "id": "BZMMoi221Zoc"
      },
      "execution_count": 240,
      "outputs": []
    },
    {
      "cell_type": "code",
      "source": [
        "for event in graph.stream(None, thread, stream_mode=\"values\"):\n",
        "    if 'graph_code' in event.keys():\n",
        "        graph_code = event['graph_code']\n",
        "        break"
      ],
      "metadata": {
        "id": "hI5qsJuJufW0"
      },
      "execution_count": 241,
      "outputs": []
    },
    {
      "cell_type": "markdown",
      "source": [
        "Q. Verify the code for graph"
      ],
      "metadata": {
        "id": "7x1mAE5Iq1XJ"
      }
    },
    {
      "cell_type": "code",
      "source": [
        "def check_formatting(code):\n",
        "        # Check if the code contains markdown formatting with triple backticks\n",
        "        if \"```\" in code:\n",
        "            # Split the code by newlines\n",
        "            lines = code.split('\\n')\n",
        "            # Filter out lines that start or end with triple backticks\n",
        "            executable_lines = [line for line in lines if not line.strip().startswith('```')]\n",
        "            # Join the remaining lines back into a single string\n",
        "            return '\\n'.join(executable_lines)\n",
        "        else:\n",
        "            # If no markdown formatting is detected, return the input as is\n",
        "            return code"
      ],
      "metadata": {
        "id": "RJS1YuY02keB"
      },
      "execution_count": 246,
      "outputs": []
    },
    {
      "cell_type": "code",
      "source": [
        "executable_code = check_formatting(graph_code)\n",
        "print(executable_code)"
      ],
      "metadata": {
        "colab": {
          "base_uri": "https://localhost:8080/"
        },
        "id": "EqNSCz4F2nvu",
        "outputId": "274d06c1-2814-4f08-b6d3-83aec05a7339"
      },
      "execution_count": 248,
      "outputs": [
        {
          "output_type": "stream",
          "name": "stdout",
          "text": [
            "import matplotlib.pyplot as plt\n",
            "import numpy as np\n",
            "\n",
            "# Data for the forecasted ROI\n",
            "years = np.array([1, 2, 3])\n",
            "net_profit = np.array([-5000000, 10000000, 30000000])\n",
            "cost_of_investment = np.array([15000000, 10000000, 5000000])\n",
            "\n",
            "# Calculating ROI\n",
            "roi = net_profit / cost_of_investment\n",
            "\n",
            "# Creating the bar graph\n",
            "plt.figure(figsize=(10, 6))\n",
            "plt.bar(years - 0.2, roi, width=0.4, label='ROI', color='blue')\n",
            "plt.axhline(0, color='black', linewidth=0.8)  # Add a horizontal line at y=0\n",
            "plt.xticks(years)\n",
            "plt.title('Forecasted ROI for the Next 3 Years')\n",
            "plt.xlabel('Year')\n",
            "plt.ylabel('ROI (Net Profit / Cost of Investment)')\n",
            "plt.ylim(-2, 3)  # Set y-axis limits for better visibility\n",
            "plt.grid(axis='y')\n",
            "\n",
            "# Adding data labels on top of the bars\n",
            "for i in range(len(roi)):\n",
            "    plt.text(years[i] - 0.2, roi[i] + 0.1, f'{roi[i]:.2f}', ha='center')\n",
            "\n",
            "plt.legend()\n",
            "plt.show()\n"
          ]
        }
      ]
    },
    {
      "cell_type": "markdown",
      "source": [
        "Execute code"
      ],
      "metadata": {
        "id": "JEWKG_q-28Vz"
      }
    },
    {
      "cell_type": "code",
      "source": [
        "exec(executable_code)"
      ],
      "metadata": {
        "colab": {
          "base_uri": "https://localhost:8080/",
          "height": 839
        },
        "id": "fOA1q723pKl4",
        "outputId": "473f20fa-267b-4aea-b3f2-fa9e50203f57"
      },
      "execution_count": 249,
      "outputs": [
        {
          "output_type": "display_data",
          "data": {
            "text/plain": [
              "<Figure size 1000x600 with 1 Axes>"
            ],
            "image/png": "[encoded data removed]"
          },
          "metadata": {}
        }
      ]
    }
  ]
}