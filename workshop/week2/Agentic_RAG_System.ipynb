{
  "cells": [
    {
      "cell_type": "markdown",
      "metadata": {
        "id": "C3sQoe2Tg_fb"
      },
      "source": [
        "# 📚 Agentic RAG System\n",
        "This project implements an **intelligent research assistant** that retrieves and synthesizes information using:\n",
        "1. **ArXiv papers** as the primary knowledge source (**RAG approach**)\n",
        "2. **Web search (Tavily API)**\n",
        "3. **LangGraph** for orchestrating the decision-making workflow\n",
        "\n",
        "## 🎯 Purpose\n",
        "\n",
        "The system is designed to provide research-backed answers to technical and scientific questions by:\n",
        "- Prioritizing academic and research papers from ArXiv for scientific queries\n",
        "- Falling back to web search for recent developments or non-academic topics\n",
        "- Maintaining conversation context for coherent multi-turn interactions\n",
        "- Ensuring proper attribution and citations in responses\n",
        "\n",
        "## 🔑 Prerequisites\n",
        "\n",
        "To use this system, you'll need:\n",
        "\n",
        "1. **OpenAI API Key**\n",
        "   - Required for:\n",
        "     - Text embeddings (for semantic search)\n",
        "     - Response generation (GPT-4 Turbo)\n",
        "     - Routing decisions (GPT-4o-mini)\n",
        "   - Get it from: [OpenAI Platform](https://platform.openai.com)\n",
        "\n",
        "2. **Tavily API Key**\n",
        "   - Required for:\n",
        "     - Web search fallback functionality\n",
        "     - Real-time information retrieval\n",
        "     - Academic domain filtering\n",
        "   - Get it from: [Tavily](https://app.tavily.com)\n",
        "\n",
        "3. **Python Environment**\n",
        "   - Python 3.8 or higher\n",
        "   - Required packages (will be installed automatically):\n",
        "     - langchain-community\n",
        "     - langchain_chroma\n",
        "     - langchain_core\n",
        "     - langchain_openai\n",
        "     - langchain_text_splitters\n",
        "     - langgraph\n",
        "     - tavily-python\n",
        "     - openai\n",
        "     - python-dotenv\n",
        "\n",
        "\n",
        "## 🤖 Agentic Workflow Architecture\n",
        "\n",
        "The user workflow is translated into an agentic system through the following components:\n",
        "\n",
        "1. **State Management**\n",
        "   - **Conversation State**: Tracks user queries, system responses, and context\n",
        "   - **Search State**: Maintains information about current search results and sources\n",
        "   - **Decision State**: Stores routing decisions and their rationale\n",
        "\n",
        "2. **Agent Components**\n",
        "   - **Router Agent**: Makes decisions about information sources\n",
        "     - Analyzes query type and context\n",
        "     - Determines optimal search strategy\n",
        "     - Handles fallback mechanisms\n",
        "   \n",
        "   - **Search Agent**: Executes information retrieval\n",
        "     - Manages ArXiv API interactions\n",
        "     - Handles Tavily web search\n",
        "     - Processes and filters results\n",
        "   \n",
        "   - **Synthesis Agent**: Combines and formats information\n",
        "     - Merges multiple sources\n",
        "     - Ensures proper attribution\n",
        "     - Generates coherent responses\n",
        "\n",
        "3. **Feedback Loop**\n",
        "   - System learns from user interactions\n",
        "   - Improves routing decisions over time\n",
        "   - Adapts to user preferences and query patterns\n",
        "\n",
        "## 📊 Data Requirements and Sources\n",
        "\n",
        "The system requires and manages several types of data:\n",
        "\n",
        "1. **Input Data**\n",
        "   - **User Queries**: Natural language questions and follow-ups\n",
        "   - **Conversation History**: Previous interactions for context\n",
        "   - **User Preferences**: Optional settings for search behavior\n",
        "\n",
        "2. **Knowledge Sources**\n",
        "   - **ArXiv Papers**:\n",
        "     - Source: ArXiv API\n",
        "     - Format: PDF documents\n",
        "     - Update Frequency: Daily\n",
        "     - Coverage: Scientific and technical papers\n",
        "   \n",
        "   - **Web Content**:\n",
        "     - Source: Tavily API\n",
        "     - Format: Web pages and documents\n",
        "     - Update Frequency: Real-time\n",
        "     - Coverage: News, blogs, documentation, etc.\n",
        "\n",
        "3. **Processed Data**\n",
        "   - **Embeddings**: Vector representations of text\n",
        "     - Generated using OpenAI's embedding model\n",
        "     - Stored in vector database\n",
        "   \n",
        "   - **Chunks**: Processed text segments\n",
        "     - Size: Optimized for semantic search\n",
        "     - Metadata: Source, date, relevance score\n",
        "   \n",
        "   - **Citations**: Reference information\n",
        "     - Paper titles, authors, URLs\n",
        "     - Web page sources and dates\n",
        "\n",
        "4. **Output Data**\n",
        "   - **Responses**: Generated answers with citations\n",
        "   - **Search Results**: Ranked and filtered information\n",
        "   - **Conversation Logs**: Interaction history\n"
      ]
    },
    {
      "cell_type": "markdown",
      "metadata": {
        "id": "wi4l10mgMCY6"
      },
      "source": [
        "[link text](https://)"
      ]
    },
    {
      "cell_type": "code",
      "execution_count": 2,
      "metadata": {
        "collapsed": true,
        "id": "0zyWACuhcfqG"
      },
      "outputs": [],
      "source": [
        "%%capture\n",
        "# Install required packages\n",
        "! pip install -qU langchain langgraph pypdf chromadb tavily-python openai python-dotenv pyboxen langchain-community langchain_chroma langchain_core langchain_openai langchain_text_splitters"
      ]
    },
    {
      "cell_type": "code",
      "execution_count": 3,
      "metadata": {
        "id": "MDJAvAUpcjmN"
      },
      "outputs": [],
      "source": [
        "# Import required libraries\n",
        "import os  # Provides functions to interact with the operating system.\n",
        "from pyboxen import boxen  # Used to display stylized boxes in the terminal for better CLI UI.\n",
        "from getpass import getpass  # Allows secure password input without echoing.\n",
        "\n",
        "from typing import TypedDict, List, Dict, Optional, Literal, Union, Annotated, cast  # Used for type annotations and static type checking.\n",
        "from langchain_core.documents import Document  # Represents and structures text data in LangChain.\n",
        "from langchain_core.output_parsers import StrOutputParser  # Parses raw LLM output into usable string format.\n",
        "from langchain_community.document_loaders import PyPDFLoader  # Loads and extracts text from PDF documents.\n",
        "\n",
        "from langchain_text_splitters import MarkdownHeaderTextSplitter, RecursiveCharacterTextSplitter  # Splits text into chunks using markdown headers or character limits.\n",
        "\n",
        "from langchain_chroma import Chroma  # Provides integration with Chroma vector store for embedding storage and retrieval.\n",
        "from langchain_openai import OpenAIEmbeddings, ChatOpenAI  # Interfaces with OpenAI for embeddings and chat models.\n",
        "\n",
        "from langchain_core.prompts import ChatPromptTemplate  # Manages prompt templates for chat-based interactions.\n",
        "\n",
        "from langgraph.graph import StateGraph, END  # Helps define state-based logic flows for chat systems.\n",
        "from langchain.memory import ConversationBufferMemory  # Maintains memory of past conversation for context retention.\n",
        "\n",
        "from tavily import TavilyClient  # Interfaces with Tavily for real-time web search."
      ]
    },
    {
      "cell_type": "markdown",
      "metadata": {
        "id": "aOl5svrxoDkQ"
      },
      "source": [
        "# API Key Submission\n",
        "\n",
        "Please follow the instructions below:\n",
        "\n",
        "1. **Provide the Tavily API Key**\n",
        "2. **Provide the Open API Key**\n",
        "3. **Press Enter** to proceed\n"
      ]
    },
    {
      "cell_type": "code",
      "execution_count": 4,
      "metadata": {
        "colab": {
          "base_uri": "https://localhost:8080/"
        },
        "collapsed": true,
        "id": "y1CrD7yecpRF",
        "outputId": "46b8d2b4-60bb-4e16-dd05-f6415a5ead6a"
      },
      "outputs": [],
      "source": [
        "# Set API keys\n",
        "os.environ[\"TAVILY_API_KEY\"] = getpass(\"Enter Tavily API Key (get from https://app.tavily.com): \")\n",
        "os.environ[\"OPENAI_API_KEY\"] = getpass(\"Enter OpenAI API Key: \")"
      ]
    },
    {
      "cell_type": "markdown",
      "metadata": {
        "id": "OVsoCt4BhfRp"
      },
      "source": [
        "## 2. Define State and System Architecture\n",
        "\n",
        "This is important because Agents need context to take decisions and showcase \"Agency\", the state helps us define the information that the agent will require and also capture information through out the whole process.\n",
        "\n",
        "We'll define our system's state and flow using **LangGraph**. The state will track our:\n",
        "- **Input question**\n",
        "- **Retrieved ArXiv results**\n",
        "- **Web search results**\n",
        "- **Final answer**\n",
        "- **Conversation history for context**\n"
      ]
    },
    {
      "cell_type": "code",
      "execution_count": 5,
      "metadata": {
        "id": "9DX0VBugddBN"
      },
      "outputs": [],
      "source": [
        "# Define our system state - this is what passes between nodes in our graph\n",
        "class AgentState(TypedDict):\n",
        "    \"\"\"State definition for our agentic RAG system\"\"\"\n",
        "    question: str  # User's current question\n",
        "    routing_decision: Literal[\"arxiv\", \"web\", \"both\"] # Explicit decision from router\n",
        "    arxiv_results: Optional[List[Document]]  # Results from ArXiv papers (if any)\n",
        "    web_results: Optional[List[Dict]]  # Results from web search (if any)\n",
        "    direct_answer: Optional[str] # Direct answer from Tavily (if any)\n",
        "    answer: str  # Final synthesized answer\n",
        "    conversation_history: str  # Previous Q&A for context\n",
        "    memory: any\n",
        "    next_node: Optional[Literal[\"web_search\", \"synthesize\"]] # Helper key for conditional routing AFTER arxiv retrieval when \"both\" is chosen"
      ]
    },
    {
      "cell_type": "markdown",
      "metadata": {
        "id": "Ym7UTPc4hpli"
      },
      "source": [
        "## 3. Router Node Implementation\n",
        "\n",
        "The **Router Node** is responsible for deciding whether to use **ArXiv papers** or **web search**.\n",
        "- **First**, it tries to use **ArXiv papers** (our local knowledge source).\n",
        "- **Falls back** to **web search** if needed.\n",
        "\n",
        "This demonstrates **strategic decision-making capabilities**.\n"
      ]
    },
    {
      "cell_type": "code",
      "execution_count": 6,
      "metadata": {
        "id": "4oSbkgqwdh_R"
      },
      "outputs": [],
      "source": [
        "router_prompt = ChatPromptTemplate.from_template(\"\"\"\n",
        "You are a highly specialized research assistant with access to two information sources:\n",
        "1. A collection of ArXiv research papers\n",
        "2. A web search tool\n",
        "\n",
        "Your task is to determine which source(s) would be better to answer the user's question.\n",
        "FIRST try to use ArXiv papers for scientific and academic questions.\n",
        "ONLY use web search if:\n",
        "- The question requires very recent information not likely in research papers\n",
        "- The question is about general knowledge, news, or non-academic topics\n",
        "- The question asks for information beyond what academic papers would contain\n",
        "Choose BOTH if the question requires integrating academic concepts with recent developments, practical applications, or comparing academic views with general information\n",
        "\n",
        "Consider the conversation history for context.\n",
        "\n",
        "Question: {question}\n",
        "Conversation History: {conversation_history}\n",
        "\n",
        "Respond with ONLY ONE of these two options:\n",
        "\"arxiv\" - if the question should be answered using research papers\n",
        "\"web\" - if the question requires web search\n",
        "\"both\" - if both ArXiv and web search are needed\n",
        "\n",
        "Your decision should be a single word only (either \"arxiv\", \"web\" or \"both\"). Do not include any explanation, reasoning, or additional text in your response.\n",
        "\"\"\")\n",
        "\n",
        "def router_node(state: AgentState) -> dict:\n",
        "    \"\"\"\n",
        "    Determines whether to use ArXiv papers, web search or both based on the question.\n",
        "\n",
        "    Args:\n",
        "        state: Current state containing the question and conversation history\n",
        "\n",
        "    Returns:\n",
        "        Dict containing the routing decision.\n",
        "    \"\"\"\n",
        "    # Use a lighter model for routing decisions\n",
        "    llm = ChatOpenAI(model=\"gpt-4o-mini\")\n",
        "\n",
        "    # Create a chain that outputs just the decision text\n",
        "    chain = router_prompt | llm | StrOutputParser()\n",
        "\n",
        "    # Invoke the chain with our question and history\n",
        "    # Get the content of the AIMessage object instead of directly calling strip()\n",
        "    decision = chain.invoke({\n",
        "        \"question\": state[\"question\"],\n",
        "        \"conversation_history\": state[\"conversation_history\"]\n",
        "    }).strip().lower()\n",
        "\n",
        "    # Validate decision and set default if needed\n",
        "    if decision not in [\"arxiv\", \"web\", \"both\"]:\n",
        "        print(f\"Router Warning: Unexpected decision '{decision}'. Defaulting to 'web'.\")\n",
        "        decision = \"web\"\n",
        "    \n",
        "    print(boxen(f\"Router raw decision: {decision}\", title=\">>> Router Node\", color=\"blue\", padding=(1, 2)))\n",
        "    \n",
        "    return {\"routing_decision\": decision}"
      ]
    },
    {
      "cell_type": "markdown",
      "metadata": {
        "id": "0D_WGWpKhz4D"
      },
      "source": [
        "# ArXiv Processor Documentation\n",
        "\n",
        "## Overview\n",
        "The `ArXivProcessor` class is designed to handle processing ArXiv PDFs for retrieval-augmented generation (RAG) systems. It implements document-aware chunking strategies specifically optimized for scientific papers.\n",
        "\n",
        "## Key Features\n",
        "- **Two-step chunking strategy**:\n",
        " 1. Markdown header splitting to preserve document structure\n",
        " 2. Recursive character splitting for handling longer sections effectively\n",
        "- **Confidence-based retrieval** with threshold filtering\n",
        "- **Metadata preservation** from original PDFs\n",
        "\n",
        "## Class Structure\n",
        "\n",
        "### Constructor: `__init__()`\n",
        "Initializes the processor with specialized document chunking strategies:\n",
        "- `MarkdownHeaderTextSplitter` to maintain document section structure\n",
        "- `RecursiveCharacterTextSplitter` for detailed content subdivision\n",
        "\n",
        "### Methods\n",
        "\n",
        "#### `load_and_process(pdf_urls: List[str])`\n",
        "Processes ArXiv PDFs with document-aware chunking:\n",
        "- Loads PDFs from provided URLs\n",
        "- Converts content to markdown-style text with headers\n",
        "- Applies two-stage chunking process\n",
        "- Creates a vector store with OpenAI embeddings\n",
        "\n",
        "#### `retrieve(question: str, confidence_threshold: float = 0.75, k: int = 5)`\n",
        "Retrieves relevant chunks with confidence scoring:\n",
        "- Performs similarity search based on user query\n",
        "- Filters results by confidence threshold\n",
        "- Returns only high-relevance document chunks\n",
        "\n",
        "## Implementation Example\n",
        "The documented code includes a sample implementation that loads and processes two ArXiv papers:\n",
        "- Quantum computing paper: https://arxiv.org/pdf/2305.10343.pdf\n",
        "- LLM research paper: https://arxiv.org/pdf/2303.04137.pdf\n",
        "\n",
        "## Dependencies\n",
        "- `PyPDFLoader` for PDF handling\n",
        "- `MarkdownHeaderTextSplitter` and `RecursiveCharacterTextSplitter` for content chunking\n",
        "- `OpenAIEmbeddings` for vector embeddings\n",
        "- `Chroma` for vector storage"
      ]
    },
    {
      "cell_type": "code",
      "execution_count": 18,
      "metadata": {
        "colab": {
          "base_uri": "https://localhost:8080/",
          "height": 434
        },
        "id": "QeTPjOKgdom7",
        "outputId": "56c7257b-75fe-4ba7-fe5b-19c09d6d74b5"
      },
      "outputs": [
        {
          "data": {
            "text/html": [
              "<pre style=\"white-space:pre;overflow-x:auto;line-height:normal;font-family:Menlo,'DejaVu Sans Mono',consolas,'Courier New',monospace\"></pre>\n"
            ],
            "text/plain": []
          },
          "metadata": {},
          "output_type": "display_data"
        },
        {
          "name": "stdout",
          "output_type": "stream",
          "text": [
            "\u001b[36m╭─\u001b[0m\u001b[36m >>> Initialization \u001b[0m\u001b[36m──────────────────────────────────\u001b[0m\u001b[36m─╮\u001b[0m                                                         \n",
            "\u001b[36m│\u001b[0m                                                        \u001b[36m│\u001b[0m                                                         \n",
            "\u001b[36m│\u001b[0m   Initializing ArXiv processor with sample papers...   \u001b[36m│\u001b[0m                                                         \n",
            "\u001b[36m│\u001b[0m                                                        \u001b[36m│\u001b[0m                                                         \n",
            "\u001b[36m╰────────────────────────────────────────────────────────╯\u001b[0m                                                         \n",
            "\n"
          ]
        },
        {
          "data": {
            "text/html": [
              "<pre style=\"white-space:pre;overflow-x:auto;line-height:normal;font-family:Menlo,'DejaVu Sans Mono',consolas,'Courier New',monospace\"></pre>\n"
            ],
            "text/plain": []
          },
          "metadata": {},
          "output_type": "display_data"
        },
        {
          "name": "stdout",
          "output_type": "stream",
          "text": [
            "\u001b[34m╭─\u001b[0m\u001b[34m >>> PDF Loading \u001b[0m\u001b[34m────────────────────────────────────\u001b[0m\u001b[34m─╮\u001b[0m                                                          \n",
            "\u001b[34m│\u001b[0m                                                       \u001b[34m│\u001b[0m                                                          \n",
            "\u001b[34m│\u001b[0m   Loading PDF from https://arxiv.org/pdf/2504.10412   \u001b[34m│\u001b[0m                                                          \n",
            "\u001b[34m│\u001b[0m                                                       \u001b[34m│\u001b[0m                                                          \n",
            "\u001b[34m╰───────────────────────────────────────────────────────╯\u001b[0m                                                          \n",
            "\n"
          ]
        },
        {
          "data": {
            "text/html": [
              "<pre style=\"white-space:pre;overflow-x:auto;line-height:normal;font-family:Menlo,'DejaVu Sans Mono',consolas,'Courier New',monospace\"></pre>\n"
            ],
            "text/plain": []
          },
          "metadata": {},
          "output_type": "display_data"
        },
        {
          "name": "stdout",
          "output_type": "stream",
          "text": [
            "\u001b[32m╭─\u001b[0m\u001b[32m >>> Processing Complete \u001b[0m\u001b[32m────────\u001b[0m\u001b[32m─╮\u001b[0m                                                                              \n",
            "\u001b[32m│\u001b[0m                                   \u001b[32m│\u001b[0m                                                                              \n",
            "\u001b[32m│\u001b[0m   Created 35 chunks from 1 PDFs   \u001b[32m│\u001b[0m                                                                              \n",
            "\u001b[32m│\u001b[0m                                   \u001b[32m│\u001b[0m                                                                              \n",
            "\u001b[32m╰───────────────────────────────────╯\u001b[0m                                                                              \n",
            "\n"
          ]
        },
        {
          "data": {
            "text/html": [
              "<pre style=\"white-space:pre;overflow-x:auto;line-height:normal;font-family:Menlo,'DejaVu Sans Mono',consolas,'Courier New',monospace\"></pre>\n"
            ],
            "text/plain": []
          },
          "metadata": {},
          "output_type": "display_data"
        },
        {
          "name": "stdout",
          "output_type": "stream",
          "text": [
            "\u001b[32m╭─\u001b[0m\u001b[32m >>> Status \u001b[0m\u001b[32m────────────────────\u001b[0m\u001b[32m─╮\u001b[0m                                                                               \n",
            "\u001b[32m│\u001b[0m                                  \u001b[32m│\u001b[0m                                                                               \n",
            "\u001b[32m│\u001b[0m   ArXiv processor initialized!   \u001b[32m│\u001b[0m                                                                               \n",
            "\u001b[32m│\u001b[0m                                  \u001b[32m│\u001b[0m                                                                               \n",
            "\u001b[32m╰──────────────────────────────────╯\u001b[0m                                                                               \n",
            "\n"
          ]
        }
      ],
      "source": [
        "class ArXivProcessor:\n",
        "    \"\"\"\n",
        "    Handles processing ArXiv PDFs for retrieval-augmented generation.\n",
        "    \"\"\"\n",
        "    def __init__(self):\n",
        "        \"\"\"\n",
        "        Initialize the processor with document-aware chunking strategies.\n",
        "\n",
        "        The chunking strategy uses a two-step approach:\n",
        "        1. Markdown header splitting preserves document structure and headers\n",
        "        2. Recursive character splitting handles longer sections effectively\n",
        "        \"\"\"\n",
        "        # Header splitter preserves section structure in scientific papers\n",
        "        self.header_splitter = MarkdownHeaderTextSplitter(\n",
        "            headers_to_split_on=[\n",
        "                (\"#\", \"Section\"),           # Main sections\n",
        "                (\"##\", \"Subsection\"),       # Subsections\n",
        "                (\"###\", \"Subsubsection\")    # Sub-subsections\n",
        "            ]\n",
        "        )\n",
        "\n",
        "        # Recursive splitter handles nested hierarchies and technical content\n",
        "        # - Chunk size of 1000 balances context vs specificity\n",
        "        # - Overlap of 200 ensures continuity between chunks\n",
        "        # - Separators prioritize natural breaks in scientific text\n",
        "        self.text_splitter = RecursiveCharacterTextSplitter(\n",
        "            chunk_size=1000,\n",
        "            chunk_overlap=200,\n",
        "            separators=[\"\\n\\n\", \"\\n\", \"(?<=\\. )\", \" \", \"\"]\n",
        "        )\n",
        "\n",
        "        # Will be initialized when documents are loaded\n",
        "        self.vector_store = None\n",
        "\n",
        "    def load_and_process(self, pdf_urls: List[str]):\n",
        "        \"\"\"\n",
        "        Process ArXiv PDFs with document-aware chunking\n",
        "\n",
        "        Args:\n",
        "            pdf_urls: List of URLs to ArXiv PDFs\n",
        "        \"\"\"\n",
        "        all_chunks = []\n",
        "\n",
        "        # Process each PDF\n",
        "        for url in pdf_urls:\n",
        "            print(boxen(f\"Loading PDF from {url}\", title=\">>> PDF Loading\", color=\"blue\", padding=1))\n",
        "            loader = PyPDFLoader(url)\n",
        "            pages = loader.load()\n",
        "\n",
        "            # Process each page\n",
        "            for page in pages:\n",
        "                # Convert PDF content to markdown-style text with headers\n",
        "                page_text = f\"# {page.metadata['source']}\\n## Page {page.metadata['page']}\\n{page.page_content}\"\n",
        "\n",
        "                # First split by headers to maintain document structure\n",
        "                header_chunks = self.header_splitter.split_text(page_text)\n",
        "\n",
        "                # Then split large sections into smaller chunks\n",
        "                small_chunks = self.text_splitter.split_documents(header_chunks)\n",
        "\n",
        "                # Add to our collection\n",
        "                all_chunks.extend(small_chunks)\n",
        "\n",
        "        print(boxen(f\"Created {len(all_chunks)} chunks from {len(pdf_urls)} PDFs\", title=\">>> Processing Complete\", color=\"green\", padding=1))\n",
        "\n",
        "        # Create vector store with OpenAI embeddings\n",
        "        self.vector_store = Chroma.from_documents(\n",
        "            documents=all_chunks,\n",
        "            embedding=OpenAIEmbeddings(),\n",
        "            persist_directory=\"./arxiv_db\"\n",
        "        )\n",
        "\n",
        "    def retrieve(self, question: str, confidence_threshold: float = 0.75, k: int = 5):\n",
        "        \"\"\"\n",
        "        Retrieve relevant chunks with confidence scoring\n",
        "\n",
        "        Args:\n",
        "            question: User question to find relevant information for\n",
        "            confidence_threshold: Minimum relevance score (0-1) to include a result\n",
        "            k: Maximum number of results to return\n",
        "\n",
        "        Returns:\n",
        "            List of relevant document chunks that meet the threshold\n",
        "        \"\"\"\n",
        "        if not self.vector_store:\n",
        "            raise ValueError(\"No ArXiv documents loaded. Run load_and_process first.\")\n",
        "\n",
        "        # Perform similarity search with relevance scores\n",
        "        results = self.vector_store.similarity_search_with_relevance_scores(\n",
        "            question, k=k\n",
        "        )\n",
        "\n",
        "        # Filter by confidence threshold\n",
        "        filtered_results = [doc for doc, score in results if score >= confidence_threshold]\n",
        "\n",
        "        print(boxen(f\"Found {len(filtered_results)} relevant chunks above threshold {confidence_threshold}\", title=\">>> ArXivProcessor\", color=\"yellow\", padding=1))\n",
        "\n",
        "        return filtered_results\n",
        "\n",
        "# Load sample ArXiv PDFs\n",
        "print(boxen(\"Initializing ArXiv processor with sample papers...\", title=\">>> Initialization\", color=\"cyan\", padding=1))\n",
        "arxiv_processor = ArXivProcessor()\n",
        "arxiv_processor.load_and_process([\n",
        "    \"https://arxiv.org/pdf/2504.10412\"   # LLM research paper\n",
        "])\n",
        "print(boxen(\"ArXiv processor initialized!\", title=\">>> Status\", color=\"green\", padding=1))"
      ]
    },
    {
      "cell_type": "markdown",
      "metadata": {
        "id": "OeaD77BupxMv"
      },
      "source": [
        "# ArXiv Retrieval Node Documentation\n",
        "\n",
        "## Overview\n",
        "The `arxiv_retrieval_node` function serves as a retrieval component in an agent-based system, fetching relevant scientific information from ArXiv papers based on user queries.\n",
        "\n",
        "## Function Signature\n",
        "`arxiv_retrieval_node(state: AgentState) -> dict`\n",
        "\n",
        "## Parameters\n",
        "- `state`: An AgentState object containing the current conversation state, including:\n",
        " - `question`: The user's query to search for in ArXiv papers\n",
        "\n",
        "## Functionality\n",
        "The function:\n",
        "1. Extracts the user's question from the input state\n",
        "2. Calls the `arxiv_processor.retrieve()` method to find relevant document chunks\n",
        "3. Uses a reduced confidence threshold (0.5) compared to the default (0.75) to improve recall\n",
        "4. Returns the retrieved documents for further processing\n",
        "\n",
        "## Return Value\n",
        "Returns a dictionary with:\n",
        "- `arxiv_results`: A list of document chunks from ArXiv papers relevant to the user's question\n",
        "\n",
        "## Integration Notes\n",
        "- This function is designed to be used as a node in an agent workflow\n",
        "- The reduced confidence threshold ensures more potential matches are returned, prioritizing recall over precision\n",
        "- The retrieved documents can be used by subsequent nodes for answering the user's question"
      ]
    },
    {
      "cell_type": "code",
      "execution_count": 8,
      "metadata": {
        "id": "7QI0RXSbdvCv"
      },
      "outputs": [],
      "source": [
        "# Ensure arxiv_processor is accessible (defined in previous cells)\n",
        "assert 'arxiv_processor' in globals(), \"arxiv_processor must be initialized first\"\n",
        "\n",
        "def arxiv_retrieval_node(state: AgentState) -> dict:\n",
        "    \"\"\"\n",
        "    Retrieves relevant information from ArXiv papers based on the question.\n",
        "    Determines the next node based on the initial routing decision.\n",
        "    \n",
        "    Args:\n",
        "        state: Current state containing the question and routing decision\n",
        "\n",
        "    Returns:\n",
        "        Updated state with arxiv_results and the next node destination.\n",
        "    \"\"\"      \n",
        "    question = state[\"question\"]\n",
        "    routing_decision = state[\"routing_decision\"]\n",
        "    relevant_docs = []\n",
        "    next_dest = \"synthesize\" # Default next step\n",
        "    \n",
        "    # Retrieve relevant documents from ArXiv\n",
        "    try:\n",
        "        relevant_docs = arxiv_processor.retrieve(\n",
        "            question=question,\n",
        "            confidence_threshold=0.5  # Adjusted threshold for better recall\n",
        "        )\n",
        "        print(boxen(f\"Found {len(relevant_docs)} relevant ArXiv chunks.\", title=\">>> ArXiv Retrieval Node\", color=\"blue\", padding=(1, 2)))\n",
        "    except Exception as e:\n",
        "        print(boxen(f\"Error during ArXiv retrieval: {e}\", title=\">>> ArXiv Retrieval Node\", color=\"red\", padding=(1, 2)))\n",
        "        # Continue even if ArXiv fails, maybe web search will work if \"both\" was chosen\n",
        "\n",
        "    # TODO: Check if we found enough relevant content\n",
        "    \n",
        "    info_message = \"\"\n",
        "    # Decide the next step\n",
        "    if routing_decision == \"both\":\n",
        "        info_message = \"Routing decision was 'both', proceeding to Web Search next.\"\n",
        "        print(boxen(info_message, title=\">>> Routing\", color=\"green\", padding=(1, 2)))\n",
        "        next_dest = \"web_search\"\n",
        "    else: # routing_decision was \"arxiv\"\n",
        "        info_message = \"Routing decision was 'arxiv', proceeding to Synthesize next.\"\n",
        "        print(boxen(info_message, title=\">>> Routing\", color=\"green\", padding=(1, 2)))\n",
        "        next_dest = \"synthesize\"\n",
        "    \n",
        "    return {\"arxiv_results\": relevant_docs, \"next_node\": next_dest}"
      ]
    },
    {
      "cell_type": "markdown",
      "metadata": {
        "id": "7SqO1XREiD7z"
      },
      "source": [
        "## 5. Web Search Node Implementation\n",
        "\n",
        "The **Web Search Node** uses the **Tavily API** to search the web when **ArXiv papers** don't have the answer.\n",
        "\n",
        "- **Optimizes** the search query\n",
        "- **Filters and processes** results\n",
        "- **Ensures** proper attribution\n"
      ]
    },
    {
      "cell_type": "code",
      "execution_count": 9,
      "metadata": {
        "id": "_WsFmnmpd3CI"
      },
      "outputs": [],
      "source": [
        "web_searcher = TavilyClient()\n",
        "\n",
        "def web_search_node(state: AgentState) -> dict:\n",
        "    \"\"\"\n",
        "    Searches the web for information using the Tavily API.\n",
        "    \n",
        "    Args:\n",
        "        state: current state containing the question\n",
        "\n",
        "    Returns:\n",
        "        Updated state with web_results and direct_answer.\n",
        "    \"\"\"    \n",
        "    web_res = None\n",
        "    direct_ans = None\n",
        "    \n",
        "    try:\n",
        "        # Include academic domains to improve search quality\n",
        "        academic_domains = [\"arxiv.org\", \"scholar.google.com\", \"researchgate.net\", \"edu\"]\n",
        "\n",
        "        # Get search results with answer\n",
        "        search_response = web_searcher.search(\n",
        "            query=state[\"question\"],\n",
        "            max_results=5,\n",
        "            include_domains=academic_domains,\n",
        "            search_depth=\"advanced\",  # Use advanced search for better results\n",
        "            include_answer=True  # Request direct answer\n",
        "        )\n",
        "        web_res = search_response.get(\"results\", [])\n",
        "        direct_ans = search_response.get(\"answer\")\n",
        "        info_message = f\"Found {len(web_res)} web results.\" + (f\" Direct answer found.\" if direct_ans else \"\")\n",
        "        print(boxen(info_message, title=\">>> Web Search Node\", color=\"blue\", padding=(1, 2)))\n",
        "    except Exception as e:\n",
        "        print(boxen(f\"Error during Web search: {e}\", title=\">>> Web Search Node\", color=\"red\", padding=(1, 2)))\n",
        "        web_res = [] # Return empty list on error\n",
        "        direct_ans = None\n",
        "\n",
        "    return {\"web_results\": web_res, \"direct_answer\": direct_ans}"
      ]
    },
    {
      "cell_type": "markdown",
      "metadata": {
        "id": "cYoo-tCciKHn"
      },
      "source": [
        "# Function Documentation: `synthesize_answer_node`\n",
        "\n",
        "## Overview\n",
        "The `synthesize_answer_node` function is a key component in a LangChain-based conversational agent. It is responsible for generating a comprehensive answer based on either scientific research papers (from ArXiv) or web search results (via Tavily). The generated response is contextual, well-structured, and strictly grounded in the retrieved data.\n",
        "\n",
        "---\n",
        "\n",
        "## Purpose\n",
        "To synthesize a high-quality, structured, and citation-backed answer from the information retrieved during the conversational flow — either from ArXiv research papers or real-time web search results.\n",
        "\n",
        "---\n",
        "\n",
        "## Inputs\n",
        "\n",
        "- **state (AgentState)**:  \n",
        "  A dictionary representing the current state of the agent, which includes:\n",
        "  - `question`: The user's query.\n",
        "  - `arxiv_results`: A list of research paper excerpts (if available).\n",
        "  - `web_results`: A list of web search results (used when no ArXiv data is present).\n",
        "  - `conversation_history`: Context from previous exchanges to maintain continuity.\n",
        "\n",
        "---\n",
        "\n",
        "## Logic Flow\n",
        "\n",
        "1. **Source Determination**:  \n",
        "   The function first checks whether ArXiv results are available. If so, it uses them; otherwise, it falls back to web search results.\n",
        "\n",
        "2. **Prompt Construction**:  \n",
        "   A custom `prompt_template` is built depending on the data source. Each template includes:\n",
        "   - The original question.\n",
        "   - Retrieved content (formatted accordingly).\n",
        "   - Prior conversation context.\n",
        "   - Explicit instructions to ensure grounded, factual, and well-structured responses.\n",
        "\n",
        "3. **Model Invocation**:  \n",
        "   - Uses `ChatOpenAI` (specifically `gpt-4o-mini`) for advanced reasoning and response generation.\n",
        "   - Combines the prompt and model into a LangChain chain using `ChatPromptTemplate` and `StrOutputParser`.\n",
        "\n",
        "4. **Response Handling**:  \n",
        "   - If web results were used, the function appends a list of source URLs at the end of the response.\n",
        "   - If ArXiv sources were used, inline citations in the format `(Author et al., Page X)` are expected.\n",
        "\n",
        "---\n",
        "\n",
        "## Output\n",
        "\n",
        "- Returns a dictionary with a single key:  \n",
        "  - `answer`: A fully formatted, cited response derived from either research papers or search results.\n",
        "\n",
        "---\n",
        "\n",
        "## Key Characteristics\n",
        "\n",
        "- **Grounded Output**: The model is instructed not to hallucinate or invent facts.\n",
        "- **Citations Included**: Adds credibility and traceability via inline citations or URL references.\n",
        "- **Context-Aware**: Maintains conversation context to provide coherent multi-turn interactions.\n",
        "- **Readable Format**: Uses markdown elements such as headers, bullet points, and bold text for readability.\n",
        "\n",
        "---"
      ]
    },
    {
      "cell_type": "code",
      "execution_count": 10,
      "metadata": {
        "id": "3h2iGpE9d8VM"
      },
      "outputs": [],
      "source": [
        "def synthesize_answer_node(state: AgentState) -> dict:\n",
        "    \"\"\"\n",
        "    Synthesizes a comprehensive answer from retrieved information (ArXiv, Web, or Both).\n",
        "\n",
        "    Args:\n",
        "        state: Current state containing question and retrieved information\n",
        "\n",
        "    Returns:\n",
        "        Updated state with answer\n",
        "    \"\"\"   \n",
        "    question = state[\"question\"]\n",
        "    arxiv_results = state.get(\"arxiv_results\")\n",
        "    web_results = state.get(\"web_results\")\n",
        "    direct_answer = state.get(\"direct_answer\")\n",
        "    conversation_history = state[\"conversation_history\"]\n",
        "\n",
        "    llm = ChatOpenAI(model=\"gpt-4o-mini\", temperature=0.1) # Slightly creative for synthesis\n",
        "    final_answer = \"\"\n",
        "    source_type = \"None\"\n",
        "    prompt_template = \"\"\n",
        "    sources_for_prompt = \"\"\n",
        "    displayed_sources = \"\"\n",
        "\n",
        "    # 1. Determine source type and prepare context\n",
        "    if arxiv_results and web_results:\n",
        "        print(boxen(f\"Synthesizing from Both ArXiv and Web Results\", title=\">>> Synthesize Answer Node\", color=\"blue\", padding=(1, 2)))\n",
        "        source_type = \"Combined ArXiv and Web\"\n",
        "        # Format ArXiv results\n",
        "        arxiv_sources = \"\\\\n\\\\n\".join([\n",
        "            f\"--- ArXiv Document: {d.metadata.get('source', 'Unknown')} (Page {d.metadata.get('page', 'N/A')}) ---\\\\n{d.page_content}\"\n",
        "            for d in arxiv_results\n",
        "        ])\n",
        "        # Format Web results\n",
        "        web_sources = \"\\\\n\\\\n\".join([\n",
        "            f\"--- Web Source [{i+1}]: {res.get('title', 'N/A')} ---\\\\n{res.get('content', 'N/A')}\"\n",
        "            for i, res in enumerate(web_results)\n",
        "        ])\n",
        "        \n",
        "        # Format Direct Answer (if any)\n",
        "        direct_answer_context = f\"Tavily suggested direct answer: {direct_answer}\" if direct_answer else \"No direct answer suggested by Tavily.\"\n",
        "\n",
        "        sources_for_prompt = f\"ArXiv Extracts:\\n{arxiv_sources}\\n\\nWeb Search Results:\\n{web_sources}\\n\\n{direct_answer_context}\"\n",
        "        displayed_sources = sources_for_prompt # Show both in logs\n",
        "\n",
        "        prompt_template = \"\"\"\n",
        "        You are a knowledgeable research assistant synthesizing information from both academic papers and web search results.\n",
        "\n",
        "        Task: Answer the user's question comprehensively using ONLY the provided information. Integrate findings, prioritizing ArXiv for core concepts/theory and web search for recent developments, examples, or general context.\n",
        "\n",
        "        Question:\n",
        "        {question}\n",
        "\n",
        "        Conversation History:\n",
        "        {conversation_history}\n",
        "\n",
        "        Information Sources:\n",
        "        {sources}\n",
        "\n",
        "        Instructions:\n",
        "        1. Carefully read and understand all provided ArXiv extracts and web search results.\n",
        "        2. Synthesize a coherent and comprehensive answer addressing the question.\n",
        "        3. Structure the response logically (e.g., introduction, key points from ArXiv, relevant web context/examples, conclusion). Use markdown formatting (headers, lists, bolding) for readability.\n",
        "        4. **Crucially, cite your sources accurately within the text**:\n",
        "            - For ArXiv info: Use (Author et al., Page X) or (Source: Document Source) if author/page unknown.\n",
        "            - For Web info: Use [Web Source 1], [Web Source 2], etc., corresponding to the numbers provided.\n",
        "        5. If the provided information is insufficient or contradictory, state that clearly.\n",
        "        6. DO NOT include information not present in the sources. Base the entire answer strictly on the provided text.\n",
        "        7. Consider the `direct_answer` suggestion from Tavily but verify against the full web results before incorporating its content.\n",
        "\n",
        "        Synthesized Answer:\n",
        "        \"\"\"\n",
        "\n",
        "    elif arxiv_results:\n",
        "        print(boxen(f\"Synthesizing from ArXiv Results\", title=\">>> Synthesize Answer Node\", color=\"blue\", padding=(1, 2)))\n",
        "        source_type = \"ArXiv Papers\"\n",
        "        sources_for_prompt = \"\\\\n\\\\n\".join([\n",
        "            f\"--- Document: {d.metadata.get('source', 'Unknown')} (Page {d.metadata.get('page', 'N/A')}) ---\\\\n{d.page_content}\"\n",
        "            for d in arxiv_results\n",
        "        ])\n",
        "        displayed_sources = sources_for_prompt\n",
        "        prompt_template = \"\"\"\n",
        "        You are a knowledgeable research assistant specializing in mathematical theory and scientific literature analysis.\n",
        "        Your goal is to generate clean, formatted responses to user questions based solely on the provided ArXiv sources.\n",
        "\n",
        "        Question:\n",
        "        {question}\n",
        "\n",
        "        Relevant Extracts from ArXiv Papers:\n",
        "        {sources}\n",
        "\n",
        "        Conversation History:\n",
        "        {conversation_history}\n",
        "\n",
        "        Instructions for Synthesizing the Answer:\n",
        "        1. Read the extracts thoroughly and understand the concepts.\n",
        "        2. Answer the question comprehensively using ONLY the provided context.\n",
        "        3. Organize the response into the following markdown sections (if applicable):\n",
        "              - Summary\n",
        "              - Key Concepts\n",
        "              - Theoretical Results\n",
        "              - Implications / Applications\n",
        "        4. Cite from the paper in the format: (Author et al., Page X). If page number is unknown, write: (Author et al.).\n",
        "        5. Avoid repetition, excessive formal tone, or generic commentary. Be clear and concise.\n",
        "        6. If the provided text lacks enough detail to answer, state it clearly and suggest what additional info is needed.\n",
        "\n",
        "        Now, write a well-structured, markdown-formatted answer to the question and it should be in a readable format as well.\n",
        "        \n",
        "        Your answer:\n",
        "        \"\"\"\n",
        "    elif web_results:\n",
        "        print(boxen(f\"Synthesizing from Web Results\", title=\">>> Synthesize Answer Node\", color=\"blue\", padding=(1, 2)))\n",
        "        source_type = \"Web Search Results\"\n",
        "        web_sources = \"\\\\n\\\\n\".join([\n",
        "            f\"--- Web Source [{i+1}]: {res.get('title', 'N/A')} ---\\\\n{res.get('content', 'N/A')}\"\n",
        "            for i, res in enumerate(web_results)\n",
        "        ])\n",
        "        direct_answer_context = f\"Tavily suggested direct answer: {direct_answer}\" if direct_answer else \"No direct answer suggested by Tavily.\"\n",
        "\n",
        "        sources_for_prompt = f\"Web Search Results:\\n{web_sources}\\n\\n{direct_answer_context}\"\n",
        "        displayed_sources = sources_for_prompt\n",
        "\n",
        "        prompt_template = \"\"\"\n",
        "        You are a knowledgeable research assistant providing accurate information based on web search results.\n",
        "\n",
        "        Question: {question}\n",
        "        \n",
        "        Here are relevant web search results:\n",
        "            {sources}\n",
        "\n",
        "        Conversation History: {conversation_history}\n",
        "\n",
        "        Instructions:\n",
        "        1. Synthesize a comprehensive answer using ONLY the information provided above.\n",
        "        2. Cite sources using [1], [2], etc. corresponding to the source numbers above.\n",
        "        3. Consider the `direct_answer` suggestion from Tavily but verify against the full web results before incorporating its content.\n",
        "        4. If the search results don't contain sufficient information, acknowledge the limitations.\n",
        "        5. DO NOT make up information not present in the sources. \n",
        "        6. Include only facts supported by the sources.\n",
        "        7. Use markdown formatting for readability.\n",
        "\n",
        "        Your answer:\n",
        "        \"\"\"\n",
        "    else:\n",
        "        print(\"No relevant information found to synthesize answer.\")\n",
        "        source_type = \"None\"\n",
        "        final_answer = \"I could not find relevant information from ArXiv or web search to answer your question based on the available documents.\"\n",
        "\n",
        "    # 2. Perform Synthesis (if sources found)\n",
        "    if source_type != \"None\":\n",
        "        # print(f\"\\n\\n=== Retrieved chunks from {source_type} ===\")\n",
        "        # print(displayed_sources)\n",
        "        # print(\"=\"*80)\n",
        "\n",
        "        synthesis_prompt = ChatPromptTemplate.from_template(prompt_template)\n",
        "        chain = synthesis_prompt | llm | StrOutputParser()\n",
        "\n",
        "        response = chain.invoke({\n",
        "            \"question\": question,\n",
        "            \"sources\": sources_for_prompt,\n",
        "            \"conversation_history\": conversation_history\n",
        "        })\n",
        "        final_answer = response\n",
        "\n",
        "        # 3. Add URL Citations if Web Results were used\n",
        "        if source_type in [\"Web Search Results\", \"Combined ArXiv and Web\"]:\n",
        "            if web_results: # Ensure web_results is not None/empty\n",
        "                url_citations = \"\\n\\n**Web Sources:**\\n\" + \"\\n\".join([\n",
        "                    f\"[{i+1}] {res.get('url', 'URL not available')}\"\n",
        "                    for i, res in enumerate(web_results)\n",
        "                ])\n",
        "                final_answer += url_citations\n",
        "\n",
        "    # 4. Format Final Output\n",
        "    formatted_output = f\"\"\"## Context\n",
        "**Question:** {question}\n",
        "**Source(s) Used:** {source_type}\n",
        "\n",
        "## Response\n",
        "{final_answer}\n",
        "\"\"\"\n",
        "\n",
        "    return {\"answer\": formatted_output}"
      ]
    },
    {
      "cell_type": "markdown",
      "metadata": {
        "id": "ePSZSMQBiaMC"
      },
      "source": [
        "## 7. Conversation Memory Node\n",
        "\n",
        "This node **manages conversation history** to provide context for **multi-turn interactions**.\n",
        "\n",
        "- **Stores** previous Q&A\n",
        "- **Updates** the state with the current interaction\n",
        "- **Maintains** a sliding window of relevant history\n"
      ]
    },
    {
      "cell_type": "code",
      "execution_count": 11,
      "metadata": {
        "id": "Pgefbaa_eAfZ"
      },
      "outputs": [],
      "source": [
        "# Initialize conversation memory\n",
        "\n",
        "def update_memory_node(state: AgentState) -> dict:\n",
        "    \"\"\"\n",
        "    Updates the conversation memory with the current Q&A pair.\n",
        "\n",
        "    Args:\n",
        "        state: Current state with question and answer\n",
        "\n",
        "    Returns:\n",
        "        Updated state with new conversation_history\n",
        "    \"\"\"\n",
        "    # Save the current interaction to memory\n",
        "    memory = state['memory']\n",
        "    memory.save_context(\n",
        "        {\"question\": state[\"question\"]},\n",
        "        {\"answer\": state[\"answer\"]}\n",
        "    )\n",
        "\n",
        "    # Return the updated state\n",
        "    return {\"conversation_history\": memory.load_memory_variables({}).get(\"history\", \"\")}\n"
      ]
    },
    {
      "cell_type": "markdown",
      "metadata": {
        "id": "CxKEeu64iglN"
      },
      "source": [
        "# Workflow State Graph Setup\n",
        "\n",
        "## Overview\n",
        "This section sets up the **LangGraph state machine** for managing the conversational agent’s workflow. It defines how user queries are processed step-by-step using modular nodes.\n",
        "\n",
        "---\n",
        "\n",
        "## Purpose\n",
        "To create a graph-based control flow that determines how the agent processes input, performs retrieval, synthesizes responses, updates memory, and eventually ends the workflow.\n",
        "\n",
        "---\n",
        "\n",
        "## Key Components\n",
        "\n",
        "### 1. **Workflow Initialization**\n",
        "- A new `StateGraph` is initialized with the `AgentState` type, defining the structure of the workflow.\n",
        "\n",
        "### 2. **Node Definitions**\n",
        "The graph is composed of several functional nodes, each responsible for a specific task:\n",
        "- **router**: Determines whether to fetch data from the web or ArXiv.\n",
        "- **arxiv_retrieval**: Retrieves relevant research papers from ArXiv.\n",
        "- **web_search**: Retrieves web results via Tavily.\n",
        "- **synthesize**: Synthesizes a final answer from the retrieved information.\n",
        "- **update_memory**: Stores the interaction context for future turns.\n",
        "\n",
        "### 3. **Entry Point**\n",
        "- The `router` node is set as the initial entry point for the graph, meaning every workflow starts with routing logic.\n",
        "\n",
        "### 4. **Conditional Routing**\n",
        "- A conditional edge is established from `router` based on the `\"next\"` field in the state:\n",
        "  - If `\"next\"` is `\"web_search\"`, it routes to the `web_search` node.\n",
        "  - If `\"next\"` is `\"arxiv_retrieval\"`, it routes to the `arxiv_retrieval` node.\n",
        "\n",
        "### 5. **Workflow Sequence**\n",
        "The following fixed transitions define the remainder of the workflow:\n",
        "- From either `web_search` or `arxiv_retrieval` → go to `synthesize`\n",
        "- From `synthesize` → go to `update_memory`\n",
        "- From `update_memory` → reach `END` (completion of the flow)"
      ]
    },
    {
      "cell_type": "code",
      "execution_count": 12,
      "metadata": {
        "id": "BRYbjFhHeEZt"
      },
      "outputs": [],
      "source": [
        "# Create the workflow state graph\n",
        "workflow = StateGraph(AgentState)\n",
        "\n",
        "# Add all nodes back to the graph\n",
        "workflow.add_node(\"router\", router_node)\n",
        "workflow.add_node(\"arxiv_retrieval\", arxiv_retrieval_node)\n",
        "workflow.add_node(\"web_search\", web_search_node)\n",
        "workflow.add_node(\"synthesize\", synthesize_answer_node)\n",
        "workflow.add_node(\"update_memory\", update_memory_node)\n",
        "\n",
        "# Set entry point\n",
        "workflow.set_entry_point(\"router\")\n",
        "\n",
        "# --- Define Conditional Edges ---\n",
        "\n",
        "# 1. Edges from the Router\n",
        "workflow.add_conditional_edges(\n",
        "    \"router\",\n",
        "    # Function to decide which path to take based on the routing decision\n",
        "    lambda state: state[\"routing_decision\"],\n",
        "    # Mapping: decision -> target node\n",
        "    {\n",
        "        \"arxiv\": \"arxiv_retrieval\",\n",
        "        \"web\": \"web_search\",\n",
        "        \"both\": \"arxiv_retrieval\" # Start with ArXiv if \"both\"\n",
        "    }\n",
        ")\n",
        "\n",
        "# 2. Edges from ArXiv Retrieval\n",
        "workflow.add_conditional_edges(\n",
        "    \"arxiv_retrieval\",\n",
        "    # Function to decide based on the 'next_node' key set within arxiv_retrieval_node\n",
        "    lambda state: state.get(\"next_node\", \"synthesize\"), # Default to synthesize if key missing\n",
        "    {\n",
        "        \"web_search\": \"web_search\",\n",
        "        \"synthesize\": \"synthesize\"\n",
        "    }\n",
        ")\n",
        "\n",
        "# 3. Edge from Web Search (always goes to synthesize)\n",
        "workflow.add_edge(\"web_search\", \"synthesize\")\n",
        "\n",
        "# 4. Edges from Synthesize and Update Memory\n",
        "workflow.add_edge(\"synthesize\", \"update_memory\")\n",
        "workflow.add_edge(\"update_memory\", END)\n",
        "\n",
        "# --- Compile the graph ---\n",
        "app = workflow.compile()"
      ]
    },
    {
      "cell_type": "code",
      "execution_count": 13,
      "metadata": {
        "colab": {
          "base_uri": "https://localhost:8080/",
          "height": 603
        },
        "id": "3pkhue9nKX3A",
        "outputId": "c7a347b3-d22e-4991-dc31-1b8d283e266b"
      },
      "outputs": [
        {
          "name": "stderr",
          "output_type": "stream",
          "text": [
            "/Users/me/miniforge3/envs/maven-course/lib/python3.10/site-packages/pydantic/_internal/_generate_schema.py:623: UserWarning: <built-in function any> is not a Python type (it may be an instance of an object), Pydantic will allow any object with no validation since we cannot even enforce that the input is an instance of the given type. To get rid of this error wrap the type with `pydantic.SkipValidation`.\n",
            "  warn(\n"
          ]
        },
        {
          "data": {
            "image/png": "[encoded data removed]",
            "text/plain": [
              "<IPython.core.display.Image object>"
            ]
          },
          "metadata": {},
          "output_type": "display_data"
        }
      ],
      "source": [
        "# Optional: Display the new graph structure\n",
        "from IPython.display import Image, display\n",
        "display(Image(app.get_graph(xray=True).draw_mermaid_png()))"
      ]
    },
    {
      "cell_type": "markdown",
      "metadata": {
        "id": "0m4TP3xSioHc"
      },
      "source": [
        "## 9. Testing the System\n",
        "\n",
        "Let's **test our system** with different types of questions:\n",
        "\n",
        "- **Questions answerable** from ArXiv papers\n",
        "- **Questions requiring** web search\n",
        "- **Follow-up questions** to test memory\n"
      ]
    },
    {
      "cell_type": "code",
      "execution_count": 21,
      "metadata": {
        "colab": {
          "base_uri": "https://localhost:8080/"
        },
        "id": "HgjgGd6EJOJO",
        "outputId": "a002fe3e-5370-4674-bfdd-068d568bbf0b"
      },
      "outputs": [
        {
          "name": "stdout",
          "output_type": "stream",
          "text": [
            "Clearing memory before initial state creation.\n",
            "Initial State Prepared (Memory Cleared):\n",
            "{'question': None, 'routing_decision': None, 'arxiv_results': None, 'web_results': None, 'direct_answer': None, 'answer': '', 'conversation_history': '', 'memory': ConversationBufferMemory(chat_memory=InMemoryChatMessageHistory(messages=[]), output_key='answer', input_key='question'), 'next_node': None}\n"
          ]
        }
      ],
      "source": [
        "memory = ConversationBufferMemory(return_messages=False, output_key=\"answer\", input_key=\"question\")\n",
        "\n",
        "# *** CLEAR MEMORY HERE (Optional, but ensures clean start) ***\n",
        "print(\"Clearing memory before initial state creation.\")\n",
        "memory.clear()\n",
        "\n",
        "initial_state = {\n",
        "    \"question\": None,\n",
        "    \"routing_decision\": None, # Initialize new state field\n",
        "    \"arxiv_results\": None,\n",
        "    \"web_results\": None,\n",
        "    \"direct_answer\": None,\n",
        "    \"answer\": \"\",\n",
        "    \"conversation_history\": memory.load_memory_variables({}).get(\"history\", \"\"),\n",
        "    \"memory\": memory,\n",
        "    \"next_node\": None # Initialize helper key\n",
        "}\n",
        "print(\"Initial State Prepared (Memory Cleared):\")\n",
        "print(initial_state)"
      ]
    },
    {
      "cell_type": "code",
      "execution_count": 22,
      "metadata": {
        "id": "gFoxsXLWeHSv"
      },
      "outputs": [],
      "source": [
        "def ask(app, question: str, state: AgentState):\n",
        "    \"\"\"\n",
        "    Ask a question to the agentic RAG system and print result details.\n",
        "\n",
        "    Args:\n",
        "        app: The compiled LangGraph application.\n",
        "        question: User's question.\n",
        "        state: The current AgentState dictionary (will be updated).\n",
        "\n",
        "    Returns:\n",
        "        The final AgentState dictionary after workflow invocation.\n",
        "    \"\"\"\n",
        "    # Invoke the workflow\n",
        "    state['question'] = question\n",
        "    \n",
        "    # Ensure conversation history is loaded for this turn\n",
        "    state['conversation_history'] = state['memory'].load_memory_variables({}).get(\"history\", \"\")\n",
        "\n",
        "    print(f\"\\n{'='*30} NEW QUERY {'='*30}\")\n",
        "    print(boxen(f\"Processing question: {question}\", title=\">>> Input\", color=\"yellow\", padding=1))\n",
        "\n",
        "    # Invoke the workflow\n",
        "    # Note: The 'state' dictionary is mutable and gets updated by the graph nodes\n",
        "    result = app.invoke(state)\n",
        "    \n",
        "    found_arxiv = result.get(\"arxiv_results\") and len(result[\"arxiv_results\"]) > 0\n",
        "    found_web = result.get(\"web_results\") and len(result[\"web_results\"]) > 0\n",
        "\n",
        "    # # Print ArXiv results count if found\n",
        "    # if found_arxiv:\n",
        "    #     arxiv_count = len(result[\"arxiv_results\"])\n",
        "    #     print(boxen(f\"Found {arxiv_count} ArXiv results\", title=\">>> ArXiv Results\", color=\"magenta\", padding=1))\n",
        "    \n",
        "    # # Print Web results count if found (independent of ArXiv)\n",
        "    # if found_web:\n",
        "    #     web_count = len(result[\"web_results\"])\n",
        "    #     print(boxen(f\"Found {web_count} Web results\", title=\">>> Web Results\", color=\"cyan\", padding=1))\n",
        "    \n",
        "    # Print \"No results\" only if NEITHER was found\n",
        "    if not found_arxiv and not found_web:\n",
        "        print(boxen(\"No relevant information found from any source\", title=\">>> Results\", color=\"red\", padding=1))\n",
        "\n",
        "    # Print the final synthesized answer\n",
        "    # The answer content itself should indicate which sources were used based on the synthesize_node logic\n",
        "    print(boxen(result[\"answer\"], title=\">>> Final Answer\", color=\"green\", padding=(1, 2)))\n",
        "    print(f\"{'='*30} QUERY END {'='*30}\\n\")\n",
        "\n",
        "    # Return the final state which includes the updated memory, answer, etc.\n",
        "    return result"
      ]
    },
    {
      "cell_type": "code",
      "execution_count": 25,
      "metadata": {
        "colab": {
          "base_uri": "https://localhost:8080/",
          "height": 1000
        },
        "id": "b0Ps7Nw1exMl",
        "outputId": "5c4f1559-6c79-4882-873a-53d4a177225a"
      },
      "outputs": [
        {
          "name": "stdout",
          "output_type": "stream",
          "text": [
            "\n",
            "============================== NEW QUERY ==============================\n"
          ]
        },
        {
          "data": {
            "text/html": [
              "<pre style=\"white-space:pre;overflow-x:auto;line-height:normal;font-family:Menlo,'DejaVu Sans Mono',consolas,'Courier New',monospace\"></pre>\n"
            ],
            "text/plain": []
          },
          "metadata": {},
          "output_type": "display_data"
        },
        {
          "name": "stdout",
          "output_type": "stream",
          "text": [
            "\u001b[33m╭─\u001b[0m\u001b[33m >>> Input \u001b[0m\u001b[33m────────────────────────────────────────────────────────────────────────────────────────────────────\u001b[0m\u001b[33m─╮\u001b[0m\n",
            "\u001b[33m│\u001b[0m                                                                                                                 \u001b[33m│\u001b[0m\n",
            "\u001b[33m│\u001b[0m   Processing question: Explain the most recent techniques used in software refactoring. Support it with the     \u001b[33m│\u001b[0m\n",
            "\u001b[33m│\u001b[0m   online examples                                                                                               \u001b[33m│\u001b[0m\n",
            "\u001b[33m│\u001b[0m                                                                                                                 \u001b[33m│\u001b[0m\n",
            "\u001b[33m╰─────────────────────────────────────────────────────────────────────────────────────────────────────────────────╯\u001b[0m\n",
            "\n"
          ]
        },
        {
          "data": {
            "text/html": [
              "<pre style=\"white-space:pre;overflow-x:auto;line-height:normal;font-family:Menlo,'DejaVu Sans Mono',consolas,'Courier New',monospace\"></pre>\n"
            ],
            "text/plain": []
          },
          "metadata": {},
          "output_type": "display_data"
        },
        {
          "name": "stdout",
          "output_type": "stream",
          "text": [
            "\u001b[34m╭─\u001b[0m\u001b[34m >>> Router Node \u001b[0m\u001b[34m──────────\u001b[0m\u001b[34m─╮\u001b[0m                                                                                    \n",
            "\u001b[34m│\u001b[0m                             \u001b[34m│\u001b[0m                                                                                    \n",
            "\u001b[34m│\u001b[0m  Router raw decision: both  \u001b[34m│\u001b[0m                                                                                    \n",
            "\u001b[34m│\u001b[0m                             \u001b[34m│\u001b[0m                                                                                    \n",
            "\u001b[34m╰─────────────────────────────╯\u001b[0m                                                                                    \n",
            "\n"
          ]
        },
        {
          "data": {
            "text/html": [
              "<pre style=\"white-space:pre;overflow-x:auto;line-height:normal;font-family:Menlo,'DejaVu Sans Mono',consolas,'Courier New',monospace\"></pre>\n"
            ],
            "text/plain": []
          },
          "metadata": {},
          "output_type": "display_data"
        },
        {
          "name": "stdout",
          "output_type": "stream",
          "text": [
            "\u001b[33m╭─\u001b[0m\u001b[33m >>> ArXivProcessor \u001b[0m\u001b[33m───────────────────────────\u001b[0m\u001b[33m─╮\u001b[0m                                                                \n",
            "\u001b[33m│\u001b[0m                                                 \u001b[33m│\u001b[0m                                                                \n",
            "\u001b[33m│\u001b[0m   Found 5 relevant chunks above threshold 0.5   \u001b[33m│\u001b[0m                                                                \n",
            "\u001b[33m│\u001b[0m                                                 \u001b[33m│\u001b[0m                                                                \n",
            "\u001b[33m╰─────────────────────────────────────────────────╯\u001b[0m                                                                \n",
            "\n"
          ]
        },
        {
          "data": {
            "text/html": [
              "<pre style=\"white-space:pre;overflow-x:auto;line-height:normal;font-family:Menlo,'DejaVu Sans Mono',consolas,'Courier New',monospace\"></pre>\n"
            ],
            "text/plain": []
          },
          "metadata": {},
          "output_type": "display_data"
        },
        {
          "name": "stdout",
          "output_type": "stream",
          "text": [
            "\u001b[34m╭─\u001b[0m\u001b[34m >>> ArXiv Retrieval Node \u001b[0m\u001b[34m──────\u001b[0m\u001b[34m─╮\u001b[0m                                                                               \n",
            "\u001b[34m│\u001b[0m                                  \u001b[34m│\u001b[0m                                                                               \n",
            "\u001b[34m│\u001b[0m  Found 5 relevant ArXiv chunks.  \u001b[34m│\u001b[0m                                                                               \n",
            "\u001b[34m│\u001b[0m                                  \u001b[34m│\u001b[0m                                                                               \n",
            "\u001b[34m╰──────────────────────────────────╯\u001b[0m                                                                               \n",
            "\n"
          ]
        },
        {
          "data": {
            "text/html": [
              "<pre style=\"white-space:pre;overflow-x:auto;line-height:normal;font-family:Menlo,'DejaVu Sans Mono',consolas,'Courier New',monospace\"></pre>\n"
            ],
            "text/plain": []
          },
          "metadata": {},
          "output_type": "display_data"
        },
        {
          "name": "stdout",
          "output_type": "stream",
          "text": [
            "\u001b[32m╭─\u001b[0m\u001b[32m >>> Routing \u001b[0m\u001b[32m────────────────────────────────────────────────\u001b[0m\u001b[32m─╮\u001b[0m                                                  \n",
            "\u001b[32m│\u001b[0m                                                               \u001b[32m│\u001b[0m                                                  \n",
            "\u001b[32m│\u001b[0m  Routing decision was 'both', proceeding to Web Search next.  \u001b[32m│\u001b[0m                                                  \n",
            "\u001b[32m│\u001b[0m                                                               \u001b[32m│\u001b[0m                                                  \n",
            "\u001b[32m╰───────────────────────────────────────────────────────────────╯\u001b[0m                                                  \n",
            "\n"
          ]
        },
        {
          "data": {
            "text/html": [
              "<pre style=\"white-space:pre;overflow-x:auto;line-height:normal;font-family:Menlo,'DejaVu Sans Mono',consolas,'Courier New',monospace\"></pre>\n"
            ],
            "text/plain": []
          },
          "metadata": {},
          "output_type": "display_data"
        },
        {
          "name": "stdout",
          "output_type": "stream",
          "text": [
            "\u001b[34m╭─\u001b[0m\u001b[34m >>> Web Search Node \u001b[0m\u001b[34m──────────────────────\u001b[0m\u001b[34m─╮\u001b[0m                                                                    \n",
            "\u001b[34m│\u001b[0m                                             \u001b[34m│\u001b[0m                                                                    \n",
            "\u001b[34m│\u001b[0m  Found 5 web results. Direct answer found.  \u001b[34m│\u001b[0m                                                                    \n",
            "\u001b[34m│\u001b[0m                                             \u001b[34m│\u001b[0m                                                                    \n",
            "\u001b[34m╰─────────────────────────────────────────────╯\u001b[0m                                                                    \n",
            "\n"
          ]
        },
        {
          "data": {
            "text/html": [
              "<pre style=\"white-space:pre;overflow-x:auto;line-height:normal;font-family:Menlo,'DejaVu Sans Mono',consolas,'Courier New',monospace\"></pre>\n"
            ],
            "text/plain": []
          },
          "metadata": {},
          "output_type": "display_data"
        },
        {
          "name": "stdout",
          "output_type": "stream",
          "text": [
            "\u001b[34m╭─\u001b[0m\u001b[34m >>> Synthesize Answer Node \u001b[0m\u001b[34m──────────────────\u001b[0m\u001b[34m─╮\u001b[0m                                                                 \n",
            "\u001b[34m│\u001b[0m                                                \u001b[34m│\u001b[0m                                                                 \n",
            "\u001b[34m│\u001b[0m  Synthesizing from Both ArXiv and Web Results  \u001b[34m│\u001b[0m                                                                 \n",
            "\u001b[34m│\u001b[0m                                                \u001b[34m│\u001b[0m                                                                 \n",
            "\u001b[34m╰────────────────────────────────────────────────╯\u001b[0m                                                                 \n",
            "\n"
          ]
        },
        {
          "data": {
            "text/html": [
              "<pre style=\"white-space:pre;overflow-x:auto;line-height:normal;font-family:Menlo,'DejaVu Sans Mono',consolas,'Courier New',monospace\"></pre>\n"
            ],
            "text/plain": []
          },
          "metadata": {},
          "output_type": "display_data"
        },
        {
          "name": "stdout",
          "output_type": "stream",
          "text": [
            "\u001b[32m╭─\u001b[0m\u001b[32m >>> Final Answer \u001b[0m\u001b[32m─────────────────────────────────────────────────────────────────────────────────────────────\u001b[0m\u001b[32m─╮\u001b[0m\n",
            "\u001b[32m│\u001b[0m                                                                                                                 \u001b[32m│\u001b[0m\n",
            "\u001b[32m│\u001b[0m  ## Context                                                                                                     \u001b[32m│\u001b[0m\n",
            "\u001b[32m│\u001b[0m  **Question:** Explain the most recent techniques used in software refactoring. Support it with the online      \u001b[32m│\u001b[0m\n",
            "\u001b[32m│\u001b[0m  examples                                                                                                       \u001b[32m│\u001b[0m\n",
            "\u001b[32m│\u001b[0m  **Source(s) Used:** Combined ArXiv and Web                                                                     \u001b[32m│\u001b[0m\n",
            "\u001b[32m│\u001b[0m                                                                                                                 \u001b[32m│\u001b[0m\n",
            "\u001b[32m│\u001b[0m  ## Response                                                                                                    \u001b[32m│\u001b[0m\n",
            "\u001b[32m│\u001b[0m  ## Recent Techniques in Software Refactoring                                                                   \u001b[32m│\u001b[0m\n",
            "\u001b[32m│\u001b[0m                                                                                                                 \u001b[32m│\u001b[0m\n",
            "\u001b[32m│\u001b[0m  Software refactoring is a crucial practice in software engineering aimed at improving code quality without     \u001b[32m│\u001b[0m\n",
            "\u001b[32m│\u001b[0m  altering its functionality. Recent advancements in this field have introduced innovative techniques that       \u001b[32m│\u001b[0m\n",
            "\u001b[32m│\u001b[0m  leverage modern technologies and methodologies. Below, we explore key techniques from both academic insights   \u001b[32m│\u001b[0m\n",
            "\u001b[32m│\u001b[0m  and practical examples.                                                                                        \u001b[32m│\u001b[0m\n",
            "\u001b[32m│\u001b[0m                                                                                                                 \u001b[32m│\u001b[0m\n",
            "\u001b[32m│\u001b[0m  ### Key Techniques from Academic Insights                                                                      \u001b[32m│\u001b[0m\n",
            "\u001b[32m│\u001b[0m                                                                                                                 \u001b[32m│\u001b[0m\n",
            "\u001b[32m│\u001b[0m  1. **AI-Driven Refactoring**: Recent research emphasizes the use of artificial intelligence, particularly      \u001b[32m│\u001b[0m\n",
            "\u001b[32m│\u001b[0m  machine learning and deep learning, to automate and enhance the refactoring process. This includes the         \u001b[32m│\u001b[0m\n",
            "\u001b[32m│\u001b[0m  application of Graph Neural Networks and large language models (LLMs) to generate and rank refactoring         \u001b[32m│\u001b[0m\n",
            "\u001b[32m│\u001b[0m  suggestions, improving maintainability and readability of codebases (Source: ArXiv Document).                  \u001b[32m│\u001b[0m\n",
            "\u001b[32m│\u001b[0m                                                                                                                 \u001b[32m│\u001b[0m\n",
            "\u001b[32m│\u001b[0m  2. **Higher-Level Abstraction Refactoring**: Researchers are increasingly applying refactoring techniques      \u001b[32m│\u001b[0m\n",
            "\u001b[32m│\u001b[0m  beyond traditional source code. This includes refactoring at the database level, UML models, and other         \u001b[32m│\u001b[0m\n",
            "\u001b[32m│\u001b[0m  high-level abstractions. Techniques are being redefined to suit specific domains, which allows for more        \u001b[32m│\u001b[0m\n",
            "\u001b[32m│\u001b[0m  tailored and effective refactoring strategies (Web Source 2).                                                  \u001b[32m│\u001b[0m\n",
            "\u001b[32m│\u001b[0m                                                                                                                 \u001b[32m│\u001b[0m\n",
            "\u001b[32m│\u001b[0m  3. **Extraction Techniques**: Traditional extraction techniques, such as **Extract Method**, **Extract         \u001b[32m│\u001b[0m\n",
            "\u001b[32m│\u001b[0m  Class**, and **Extract Variable**, remain popular. These techniques involve breaking down complex code into    \u001b[32m│\u001b[0m\n",
            "\u001b[32m│\u001b[0m  smaller, more manageable units, thereby enhancing clarity and reducing complexity (Web Source 3, Web Source    \u001b[32m│\u001b[0m\n",
            "\u001b[32m│\u001b[0m  4).                                                                                                            \u001b[32m│\u001b[0m\n",
            "\u001b[32m│\u001b[0m                                                                                                                 \u001b[32m│\u001b[0m\n",
            "\u001b[32m│\u001b[0m  4. **Reinforcement Learning**: There is ongoing exploration into using reinforcement learning for code         \u001b[32m│\u001b[0m\n",
            "\u001b[32m│\u001b[0m  refactoring. This approach aims to automate the identification of code smells and suggest improvements,        \u001b[32m│\u001b[0m\n",
            "\u001b[32m│\u001b[0m  potentially leading to more efficient refactoring processes (Web Source 5).                                    \u001b[32m│\u001b[0m\n",
            "\u001b[32m│\u001b[0m                                                                                                                 \u001b[32m│\u001b[0m\n",
            "\u001b[32m│\u001b[0m  ### Practical Examples and Context                                                                             \u001b[32m│\u001b[0m\n",
            "\u001b[32m│\u001b[0m                                                                                                                 \u001b[32m│\u001b[0m\n",
            "\u001b[32m│\u001b[0m  1. **Automated Code Generation with LLMs**: A notable example is the EM-Assist plugin for IntelliJ IDEA,       \u001b[32m│\u001b[0m\n",
            "\u001b[32m│\u001b[0m  which utilizes LLMs to assist developers in generating refactored code suggestions. This tool employs          \u001b[32m│\u001b[0m\n",
            "\u001b[32m│\u001b[0m  few-shot prompting to facilitate move method refactoring and improve code modularization (Web Source 5).       \u001b[32m│\u001b[0m\n",
            "\u001b[32m│\u001b[0m                                                                                                                 \u001b[32m│\u001b[0m\n",
            "\u001b[32m│\u001b[0m  2. **Refactoring in Build Systems**: Techniques such as **Extract Module** and **Pull Up Method** are applied  \u001b[32m│\u001b[0m\n",
            "\u001b[32m│\u001b[0m  in build systems to enhance extensibility and maintainability. These methods help in organizing complex build  \u001b[32m│\u001b[0m\n",
            "\u001b[32m│\u001b[0m  files into smaller, modular units, making management easier and reducing the likelihood of errors during       \u001b[32m│\u001b[0m\n",
            "\u001b[32m│\u001b[0m  updates (Web Source 1).                                                                                        \u001b[32m│\u001b[0m\n",
            "\u001b[32m│\u001b[0m                                                                                                                 \u001b[32m│\u001b[0m\n",
            "\u001b[32m│\u001b[0m  3. **Refactoring for User Interfaces**: In user interface development, refactoring techniques are adapted to   \u001b[32m│\u001b[0m\n",
            "\u001b[32m│\u001b[0m  improve UI design while retaining functionality. This involves making structural changes to the UI components  \u001b[32m│\u001b[0m\n",
            "\u001b[32m│\u001b[0m  to enhance user experience (Web Source 2).                                                                     \u001b[32m│\u001b[0m\n",
            "\u001b[32m│\u001b[0m                                                                                                                 \u001b[32m│\u001b[0m\n",
            "\u001b[32m│\u001b[0m  ### Conclusion                                                                                                 \u001b[32m│\u001b[0m\n",
            "\u001b[32m│\u001b[0m                                                                                                                 \u001b[32m│\u001b[0m\n",
            "\u001b[32m│\u001b[0m  The landscape of software refactoring is evolving with the integration of AI and advanced methodologies.       \u001b[32m│\u001b[0m\n",
            "\u001b[32m│\u001b[0m  Techniques such as automated code generation using LLMs, higher-level abstraction refactoring, and             \u001b[32m│\u001b[0m\n",
            "\u001b[32m│\u001b[0m  traditional extraction methods are at the forefront of this evolution. As software complexity continues to     \u001b[32m│\u001b[0m\n",
            "\u001b[32m│\u001b[0m  grow, these innovative approaches will be vital in maintaining code quality and enhancing developer            \u001b[32m│\u001b[0m\n",
            "\u001b[32m│\u001b[0m  productivity.                                                                                                  \u001b[32m│\u001b[0m\n",
            "\u001b[32m│\u001b[0m                                                                                                                 \u001b[32m│\u001b[0m\n",
            "\u001b[32m│\u001b[0m  For further exploration, tools like EM-Assist and various extraction techniques provide practical              \u001b[32m│\u001b[0m\n",
            "\u001b[32m│\u001b[0m  applications of these concepts in real-world scenarios.                                                        \u001b[32m│\u001b[0m\n",
            "\u001b[32m│\u001b[0m                                                                                                                 \u001b[32m│\u001b[0m\n",
            "\u001b[32m│\u001b[0m  **Web Sources:**                                                                                               \u001b[32m│\u001b[0m\n",
            "\u001b[32m│\u001b[0m  [1] https://arxiv.org/html/2504.01907v1                                                                        \u001b[32m│\u001b[0m\n",
            "\u001b[32m│\u001b[0m  [2] https://deepblue.lib.umich.edu/bitstream/handle/2027.42/155872/30YRefactoring.pdf?sequence=4&isAllowed=y   \u001b[32m│\u001b[0m\n",
            "\u001b[32m│\u001b[0m  [3] https://densem.edu/HomePages/fulldisplay/464694/RefactoringImprovingTheDesignOfExistingCode.pdf            \u001b[32m│\u001b[0m\n",
            "\u001b[32m│\u001b[0m  [4]                                                                                                            \u001b[32m│\u001b[0m\n",
            "\u001b[32m│\u001b[0m  https://www.researchgate.net/figure/Top-10-refactoring-techniques-Extraction-techniques-are-quoted-as-a-techn  \u001b[32m│\u001b[0m\n",
            "\u001b[32m│\u001b[0m  ique-used-in-5_fig4_341050279                                                                                  \u001b[32m│\u001b[0m\n",
            "\u001b[32m│\u001b[0m  [5] https://arxiv.org/html/2412.18035v1                                                                        \u001b[32m│\u001b[0m\n",
            "\u001b[32m│\u001b[0m                                                                                                                 \u001b[32m│\u001b[0m\n",
            "\u001b[32m│\u001b[0m                                                                                                                 \u001b[32m│\u001b[0m\n",
            "\u001b[32m╰─────────────────────────────────────────────────────────────────────────────────────────────────────────────────╯\u001b[0m\n",
            "\n",
            "============================== QUERY END ==============================\n",
            "\n"
          ]
        }
      ],
      "source": [
        "# Test with a question about quantum computing (should use ArXiv)\n",
        "# updated_state = ask(app, \"Explain quantum computing\", initial_state)\n",
        "\n",
        "# Test with a question about drawing (should use web)\n",
        "# updated_state = ask(app, \"Explain how to draw a cat\", initial_state)\n",
        "\n",
        "# Test with a question about latest techniques (should use both ArXiv and web)\n",
        "updated_state = ask(app, \"Explain the most recent techniques used in software refactoring. Support it with the online examples\", initial_state)"
      ]
    },
    {
      "cell_type": "markdown",
      "metadata": {
        "id": "7TtHrxeMo1mr"
      },
      "source": [
        "## 🎓 Conclusion\n",
        "\n",
        "The Agentic RAG System with ArXiv + Web Fallback represents a powerful approach to information retrieval and synthesis, combining the best of both academic and real-time knowledge sources. By intelligently routing queries and maintaining conversation context, it provides:\n",
        "\n",
        "- **Comprehensive Answers**: Leveraging both academic papers and current web information\n",
        "- **Proper Attribution**: Ensuring all sources are properly cited\n",
        "- **Contextual Understanding**: Maintaining conversation history for coherent interactions\n",
        "- **Flexible Knowledge Access**: Adapting to different types of queries and information needs\n",
        "\n",
        "This system is particularly valuable for:\n",
        "- Researchers seeking both theoretical foundations and practical applications\n",
        "- Developers looking for up-to-date technical information\n",
        "- Students and professionals needing comprehensive, well-sourced answers\n",
        "- Anyone requiring a balance between academic rigor and current information\n",
        "\n",
        "The modular architecture and use of LangGraph make it easy to extend and adapt the system for specific use cases or additional knowledge sources."
      ]
    }
  ],
  "metadata": {
    "colab": {
      "gpuType": "T4",
      "provenance": []
    },
    "kernelspec": {
      "display_name": "maven-course",
      "language": "python",
      "name": "python3"
    },
    "language_info": {
      "codemirror_mode": {
        "name": "ipython",
        "version": 3
      },
      "file_extension": ".py",
      "mimetype": "text/x-python",
      "name": "python",
      "nbconvert_exporter": "python",
      "pygments_lexer": "ipython3",
      "version": "3.10.17"
    }
  },
  "nbformat": 4,
  "nbformat_minor": 0
}
